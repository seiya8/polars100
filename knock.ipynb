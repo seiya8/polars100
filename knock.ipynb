{
 "cells": [
  {
   "cell_type": "code",
   "execution_count": 1,
   "metadata": {},
   "outputs": [],
   "source": [
    "import polars as pl\n",
    "df_customer = pl.read_csv(\"./data/customer.csv\")\n",
    "df_category = pl.read_csv(\"./data/category.csv\")\n",
    "df_product = pl.read_csv(\"./data/product.csv\")\n",
    "df_receipt = pl.read_csv(\"./data/receipt.csv\")\n",
    "df_store = pl.read_csv(\"./data/store.csv\")\n",
    "df_geocode = pl.read_csv(\"./data/geocode.csv\")"
   ]
  },
  {
   "cell_type": "markdown",
   "metadata": {},
   "source": [
    "# 演習問題"
   ]
  },
  {
   "cell_type": "markdown",
   "metadata": {},
   "source": [
    "---\n",
    "> P-001: レシート明細データ（df_receipt）から全項目の先頭10件を表示し、どのようなデータを保有しているか目視で確認せよ。"
   ]
  },
  {
   "cell_type": "code",
   "execution_count": 2,
   "metadata": {},
   "outputs": [
    {
     "data": {
      "text/html": [
       "<div><style>\n",
       ".dataframe > thead > tr,\n",
       ".dataframe > tbody > tr {\n",
       "  text-align: right;\n",
       "  white-space: pre-wrap;\n",
       "}\n",
       "</style>\n",
       "<small>shape: (10, 9)</small><table border=\"1\" class=\"dataframe\"><thead><tr><th>sales_ymd</th><th>sales_epoch</th><th>store_cd</th><th>receipt_no</th><th>receipt_sub_no</th><th>customer_id</th><th>product_cd</th><th>quantity</th><th>amount</th></tr><tr><td>i64</td><td>i64</td><td>str</td><td>i64</td><td>i64</td><td>str</td><td>str</td><td>i64</td><td>i64</td></tr></thead><tbody><tr><td>20181103</td><td>1541203200</td><td>&quot;S14006&quot;</td><td>112</td><td>1</td><td>&quot;CS006214000001&quot;</td><td>&quot;P070305012&quot;</td><td>1</td><td>158</td></tr><tr><td>20181118</td><td>1542499200</td><td>&quot;S13008&quot;</td><td>1132</td><td>2</td><td>&quot;CS008415000097&quot;</td><td>&quot;P070701017&quot;</td><td>1</td><td>81</td></tr><tr><td>20170712</td><td>1499817600</td><td>&quot;S14028&quot;</td><td>1102</td><td>1</td><td>&quot;CS028414000014&quot;</td><td>&quot;P060101005&quot;</td><td>1</td><td>170</td></tr><tr><td>20190205</td><td>1549324800</td><td>&quot;S14042&quot;</td><td>1132</td><td>1</td><td>&quot;ZZ000000000000&quot;</td><td>&quot;P050301001&quot;</td><td>1</td><td>25</td></tr><tr><td>20180821</td><td>1534809600</td><td>&quot;S14025&quot;</td><td>1102</td><td>2</td><td>&quot;CS025415000050&quot;</td><td>&quot;P060102007&quot;</td><td>1</td><td>90</td></tr><tr><td>20190605</td><td>1559692800</td><td>&quot;S13003&quot;</td><td>1112</td><td>1</td><td>&quot;CS003515000195&quot;</td><td>&quot;P050102002&quot;</td><td>1</td><td>138</td></tr><tr><td>20181205</td><td>1543968000</td><td>&quot;S14024&quot;</td><td>1102</td><td>2</td><td>&quot;CS024514000042&quot;</td><td>&quot;P080101005&quot;</td><td>1</td><td>30</td></tr><tr><td>20190922</td><td>1569110400</td><td>&quot;S14040&quot;</td><td>1102</td><td>1</td><td>&quot;CS040415000178&quot;</td><td>&quot;P070501004&quot;</td><td>1</td><td>128</td></tr><tr><td>20170504</td><td>1493856000</td><td>&quot;S13020&quot;</td><td>1112</td><td>2</td><td>&quot;ZZ000000000000&quot;</td><td>&quot;P071302010&quot;</td><td>1</td><td>770</td></tr><tr><td>20191010</td><td>1570665600</td><td>&quot;S14027&quot;</td><td>1102</td><td>1</td><td>&quot;CS027514000015&quot;</td><td>&quot;P071101003&quot;</td><td>1</td><td>680</td></tr></tbody></table></div>"
      ],
      "text/plain": [
       "shape: (10, 9)\n",
       "┌───────────┬────────────┬──────────┬────────────┬───┬────────────┬────────────┬──────────┬────────┐\n",
       "│ sales_ymd ┆ sales_epoc ┆ store_cd ┆ receipt_no ┆ … ┆ customer_i ┆ product_cd ┆ quantity ┆ amount │\n",
       "│ ---       ┆ h          ┆ ---      ┆ ---        ┆   ┆ d          ┆ ---        ┆ ---      ┆ ---    │\n",
       "│ i64       ┆ ---        ┆ str      ┆ i64        ┆   ┆ ---        ┆ str        ┆ i64      ┆ i64    │\n",
       "│           ┆ i64        ┆          ┆            ┆   ┆ str        ┆            ┆          ┆        │\n",
       "╞═══════════╪════════════╪══════════╪════════════╪═══╪════════════╪════════════╪══════════╪════════╡\n",
       "│ 20181103  ┆ 1541203200 ┆ S14006   ┆ 112        ┆ … ┆ CS00621400 ┆ P070305012 ┆ 1        ┆ 158    │\n",
       "│           ┆            ┆          ┆            ┆   ┆ 0001       ┆            ┆          ┆        │\n",
       "│ 20181118  ┆ 1542499200 ┆ S13008   ┆ 1132       ┆ … ┆ CS00841500 ┆ P070701017 ┆ 1        ┆ 81     │\n",
       "│           ┆            ┆          ┆            ┆   ┆ 0097       ┆            ┆          ┆        │\n",
       "│ 20170712  ┆ 1499817600 ┆ S14028   ┆ 1102       ┆ … ┆ CS02841400 ┆ P060101005 ┆ 1        ┆ 170    │\n",
       "│           ┆            ┆          ┆            ┆   ┆ 0014       ┆            ┆          ┆        │\n",
       "│ 20190205  ┆ 1549324800 ┆ S14042   ┆ 1132       ┆ … ┆ ZZ00000000 ┆ P050301001 ┆ 1        ┆ 25     │\n",
       "│           ┆            ┆          ┆            ┆   ┆ 0000       ┆            ┆          ┆        │\n",
       "│ 20180821  ┆ 1534809600 ┆ S14025   ┆ 1102       ┆ … ┆ CS02541500 ┆ P060102007 ┆ 1        ┆ 90     │\n",
       "│           ┆            ┆          ┆            ┆   ┆ 0050       ┆            ┆          ┆        │\n",
       "│ 20190605  ┆ 1559692800 ┆ S13003   ┆ 1112       ┆ … ┆ CS00351500 ┆ P050102002 ┆ 1        ┆ 138    │\n",
       "│           ┆            ┆          ┆            ┆   ┆ 0195       ┆            ┆          ┆        │\n",
       "│ 20181205  ┆ 1543968000 ┆ S14024   ┆ 1102       ┆ … ┆ CS02451400 ┆ P080101005 ┆ 1        ┆ 30     │\n",
       "│           ┆            ┆          ┆            ┆   ┆ 0042       ┆            ┆          ┆        │\n",
       "│ 20190922  ┆ 1569110400 ┆ S14040   ┆ 1102       ┆ … ┆ CS04041500 ┆ P070501004 ┆ 1        ┆ 128    │\n",
       "│           ┆            ┆          ┆            ┆   ┆ 0178       ┆            ┆          ┆        │\n",
       "│ 20170504  ┆ 1493856000 ┆ S13020   ┆ 1112       ┆ … ┆ ZZ00000000 ┆ P071302010 ┆ 1        ┆ 770    │\n",
       "│           ┆            ┆          ┆            ┆   ┆ 0000       ┆            ┆          ┆        │\n",
       "│ 20191010  ┆ 1570665600 ┆ S14027   ┆ 1102       ┆ … ┆ CS02751400 ┆ P071101003 ┆ 1        ┆ 680    │\n",
       "│           ┆            ┆          ┆            ┆   ┆ 0015       ┆            ┆          ┆        │\n",
       "└───────────┴────────────┴──────────┴────────────┴───┴────────────┴────────────┴──────────┴────────┘"
      ]
     },
     "execution_count": 2,
     "metadata": {},
     "output_type": "execute_result"
    }
   ],
   "source": [
    "df_receipt.head(10)"
   ]
  },
  {
   "cell_type": "markdown",
   "metadata": {},
   "source": [
    "---\n",
    "> P-002: レシート明細データ（df_receipt）から売上年月日（sales_ymd）、顧客ID（customer_id）、商品コード（product_cd）、売上金額（amount）の順に列を指定し、10件表示せよ。"
   ]
  },
  {
   "cell_type": "code",
   "execution_count": 3,
   "metadata": {},
   "outputs": [
    {
     "data": {
      "text/html": [
       "<div><style>\n",
       ".dataframe > thead > tr,\n",
       ".dataframe > tbody > tr {\n",
       "  text-align: right;\n",
       "  white-space: pre-wrap;\n",
       "}\n",
       "</style>\n",
       "<small>shape: (10, 4)</small><table border=\"1\" class=\"dataframe\"><thead><tr><th>sales_ymd</th><th>customer_id</th><th>product_cd</th><th>amount</th></tr><tr><td>i64</td><td>str</td><td>str</td><td>i64</td></tr></thead><tbody><tr><td>20181103</td><td>&quot;CS006214000001&quot;</td><td>&quot;P070305012&quot;</td><td>158</td></tr><tr><td>20181118</td><td>&quot;CS008415000097&quot;</td><td>&quot;P070701017&quot;</td><td>81</td></tr><tr><td>20170712</td><td>&quot;CS028414000014&quot;</td><td>&quot;P060101005&quot;</td><td>170</td></tr><tr><td>20190205</td><td>&quot;ZZ000000000000&quot;</td><td>&quot;P050301001&quot;</td><td>25</td></tr><tr><td>20180821</td><td>&quot;CS025415000050&quot;</td><td>&quot;P060102007&quot;</td><td>90</td></tr><tr><td>20190605</td><td>&quot;CS003515000195&quot;</td><td>&quot;P050102002&quot;</td><td>138</td></tr><tr><td>20181205</td><td>&quot;CS024514000042&quot;</td><td>&quot;P080101005&quot;</td><td>30</td></tr><tr><td>20190922</td><td>&quot;CS040415000178&quot;</td><td>&quot;P070501004&quot;</td><td>128</td></tr><tr><td>20170504</td><td>&quot;ZZ000000000000&quot;</td><td>&quot;P071302010&quot;</td><td>770</td></tr><tr><td>20191010</td><td>&quot;CS027514000015&quot;</td><td>&quot;P071101003&quot;</td><td>680</td></tr></tbody></table></div>"
      ],
      "text/plain": [
       "shape: (10, 4)\n",
       "┌───────────┬────────────────┬────────────┬────────┐\n",
       "│ sales_ymd ┆ customer_id    ┆ product_cd ┆ amount │\n",
       "│ ---       ┆ ---            ┆ ---        ┆ ---    │\n",
       "│ i64       ┆ str            ┆ str        ┆ i64    │\n",
       "╞═══════════╪════════════════╪════════════╪════════╡\n",
       "│ 20181103  ┆ CS006214000001 ┆ P070305012 ┆ 158    │\n",
       "│ 20181118  ┆ CS008415000097 ┆ P070701017 ┆ 81     │\n",
       "│ 20170712  ┆ CS028414000014 ┆ P060101005 ┆ 170    │\n",
       "│ 20190205  ┆ ZZ000000000000 ┆ P050301001 ┆ 25     │\n",
       "│ 20180821  ┆ CS025415000050 ┆ P060102007 ┆ 90     │\n",
       "│ 20190605  ┆ CS003515000195 ┆ P050102002 ┆ 138    │\n",
       "│ 20181205  ┆ CS024514000042 ┆ P080101005 ┆ 30     │\n",
       "│ 20190922  ┆ CS040415000178 ┆ P070501004 ┆ 128    │\n",
       "│ 20170504  ┆ ZZ000000000000 ┆ P071302010 ┆ 770    │\n",
       "│ 20191010  ┆ CS027514000015 ┆ P071101003 ┆ 680    │\n",
       "└───────────┴────────────────┴────────────┴────────┘"
      ]
     },
     "execution_count": 3,
     "metadata": {},
     "output_type": "execute_result"
    }
   ],
   "source": [
    "df_receipt.select([\"sales_ymd\", \"customer_id\", \"product_cd\", \"amount\"]).head(10)"
   ]
  },
  {
   "cell_type": "markdown",
   "metadata": {},
   "source": [
    "---\n",
    "> P-003: レシート明細データ（df_receipt）から売上年月日（sales_ymd）、顧客ID（customer_id）、商品コード（product_cd）、売上金額（amount）の順に列を指定し、10件表示せよ。ただし、sales_ymdをsales_dateに項目名を変更して抽出すること。"
   ]
  },
  {
   "cell_type": "code",
   "execution_count": 4,
   "metadata": {},
   "outputs": [
    {
     "data": {
      "text/html": [
       "<div><style>\n",
       ".dataframe > thead > tr,\n",
       ".dataframe > tbody > tr {\n",
       "  text-align: right;\n",
       "  white-space: pre-wrap;\n",
       "}\n",
       "</style>\n",
       "<small>shape: (10, 4)</small><table border=\"1\" class=\"dataframe\"><thead><tr><th>sales_date</th><th>customer_id</th><th>product_cd</th><th>amount</th></tr><tr><td>i64</td><td>str</td><td>str</td><td>i64</td></tr></thead><tbody><tr><td>20181103</td><td>&quot;CS006214000001&quot;</td><td>&quot;P070305012&quot;</td><td>158</td></tr><tr><td>20181118</td><td>&quot;CS008415000097&quot;</td><td>&quot;P070701017&quot;</td><td>81</td></tr><tr><td>20170712</td><td>&quot;CS028414000014&quot;</td><td>&quot;P060101005&quot;</td><td>170</td></tr><tr><td>20190205</td><td>&quot;ZZ000000000000&quot;</td><td>&quot;P050301001&quot;</td><td>25</td></tr><tr><td>20180821</td><td>&quot;CS025415000050&quot;</td><td>&quot;P060102007&quot;</td><td>90</td></tr><tr><td>20190605</td><td>&quot;CS003515000195&quot;</td><td>&quot;P050102002&quot;</td><td>138</td></tr><tr><td>20181205</td><td>&quot;CS024514000042&quot;</td><td>&quot;P080101005&quot;</td><td>30</td></tr><tr><td>20190922</td><td>&quot;CS040415000178&quot;</td><td>&quot;P070501004&quot;</td><td>128</td></tr><tr><td>20170504</td><td>&quot;ZZ000000000000&quot;</td><td>&quot;P071302010&quot;</td><td>770</td></tr><tr><td>20191010</td><td>&quot;CS027514000015&quot;</td><td>&quot;P071101003&quot;</td><td>680</td></tr></tbody></table></div>"
      ],
      "text/plain": [
       "shape: (10, 4)\n",
       "┌────────────┬────────────────┬────────────┬────────┐\n",
       "│ sales_date ┆ customer_id    ┆ product_cd ┆ amount │\n",
       "│ ---        ┆ ---            ┆ ---        ┆ ---    │\n",
       "│ i64        ┆ str            ┆ str        ┆ i64    │\n",
       "╞════════════╪════════════════╪════════════╪════════╡\n",
       "│ 20181103   ┆ CS006214000001 ┆ P070305012 ┆ 158    │\n",
       "│ 20181118   ┆ CS008415000097 ┆ P070701017 ┆ 81     │\n",
       "│ 20170712   ┆ CS028414000014 ┆ P060101005 ┆ 170    │\n",
       "│ 20190205   ┆ ZZ000000000000 ┆ P050301001 ┆ 25     │\n",
       "│ 20180821   ┆ CS025415000050 ┆ P060102007 ┆ 90     │\n",
       "│ 20190605   ┆ CS003515000195 ┆ P050102002 ┆ 138    │\n",
       "│ 20181205   ┆ CS024514000042 ┆ P080101005 ┆ 30     │\n",
       "│ 20190922   ┆ CS040415000178 ┆ P070501004 ┆ 128    │\n",
       "│ 20170504   ┆ ZZ000000000000 ┆ P071302010 ┆ 770    │\n",
       "│ 20191010   ┆ CS027514000015 ┆ P071101003 ┆ 680    │\n",
       "└────────────┴────────────────┴────────────┴────────┘"
      ]
     },
     "execution_count": 4,
     "metadata": {},
     "output_type": "execute_result"
    }
   ],
   "source": [
    "df_receipt.select(pl.col(\"sales_ymd\").alias(\"sales_date\"), \"customer_id\", \"product_cd\", \"amount\").head(10)"
   ]
  },
  {
   "cell_type": "markdown",
   "metadata": {},
   "source": [
    "---\n",
    "> P-004: レシート明細データ（df_receipt）から売上日（sales_ymd）、顧客ID（customer_id）、商品コード（product_cd）、売上金額（amount）の順に列を指定し、以下の条件を満たすデータを抽出せよ。\n",
    "> - 顧客ID（customer_id）が\"CS018205000001\""
   ]
  },
  {
   "cell_type": "code",
   "execution_count": 5,
   "metadata": {},
   "outputs": [
    {
     "data": {
      "text/html": [
       "<div><style>\n",
       ".dataframe > thead > tr,\n",
       ".dataframe > tbody > tr {\n",
       "  text-align: right;\n",
       "  white-space: pre-wrap;\n",
       "}\n",
       "</style>\n",
       "<small>shape: (12, 4)</small><table border=\"1\" class=\"dataframe\"><thead><tr><th>sales_ymd</th><th>customer_id</th><th>product_cd</th><th>amount</th></tr><tr><td>i64</td><td>str</td><td>str</td><td>i64</td></tr></thead><tbody><tr><td>20180911</td><td>&quot;CS018205000001&quot;</td><td>&quot;P071401012&quot;</td><td>2200</td></tr><tr><td>20180414</td><td>&quot;CS018205000001&quot;</td><td>&quot;P060104007&quot;</td><td>600</td></tr><tr><td>20170614</td><td>&quot;CS018205000001&quot;</td><td>&quot;P050206001&quot;</td><td>990</td></tr><tr><td>20170614</td><td>&quot;CS018205000001&quot;</td><td>&quot;P060702015&quot;</td><td>108</td></tr><tr><td>20190216</td><td>&quot;CS018205000001&quot;</td><td>&quot;P071005024&quot;</td><td>102</td></tr><tr><td>&hellip;</td><td>&hellip;</td><td>&hellip;</td><td>&hellip;</td></tr><tr><td>20190924</td><td>&quot;CS018205000001&quot;</td><td>&quot;P060805001&quot;</td><td>495</td></tr><tr><td>20190226</td><td>&quot;CS018205000001&quot;</td><td>&quot;P071401020&quot;</td><td>2200</td></tr><tr><td>20180911</td><td>&quot;CS018205000001&quot;</td><td>&quot;P071401005&quot;</td><td>1100</td></tr><tr><td>20190216</td><td>&quot;CS018205000001&quot;</td><td>&quot;P040101002&quot;</td><td>218</td></tr><tr><td>20190924</td><td>&quot;CS018205000001&quot;</td><td>&quot;P091503001&quot;</td><td>280</td></tr></tbody></table></div>"
      ],
      "text/plain": [
       "shape: (12, 4)\n",
       "┌───────────┬────────────────┬────────────┬────────┐\n",
       "│ sales_ymd ┆ customer_id    ┆ product_cd ┆ amount │\n",
       "│ ---       ┆ ---            ┆ ---        ┆ ---    │\n",
       "│ i64       ┆ str            ┆ str        ┆ i64    │\n",
       "╞═══════════╪════════════════╪════════════╪════════╡\n",
       "│ 20180911  ┆ CS018205000001 ┆ P071401012 ┆ 2200   │\n",
       "│ 20180414  ┆ CS018205000001 ┆ P060104007 ┆ 600    │\n",
       "│ 20170614  ┆ CS018205000001 ┆ P050206001 ┆ 990    │\n",
       "│ 20170614  ┆ CS018205000001 ┆ P060702015 ┆ 108    │\n",
       "│ 20190216  ┆ CS018205000001 ┆ P071005024 ┆ 102    │\n",
       "│ …         ┆ …              ┆ …          ┆ …      │\n",
       "│ 20190924  ┆ CS018205000001 ┆ P060805001 ┆ 495    │\n",
       "│ 20190226  ┆ CS018205000001 ┆ P071401020 ┆ 2200   │\n",
       "│ 20180911  ┆ CS018205000001 ┆ P071401005 ┆ 1100   │\n",
       "│ 20190216  ┆ CS018205000001 ┆ P040101002 ┆ 218    │\n",
       "│ 20190924  ┆ CS018205000001 ┆ P091503001 ┆ 280    │\n",
       "└───────────┴────────────────┴────────────┴────────┘"
      ]
     },
     "execution_count": 5,
     "metadata": {},
     "output_type": "execute_result"
    }
   ],
   "source": [
    "df_receipt.select([\"sales_ymd\", \"customer_id\", \"product_cd\", \"amount\"]).filter(pl.col(\"customer_id\") == \"CS018205000001\")"
   ]
  },
  {
   "cell_type": "markdown",
   "metadata": {},
   "source": [
    "---\n",
    "> P-005: レシート明細データ（df_receipt）から売上日（sales_ymd）、顧客ID（customer_id）、商品コード（product_cd）、売上金額（amount）の順に列を指定し、以下の全ての条件を満たすデータを抽出せよ。\n",
    "> - 顧客ID（customer_id）が\"CS018205000001\"\n",
    "> - 売上金額（amount）が1,000以上"
   ]
  },
  {
   "cell_type": "code",
   "execution_count": 6,
   "metadata": {},
   "outputs": [
    {
     "data": {
      "text/html": [
       "<div><style>\n",
       ".dataframe > thead > tr,\n",
       ".dataframe > tbody > tr {\n",
       "  text-align: right;\n",
       "  white-space: pre-wrap;\n",
       "}\n",
       "</style>\n",
       "<small>shape: (3, 4)</small><table border=\"1\" class=\"dataframe\"><thead><tr><th>sales_ymd</th><th>customer_id</th><th>product_cd</th><th>amount</th></tr><tr><td>i64</td><td>str</td><td>str</td><td>i64</td></tr></thead><tbody><tr><td>20180911</td><td>&quot;CS018205000001&quot;</td><td>&quot;P071401012&quot;</td><td>2200</td></tr><tr><td>20190226</td><td>&quot;CS018205000001&quot;</td><td>&quot;P071401020&quot;</td><td>2200</td></tr><tr><td>20180911</td><td>&quot;CS018205000001&quot;</td><td>&quot;P071401005&quot;</td><td>1100</td></tr></tbody></table></div>"
      ],
      "text/plain": [
       "shape: (3, 4)\n",
       "┌───────────┬────────────────┬────────────┬────────┐\n",
       "│ sales_ymd ┆ customer_id    ┆ product_cd ┆ amount │\n",
       "│ ---       ┆ ---            ┆ ---        ┆ ---    │\n",
       "│ i64       ┆ str            ┆ str        ┆ i64    │\n",
       "╞═══════════╪════════════════╪════════════╪════════╡\n",
       "│ 20180911  ┆ CS018205000001 ┆ P071401012 ┆ 2200   │\n",
       "│ 20190226  ┆ CS018205000001 ┆ P071401020 ┆ 2200   │\n",
       "│ 20180911  ┆ CS018205000001 ┆ P071401005 ┆ 1100   │\n",
       "└───────────┴────────────────┴────────────┴────────┘"
      ]
     },
     "execution_count": 6,
     "metadata": {},
     "output_type": "execute_result"
    }
   ],
   "source": [
    "df_receipt \\\n",
    "    .select([\"sales_ymd\", \"customer_id\", \"product_cd\", \"amount\"]) \\\n",
    "    .filter((pl.col(\"customer_id\") == \"CS018205000001\") & (pl.col(\"amount\") >= 1000))"
   ]
  },
  {
   "cell_type": "markdown",
   "metadata": {},
   "source": [
    "---\n",
    "> P-006: レシート明細データ（df_receipt）から売上日（sales_ymd）、顧客ID（customer_id）、商品コード（product_cd）、売上数量（quantity）、売上金額（amount）の順に列を指定し、以下の全ての条件を満たすデータを抽出せよ。\n",
    "> - 顧客ID（customer_id）が\"CS018205000001\"\n",
    "> - 売上金額（amount）が1,000以上または売上数量（quantity）が5以上"
   ]
  },
  {
   "cell_type": "code",
   "execution_count": 7,
   "metadata": {},
   "outputs": [
    {
     "data": {
      "text/html": [
       "<div><style>\n",
       ".dataframe > thead > tr,\n",
       ".dataframe > tbody > tr {\n",
       "  text-align: right;\n",
       "  white-space: pre-wrap;\n",
       "}\n",
       "</style>\n",
       "<small>shape: (5, 5)</small><table border=\"1\" class=\"dataframe\"><thead><tr><th>sales_ymd</th><th>customer_id</th><th>product_cd</th><th>quantity</th><th>amount</th></tr><tr><td>i64</td><td>str</td><td>str</td><td>i64</td><td>i64</td></tr></thead><tbody><tr><td>20180911</td><td>&quot;CS018205000001&quot;</td><td>&quot;P071401012&quot;</td><td>1</td><td>2200</td></tr><tr><td>20180414</td><td>&quot;CS018205000001&quot;</td><td>&quot;P060104007&quot;</td><td>6</td><td>600</td></tr><tr><td>20170614</td><td>&quot;CS018205000001&quot;</td><td>&quot;P050206001&quot;</td><td>5</td><td>990</td></tr><tr><td>20190226</td><td>&quot;CS018205000001&quot;</td><td>&quot;P071401020&quot;</td><td>1</td><td>2200</td></tr><tr><td>20180911</td><td>&quot;CS018205000001&quot;</td><td>&quot;P071401005&quot;</td><td>1</td><td>1100</td></tr></tbody></table></div>"
      ],
      "text/plain": [
       "shape: (5, 5)\n",
       "┌───────────┬────────────────┬────────────┬──────────┬────────┐\n",
       "│ sales_ymd ┆ customer_id    ┆ product_cd ┆ quantity ┆ amount │\n",
       "│ ---       ┆ ---            ┆ ---        ┆ ---      ┆ ---    │\n",
       "│ i64       ┆ str            ┆ str        ┆ i64      ┆ i64    │\n",
       "╞═══════════╪════════════════╪════════════╪══════════╪════════╡\n",
       "│ 20180911  ┆ CS018205000001 ┆ P071401012 ┆ 1        ┆ 2200   │\n",
       "│ 20180414  ┆ CS018205000001 ┆ P060104007 ┆ 6        ┆ 600    │\n",
       "│ 20170614  ┆ CS018205000001 ┆ P050206001 ┆ 5        ┆ 990    │\n",
       "│ 20190226  ┆ CS018205000001 ┆ P071401020 ┆ 1        ┆ 2200   │\n",
       "│ 20180911  ┆ CS018205000001 ┆ P071401005 ┆ 1        ┆ 1100   │\n",
       "└───────────┴────────────────┴────────────┴──────────┴────────┘"
      ]
     },
     "execution_count": 7,
     "metadata": {},
     "output_type": "execute_result"
    }
   ],
   "source": [
    "df_receipt \\\n",
    "    .select([\"sales_ymd\", \"customer_id\", \"product_cd\", \"quantity\", \"amount\"]) \\\n",
    "    .filter((pl.col(\"customer_id\") == \"CS018205000001\") & ((pl.col(\"amount\") >= 1000) | (pl.col(\"quantity\") >= 5)))"
   ]
  },
  {
   "cell_type": "markdown",
   "metadata": {},
   "source": [
    "---\n",
    "> P-007: レシート明細データ（df_receipt）から売上日（sales_ymd）、顧客ID（customer_id）、商品コード（product_cd）、売上金額（amount）の順に列を指定し、以下の全ての条件を満たすデータを抽出せよ。\n",
    "> - 顧客ID（customer_id）が\"CS018205000001\"\n",
    "> - 売上金額（amount）が1,000以上2,000以下"
   ]
  },
  {
   "cell_type": "code",
   "execution_count": 8,
   "metadata": {},
   "outputs": [
    {
     "data": {
      "text/html": [
       "<div><style>\n",
       ".dataframe > thead > tr,\n",
       ".dataframe > tbody > tr {\n",
       "  text-align: right;\n",
       "  white-space: pre-wrap;\n",
       "}\n",
       "</style>\n",
       "<small>shape: (1, 4)</small><table border=\"1\" class=\"dataframe\"><thead><tr><th>sales_ymd</th><th>customer_id</th><th>product_cd</th><th>amount</th></tr><tr><td>i64</td><td>str</td><td>str</td><td>i64</td></tr></thead><tbody><tr><td>20180911</td><td>&quot;CS018205000001&quot;</td><td>&quot;P071401005&quot;</td><td>1100</td></tr></tbody></table></div>"
      ],
      "text/plain": [
       "shape: (1, 4)\n",
       "┌───────────┬────────────────┬────────────┬────────┐\n",
       "│ sales_ymd ┆ customer_id    ┆ product_cd ┆ amount │\n",
       "│ ---       ┆ ---            ┆ ---        ┆ ---    │\n",
       "│ i64       ┆ str            ┆ str        ┆ i64    │\n",
       "╞═══════════╪════════════════╪════════════╪════════╡\n",
       "│ 20180911  ┆ CS018205000001 ┆ P071401005 ┆ 1100   │\n",
       "└───────────┴────────────────┴────────────┴────────┘"
      ]
     },
     "execution_count": 8,
     "metadata": {},
     "output_type": "execute_result"
    }
   ],
   "source": [
    "df_receipt \\\n",
    "    .select([\"sales_ymd\", \"customer_id\", \"product_cd\", \"amount\"]) \\\n",
    "    .filter((pl.col(\"customer_id\") == \"CS018205000001\") & (pl.col(\"amount\") >= 1000) & (pl.col(\"amount\") <= 2000))"
   ]
  },
  {
   "cell_type": "markdown",
   "metadata": {},
   "source": [
    "---\n",
    "> P-008: レシート明細データ（df_receipt）から売上日（sales_ymd）、顧客ID（customer_id）、商品コード（product_cd）、売上金額（amount）の順に列を指定し、以下の全ての条件を満たすデータを抽出せよ。\n",
    "> - 顧客ID（customer_id）が\"CS018205000001\"\n",
    "> - 商品コード（product_cd）が\"P071401019\"以外"
   ]
  },
  {
   "cell_type": "code",
   "execution_count": 9,
   "metadata": {},
   "outputs": [
    {
     "data": {
      "text/html": [
       "<div><style>\n",
       ".dataframe > thead > tr,\n",
       ".dataframe > tbody > tr {\n",
       "  text-align: right;\n",
       "  white-space: pre-wrap;\n",
       "}\n",
       "</style>\n",
       "<small>shape: (12, 4)</small><table border=\"1\" class=\"dataframe\"><thead><tr><th>sales_ymd</th><th>customer_id</th><th>product_cd</th><th>amount</th></tr><tr><td>i64</td><td>str</td><td>str</td><td>i64</td></tr></thead><tbody><tr><td>20180911</td><td>&quot;CS018205000001&quot;</td><td>&quot;P071401012&quot;</td><td>2200</td></tr><tr><td>20180414</td><td>&quot;CS018205000001&quot;</td><td>&quot;P060104007&quot;</td><td>600</td></tr><tr><td>20170614</td><td>&quot;CS018205000001&quot;</td><td>&quot;P050206001&quot;</td><td>990</td></tr><tr><td>20170614</td><td>&quot;CS018205000001&quot;</td><td>&quot;P060702015&quot;</td><td>108</td></tr><tr><td>20190216</td><td>&quot;CS018205000001&quot;</td><td>&quot;P071005024&quot;</td><td>102</td></tr><tr><td>&hellip;</td><td>&hellip;</td><td>&hellip;</td><td>&hellip;</td></tr><tr><td>20190924</td><td>&quot;CS018205000001&quot;</td><td>&quot;P060805001&quot;</td><td>495</td></tr><tr><td>20190226</td><td>&quot;CS018205000001&quot;</td><td>&quot;P071401020&quot;</td><td>2200</td></tr><tr><td>20180911</td><td>&quot;CS018205000001&quot;</td><td>&quot;P071401005&quot;</td><td>1100</td></tr><tr><td>20190216</td><td>&quot;CS018205000001&quot;</td><td>&quot;P040101002&quot;</td><td>218</td></tr><tr><td>20190924</td><td>&quot;CS018205000001&quot;</td><td>&quot;P091503001&quot;</td><td>280</td></tr></tbody></table></div>"
      ],
      "text/plain": [
       "shape: (12, 4)\n",
       "┌───────────┬────────────────┬────────────┬────────┐\n",
       "│ sales_ymd ┆ customer_id    ┆ product_cd ┆ amount │\n",
       "│ ---       ┆ ---            ┆ ---        ┆ ---    │\n",
       "│ i64       ┆ str            ┆ str        ┆ i64    │\n",
       "╞═══════════╪════════════════╪════════════╪════════╡\n",
       "│ 20180911  ┆ CS018205000001 ┆ P071401012 ┆ 2200   │\n",
       "│ 20180414  ┆ CS018205000001 ┆ P060104007 ┆ 600    │\n",
       "│ 20170614  ┆ CS018205000001 ┆ P050206001 ┆ 990    │\n",
       "│ 20170614  ┆ CS018205000001 ┆ P060702015 ┆ 108    │\n",
       "│ 20190216  ┆ CS018205000001 ┆ P071005024 ┆ 102    │\n",
       "│ …         ┆ …              ┆ …          ┆ …      │\n",
       "│ 20190924  ┆ CS018205000001 ┆ P060805001 ┆ 495    │\n",
       "│ 20190226  ┆ CS018205000001 ┆ P071401020 ┆ 2200   │\n",
       "│ 20180911  ┆ CS018205000001 ┆ P071401005 ┆ 1100   │\n",
       "│ 20190216  ┆ CS018205000001 ┆ P040101002 ┆ 218    │\n",
       "│ 20190924  ┆ CS018205000001 ┆ P091503001 ┆ 280    │\n",
       "└───────────┴────────────────┴────────────┴────────┘"
      ]
     },
     "execution_count": 9,
     "metadata": {},
     "output_type": "execute_result"
    }
   ],
   "source": [
    "df_receipt \\\n",
    "    .select([\"sales_ymd\", \"customer_id\", \"product_cd\", \"amount\"]) \\\n",
    "    .filter((pl.col(\"customer_id\") == \"CS018205000001\") & (pl.col(\"product_cd\") != \"P071401019\"))"
   ]
  },
  {
   "cell_type": "markdown",
   "metadata": {},
   "source": [
    "---\n",
    "> P-009: 以下の処理において、出力結果を変えずにORをANDに書き換えよ。\n",
    "> \n",
    "> `df_store.query('not(prefecture_cd == \"13\" | floor_area > 900)')`"
   ]
  },
  {
   "cell_type": "code",
   "execution_count": 10,
   "metadata": {},
   "outputs": [
    {
     "data": {
      "text/html": [
       "<div><style>\n",
       ".dataframe > thead > tr,\n",
       ".dataframe > tbody > tr {\n",
       "  text-align: right;\n",
       "  white-space: pre-wrap;\n",
       "}\n",
       "</style>\n",
       "<small>shape: (3, 10)</small><table border=\"1\" class=\"dataframe\"><thead><tr><th>store_cd</th><th>store_name</th><th>prefecture_cd</th><th>prefecture</th><th>address</th><th>address_kana</th><th>tel_no</th><th>longitude</th><th>latitude</th><th>floor_area</th></tr><tr><td>str</td><td>str</td><td>i64</td><td>str</td><td>str</td><td>str</td><td>str</td><td>f64</td><td>f64</td><td>f64</td></tr></thead><tbody><tr><td>&quot;S14046&quot;</td><td>&quot;北山田店&quot;</td><td>14</td><td>&quot;神奈川県&quot;</td><td>&quot;神奈川県横浜市都筑区北山田一丁目&quot;</td><td>&quot;カナガワケンヨコハマシツヅキクキタヤマタイッチョウメ&quot;</td><td>&quot;045-123-4049&quot;</td><td>139.5916</td><td>35.56189</td><td>831.0</td></tr><tr><td>&quot;S14011&quot;</td><td>&quot;日吉本町店&quot;</td><td>14</td><td>&quot;神奈川県&quot;</td><td>&quot;神奈川県横浜市港北区日吉本町四丁目&quot;</td><td>&quot;カナガワケンヨコハマシコウホククヒヨシホンチョウヨンチョウメ&quot;</td><td>&quot;045-123-4033&quot;</td><td>139.6316</td><td>35.54655</td><td>890.0</td></tr><tr><td>&quot;S12013&quot;</td><td>&quot;習志野店&quot;</td><td>12</td><td>&quot;千葉県&quot;</td><td>&quot;千葉県習志野市芝園一丁目&quot;</td><td>&quot;チバケンナラシノシシバゾノイッチョウメ&quot;</td><td>&quot;047-123-4002&quot;</td><td>140.022</td><td>35.66122</td><td>808.0</td></tr></tbody></table></div>"
      ],
      "text/plain": [
       "shape: (3, 10)\n",
       "┌──────────┬────────────┬───────────┬───────────┬───┬───────────┬───────────┬──────────┬───────────┐\n",
       "│ store_cd ┆ store_name ┆ prefectur ┆ prefectur ┆ … ┆ tel_no    ┆ longitude ┆ latitude ┆ floor_are │\n",
       "│ ---      ┆ ---        ┆ e_cd      ┆ e         ┆   ┆ ---       ┆ ---       ┆ ---      ┆ a         │\n",
       "│ str      ┆ str        ┆ ---       ┆ ---       ┆   ┆ str       ┆ f64       ┆ f64      ┆ ---       │\n",
       "│          ┆            ┆ i64       ┆ str       ┆   ┆           ┆           ┆          ┆ f64       │\n",
       "╞══════════╪════════════╪═══════════╪═══════════╪═══╪═══════════╪═══════════╪══════════╪═══════════╡\n",
       "│ S14046   ┆ 北山田店   ┆ 14        ┆ 神奈川県  ┆ … ┆ 045-123-4 ┆ 139.5916  ┆ 35.56189 ┆ 831.0     │\n",
       "│          ┆            ┆           ┆           ┆   ┆ 049       ┆           ┆          ┆           │\n",
       "│ S14011   ┆ 日吉本町店 ┆ 14        ┆ 神奈川県  ┆ … ┆ 045-123-4 ┆ 139.6316  ┆ 35.54655 ┆ 890.0     │\n",
       "│          ┆            ┆           ┆           ┆   ┆ 033       ┆           ┆          ┆           │\n",
       "│ S12013   ┆ 習志野店   ┆ 12        ┆ 千葉県    ┆ … ┆ 047-123-4 ┆ 140.022   ┆ 35.66122 ┆ 808.0     │\n",
       "│          ┆            ┆           ┆           ┆   ┆ 002       ┆           ┆          ┆           │\n",
       "└──────────┴────────────┴───────────┴───────────┴───┴───────────┴───────────┴──────────┴───────────┘"
      ]
     },
     "execution_count": 10,
     "metadata": {},
     "output_type": "execute_result"
    }
   ],
   "source": [
    "df_store.filter((pl.col(\"prefecture_cd\") != 13) & (pl.col(\"floor_area\") <= 900))"
   ]
  },
  {
   "cell_type": "markdown",
   "metadata": {},
   "source": [
    "---\n",
    "> P-010: 店舗データ（df_store）から、店舗コード（store_cd）が\"S14\"で始まるものだけ全項目抽出し、10件表示せよ。"
   ]
  },
  {
   "cell_type": "code",
   "execution_count": 11,
   "metadata": {},
   "outputs": [
    {
     "data": {
      "text/html": [
       "<div><style>\n",
       ".dataframe > thead > tr,\n",
       ".dataframe > tbody > tr {\n",
       "  text-align: right;\n",
       "  white-space: pre-wrap;\n",
       "}\n",
       "</style>\n",
       "<small>shape: (10, 10)</small><table border=\"1\" class=\"dataframe\"><thead><tr><th>store_cd</th><th>store_name</th><th>prefecture_cd</th><th>prefecture</th><th>address</th><th>address_kana</th><th>tel_no</th><th>longitude</th><th>latitude</th><th>floor_area</th></tr><tr><td>str</td><td>str</td><td>i64</td><td>str</td><td>str</td><td>str</td><td>str</td><td>f64</td><td>f64</td><td>f64</td></tr></thead><tbody><tr><td>&quot;S14010&quot;</td><td>&quot;菊名店&quot;</td><td>14</td><td>&quot;神奈川県&quot;</td><td>&quot;神奈川県横浜市港北区菊名一丁目&quot;</td><td>&quot;カナガワケンヨコハマシコウホククキクナイッチョウメ&quot;</td><td>&quot;045-123-4032&quot;</td><td>139.6326</td><td>35.50049</td><td>1732.0</td></tr><tr><td>&quot;S14033&quot;</td><td>&quot;阿久和店&quot;</td><td>14</td><td>&quot;神奈川県&quot;</td><td>&quot;神奈川県横浜市瀬谷区阿久和西一丁目&quot;</td><td>&quot;カナガワケンヨコハマシセヤクアクワニシイッチョウメ&quot;</td><td>&quot;045-123-4043&quot;</td><td>139.4961</td><td>35.45918</td><td>1495.0</td></tr><tr><td>&quot;S14036&quot;</td><td>&quot;相模原中央店&quot;</td><td>14</td><td>&quot;神奈川県&quot;</td><td>&quot;神奈川県相模原市中央二丁目&quot;</td><td>&quot;カナガワケンサガミハラシチュウオウニチョウメ&quot;</td><td>&quot;042-123-4045&quot;</td><td>139.3716</td><td>35.57327</td><td>1679.0</td></tr><tr><td>&quot;S14040&quot;</td><td>&quot;長津田店&quot;</td><td>14</td><td>&quot;神奈川県&quot;</td><td>&quot;神奈川県横浜市緑区長津田みなみ台五丁目&quot;</td><td>&quot;カナガワケンヨコハマシミドリクナガツタミナミダイゴチョウメ&quot;</td><td>&quot;045-123-4046&quot;</td><td>139.4994</td><td>35.52398</td><td>1548.0</td></tr><tr><td>&quot;S14050&quot;</td><td>&quot;阿久和西店&quot;</td><td>14</td><td>&quot;神奈川県&quot;</td><td>&quot;神奈川県横浜市瀬谷区阿久和西一丁目&quot;</td><td>&quot;カナガワケンヨコハマシセヤクアクワニシイッチョウメ&quot;</td><td>&quot;045-123-4053&quot;</td><td>139.4961</td><td>35.45918</td><td>1830.0</td></tr><tr><td>&quot;S14028&quot;</td><td>&quot;二ツ橋店&quot;</td><td>14</td><td>&quot;神奈川県&quot;</td><td>&quot;神奈川県横浜市瀬谷区二ツ橋町&quot;</td><td>&quot;カナガワケンヨコハマシセヤクフタツバシチョウ&quot;</td><td>&quot;045-123-4042&quot;</td><td>139.4963</td><td>35.46304</td><td>1574.0</td></tr><tr><td>&quot;S14012&quot;</td><td>&quot;本牧和田店&quot;</td><td>14</td><td>&quot;神奈川県&quot;</td><td>&quot;神奈川県横浜市中区本牧和田&quot;</td><td>&quot;カナガワケンヨコハマシナカクホンモクワダ&quot;</td><td>&quot;045-123-4034&quot;</td><td>139.6582</td><td>35.42156</td><td>1341.0</td></tr><tr><td>&quot;S14046&quot;</td><td>&quot;北山田店&quot;</td><td>14</td><td>&quot;神奈川県&quot;</td><td>&quot;神奈川県横浜市都筑区北山田一丁目&quot;</td><td>&quot;カナガワケンヨコハマシツヅキクキタヤマタイッチョウメ&quot;</td><td>&quot;045-123-4049&quot;</td><td>139.5916</td><td>35.56189</td><td>831.0</td></tr><tr><td>&quot;S14022&quot;</td><td>&quot;逗子店&quot;</td><td>14</td><td>&quot;神奈川県&quot;</td><td>&quot;神奈川県逗子市逗子一丁目&quot;</td><td>&quot;カナガワケンズシシズシイッチョウメ&quot;</td><td>&quot;046-123-4036&quot;</td><td>139.5789</td><td>35.29642</td><td>1838.0</td></tr><tr><td>&quot;S14011&quot;</td><td>&quot;日吉本町店&quot;</td><td>14</td><td>&quot;神奈川県&quot;</td><td>&quot;神奈川県横浜市港北区日吉本町四丁目&quot;</td><td>&quot;カナガワケンヨコハマシコウホククヒヨシホンチョウヨンチョウメ&quot;</td><td>&quot;045-123-4033&quot;</td><td>139.6316</td><td>35.54655</td><td>890.0</td></tr></tbody></table></div>"
      ],
      "text/plain": [
       "shape: (10, 10)\n",
       "┌──────────┬────────────┬───────────┬───────────┬───┬───────────┬───────────┬──────────┬───────────┐\n",
       "│ store_cd ┆ store_name ┆ prefectur ┆ prefectur ┆ … ┆ tel_no    ┆ longitude ┆ latitude ┆ floor_are │\n",
       "│ ---      ┆ ---        ┆ e_cd      ┆ e         ┆   ┆ ---       ┆ ---       ┆ ---      ┆ a         │\n",
       "│ str      ┆ str        ┆ ---       ┆ ---       ┆   ┆ str       ┆ f64       ┆ f64      ┆ ---       │\n",
       "│          ┆            ┆ i64       ┆ str       ┆   ┆           ┆           ┆          ┆ f64       │\n",
       "╞══════════╪════════════╪═══════════╪═══════════╪═══╪═══════════╪═══════════╪══════════╪═══════════╡\n",
       "│ S14010   ┆ 菊名店     ┆ 14        ┆ 神奈川県  ┆ … ┆ 045-123-4 ┆ 139.6326  ┆ 35.50049 ┆ 1732.0    │\n",
       "│          ┆            ┆           ┆           ┆   ┆ 032       ┆           ┆          ┆           │\n",
       "│ S14033   ┆ 阿久和店   ┆ 14        ┆ 神奈川県  ┆ … ┆ 045-123-4 ┆ 139.4961  ┆ 35.45918 ┆ 1495.0    │\n",
       "│          ┆            ┆           ┆           ┆   ┆ 043       ┆           ┆          ┆           │\n",
       "│ S14036   ┆ 相模原中央 ┆ 14        ┆ 神奈川県  ┆ … ┆ 042-123-4 ┆ 139.3716  ┆ 35.57327 ┆ 1679.0    │\n",
       "│          ┆ 店         ┆           ┆           ┆   ┆ 045       ┆           ┆          ┆           │\n",
       "│ S14040   ┆ 長津田店   ┆ 14        ┆ 神奈川県  ┆ … ┆ 045-123-4 ┆ 139.4994  ┆ 35.52398 ┆ 1548.0    │\n",
       "│          ┆            ┆           ┆           ┆   ┆ 046       ┆           ┆          ┆           │\n",
       "│ S14050   ┆ 阿久和西店 ┆ 14        ┆ 神奈川県  ┆ … ┆ 045-123-4 ┆ 139.4961  ┆ 35.45918 ┆ 1830.0    │\n",
       "│          ┆            ┆           ┆           ┆   ┆ 053       ┆           ┆          ┆           │\n",
       "│ S14028   ┆ 二ツ橋店   ┆ 14        ┆ 神奈川県  ┆ … ┆ 045-123-4 ┆ 139.4963  ┆ 35.46304 ┆ 1574.0    │\n",
       "│          ┆            ┆           ┆           ┆   ┆ 042       ┆           ┆          ┆           │\n",
       "│ S14012   ┆ 本牧和田店 ┆ 14        ┆ 神奈川県  ┆ … ┆ 045-123-4 ┆ 139.6582  ┆ 35.42156 ┆ 1341.0    │\n",
       "│          ┆            ┆           ┆           ┆   ┆ 034       ┆           ┆          ┆           │\n",
       "│ S14046   ┆ 北山田店   ┆ 14        ┆ 神奈川県  ┆ … ┆ 045-123-4 ┆ 139.5916  ┆ 35.56189 ┆ 831.0     │\n",
       "│          ┆            ┆           ┆           ┆   ┆ 049       ┆           ┆          ┆           │\n",
       "│ S14022   ┆ 逗子店     ┆ 14        ┆ 神奈川県  ┆ … ┆ 046-123-4 ┆ 139.5789  ┆ 35.29642 ┆ 1838.0    │\n",
       "│          ┆            ┆           ┆           ┆   ┆ 036       ┆           ┆          ┆           │\n",
       "│ S14011   ┆ 日吉本町店 ┆ 14        ┆ 神奈川県  ┆ … ┆ 045-123-4 ┆ 139.6316  ┆ 35.54655 ┆ 890.0     │\n",
       "│          ┆            ┆           ┆           ┆   ┆ 033       ┆           ┆          ┆           │\n",
       "└──────────┴────────────┴───────────┴───────────┴───┴───────────┴───────────┴──────────┴───────────┘"
      ]
     },
     "execution_count": 11,
     "metadata": {},
     "output_type": "execute_result"
    }
   ],
   "source": [
    "df_store.filter(pl.col(\"store_cd\").str.starts_with(\"S14\")).head(10)"
   ]
  },
  {
   "cell_type": "markdown",
   "metadata": {},
   "source": [
    "---\n",
    "> P-011: 顧客データ（df_customer）から顧客ID（customer_id）の末尾が1のものだけ全項目抽出し、10件表示せよ。"
   ]
  },
  {
   "cell_type": "code",
   "execution_count": 12,
   "metadata": {},
   "outputs": [
    {
     "data": {
      "text/html": [
       "<div><style>\n",
       ".dataframe > thead > tr,\n",
       ".dataframe > tbody > tr {\n",
       "  text-align: right;\n",
       "  white-space: pre-wrap;\n",
       "}\n",
       "</style>\n",
       "<small>shape: (10, 11)</small><table border=\"1\" class=\"dataframe\"><thead><tr><th>customer_id</th><th>customer_name</th><th>gender_cd</th><th>gender</th><th>birth_day</th><th>age</th><th>postal_cd</th><th>address</th><th>application_store_cd</th><th>application_date</th><th>status_cd</th></tr><tr><td>str</td><td>str</td><td>i64</td><td>str</td><td>str</td><td>i64</td><td>str</td><td>str</td><td>str</td><td>i64</td><td>str</td></tr></thead><tbody><tr><td>&quot;CS037613000071&quot;</td><td>&quot;六角 雅彦&quot;</td><td>9</td><td>&quot;不明&quot;</td><td>&quot;1952-04-01&quot;</td><td>66</td><td>&quot;136-0076&quot;</td><td>&quot;東京都江東区南砂**********&quot;</td><td>&quot;S13037&quot;</td><td>20150414</td><td>&quot;0-00000000-0&quot;</td></tr><tr><td>&quot;CS028811000001&quot;</td><td>&quot;堀井 かおり&quot;</td><td>1</td><td>&quot;女性&quot;</td><td>&quot;1933-03-27&quot;</td><td>86</td><td>&quot;245-0016&quot;</td><td>&quot;神奈川県横浜市泉区和泉町**********&quot;</td><td>&quot;S14028&quot;</td><td>20160115</td><td>&quot;0-00000000-0&quot;</td></tr><tr><td>&quot;CS040412000191&quot;</td><td>&quot;川井 郁恵&quot;</td><td>1</td><td>&quot;女性&quot;</td><td>&quot;1977-01-05&quot;</td><td>42</td><td>&quot;226-0021&quot;</td><td>&quot;神奈川県横浜市緑区北八朔町**********&quot;</td><td>&quot;S14040&quot;</td><td>20151101</td><td>&quot;1-20091025-4&quot;</td></tr><tr><td>&quot;CS028314000011&quot;</td><td>&quot;小菅 あおい&quot;</td><td>1</td><td>&quot;女性&quot;</td><td>&quot;1983-11-26&quot;</td><td>35</td><td>&quot;246-0038&quot;</td><td>&quot;神奈川県横浜市瀬谷区宮沢**********&quot;</td><td>&quot;S14028&quot;</td><td>20151123</td><td>&quot;1-20080426-5&quot;</td></tr><tr><td>&quot;CS039212000051&quot;</td><td>&quot;藤島 恵梨香&quot;</td><td>1</td><td>&quot;女性&quot;</td><td>&quot;1997-02-03&quot;</td><td>22</td><td>&quot;166-0001&quot;</td><td>&quot;東京都杉並区阿佐谷北**********&quot;</td><td>&quot;S13039&quot;</td><td>20171121</td><td>&quot;1-20100215-4&quot;</td></tr><tr><td>&quot;CS015412000111&quot;</td><td>&quot;松居 奈月&quot;</td><td>1</td><td>&quot;女性&quot;</td><td>&quot;1972-10-04&quot;</td><td>46</td><td>&quot;136-0071&quot;</td><td>&quot;東京都江東区亀戸**********&quot;</td><td>&quot;S13015&quot;</td><td>20150629</td><td>&quot;0-00000000-0&quot;</td></tr><tr><td>&quot;CS004702000041&quot;</td><td>&quot;野島 洋&quot;</td><td>0</td><td>&quot;男性&quot;</td><td>&quot;1943-08-24&quot;</td><td>75</td><td>&quot;176-0022&quot;</td><td>&quot;東京都練馬区向山**********&quot;</td><td>&quot;S13004&quot;</td><td>20170218</td><td>&quot;0-00000000-0&quot;</td></tr><tr><td>&quot;CS041515000001&quot;</td><td>&quot;栗田 千夏&quot;</td><td>1</td><td>&quot;女性&quot;</td><td>&quot;1967-01-02&quot;</td><td>52</td><td>&quot;206-0001&quot;</td><td>&quot;東京都多摩市和田**********&quot;</td><td>&quot;S13041&quot;</td><td>20160422</td><td>&quot;E-20100803-F&quot;</td></tr><tr><td>&quot;CS029313000221&quot;</td><td>&quot;北条 ひかり&quot;</td><td>1</td><td>&quot;女性&quot;</td><td>&quot;1987-06-19&quot;</td><td>31</td><td>&quot;279-0011&quot;</td><td>&quot;千葉県浦安市美浜**********&quot;</td><td>&quot;S12029&quot;</td><td>20180810</td><td>&quot;0-00000000-0&quot;</td></tr><tr><td>&quot;CS034312000071&quot;</td><td>&quot;望月 奈央&quot;</td><td>1</td><td>&quot;女性&quot;</td><td>&quot;1980-09-20&quot;</td><td>38</td><td>&quot;213-0026&quot;</td><td>&quot;神奈川県川崎市高津区久末**********&quot;</td><td>&quot;S14034&quot;</td><td>20160106</td><td>&quot;0-00000000-0&quot;</td></tr></tbody></table></div>"
      ],
      "text/plain": [
       "shape: (10, 11)\n",
       "┌────────────┬────────────┬───────────┬────────┬───┬───────────┬───────────┬───────────┬───────────┐\n",
       "│ customer_i ┆ customer_n ┆ gender_cd ┆ gender ┆ … ┆ address   ┆ applicati ┆ applicati ┆ status_cd │\n",
       "│ d          ┆ ame        ┆ ---       ┆ ---    ┆   ┆ ---       ┆ on_store_ ┆ on_date   ┆ ---       │\n",
       "│ ---        ┆ ---        ┆ i64       ┆ str    ┆   ┆ str       ┆ cd        ┆ ---       ┆ str       │\n",
       "│ str        ┆ str        ┆           ┆        ┆   ┆           ┆ ---       ┆ i64       ┆           │\n",
       "│            ┆            ┆           ┆        ┆   ┆           ┆ str       ┆           ┆           │\n",
       "╞════════════╪════════════╪═══════════╪════════╪═══╪═══════════╪═══════════╪═══════════╪═══════════╡\n",
       "│ CS03761300 ┆ 六角 雅彦  ┆ 9         ┆ 不明   ┆ … ┆ 東京都江  ┆ S13037    ┆ 20150414  ┆ 0-0000000 │\n",
       "│ 0071       ┆            ┆           ┆        ┆   ┆ 東区南砂* ┆           ┆           ┆ 0-0       │\n",
       "│            ┆            ┆           ┆        ┆   ┆ ********* ┆           ┆           ┆           │\n",
       "│ CS02881100 ┆ 堀井       ┆ 1         ┆ 女性   ┆ … ┆ 神奈川県  ┆ S14028    ┆ 20160115  ┆ 0-0000000 │\n",
       "│ 0001       ┆ かおり     ┆           ┆        ┆   ┆ 横浜市泉  ┆           ┆           ┆ 0-0       │\n",
       "│            ┆            ┆           ┆        ┆   ┆ 区和泉町* ┆           ┆           ┆           │\n",
       "│            ┆            ┆           ┆        ┆   ┆ ********* ┆           ┆           ┆           │\n",
       "│ CS04041200 ┆ 川井 郁恵  ┆ 1         ┆ 女性   ┆ … ┆ 神奈川県  ┆ S14040    ┆ 20151101  ┆ 1-2009102 │\n",
       "│ 0191       ┆            ┆           ┆        ┆   ┆ 横浜市緑  ┆           ┆           ┆ 5-4       │\n",
       "│            ┆            ┆           ┆        ┆   ┆ 区北八朔  ┆           ┆           ┆           │\n",
       "│            ┆            ┆           ┆        ┆   ┆ 町******* ┆           ┆           ┆           │\n",
       "│            ┆            ┆           ┆        ┆   ┆ ***       ┆           ┆           ┆           │\n",
       "│ CS02831400 ┆ 小菅       ┆ 1         ┆ 女性   ┆ … ┆ 神奈川県  ┆ S14028    ┆ 20151123  ┆ 1-2008042 │\n",
       "│ 0011       ┆ あおい     ┆           ┆        ┆   ┆ 横浜市瀬  ┆           ┆           ┆ 6-5       │\n",
       "│            ┆            ┆           ┆        ┆   ┆ 谷区宮沢* ┆           ┆           ┆           │\n",
       "│            ┆            ┆           ┆        ┆   ┆ ********* ┆           ┆           ┆           │\n",
       "│ CS03921200 ┆ 藤島       ┆ 1         ┆ 女性   ┆ … ┆ 東京都杉  ┆ S13039    ┆ 20171121  ┆ 1-2010021 │\n",
       "│ 0051       ┆ 恵梨香     ┆           ┆        ┆   ┆ 並区阿佐  ┆           ┆           ┆ 5-4       │\n",
       "│            ┆            ┆           ┆        ┆   ┆ 谷北***** ┆           ┆           ┆           │\n",
       "│            ┆            ┆           ┆        ┆   ┆ *****     ┆           ┆           ┆           │\n",
       "│ CS01541200 ┆ 松居 奈月  ┆ 1         ┆ 女性   ┆ … ┆ 東京都江  ┆ S13015    ┆ 20150629  ┆ 0-0000000 │\n",
       "│ 0111       ┆            ┆           ┆        ┆   ┆ 東区亀戸* ┆           ┆           ┆ 0-0       │\n",
       "│            ┆            ┆           ┆        ┆   ┆ ********* ┆           ┆           ┆           │\n",
       "│ CS00470200 ┆ 野島 洋    ┆ 0         ┆ 男性   ┆ … ┆ 東京都練  ┆ S13004    ┆ 20170218  ┆ 0-0000000 │\n",
       "│ 0041       ┆            ┆           ┆        ┆   ┆ 馬区向山* ┆           ┆           ┆ 0-0       │\n",
       "│            ┆            ┆           ┆        ┆   ┆ ********* ┆           ┆           ┆           │\n",
       "│ CS04151500 ┆ 栗田 千夏  ┆ 1         ┆ 女性   ┆ … ┆ 東京都多  ┆ S13041    ┆ 20160422  ┆ E-2010080 │\n",
       "│ 0001       ┆            ┆           ┆        ┆   ┆ 摩市和田* ┆           ┆           ┆ 3-F       │\n",
       "│            ┆            ┆           ┆        ┆   ┆ ********* ┆           ┆           ┆           │\n",
       "│ CS02931300 ┆ 北条       ┆ 1         ┆ 女性   ┆ … ┆ 千葉県浦  ┆ S12029    ┆ 20180810  ┆ 0-0000000 │\n",
       "│ 0221       ┆ ひかり     ┆           ┆        ┆   ┆ 安市美浜* ┆           ┆           ┆ 0-0       │\n",
       "│            ┆            ┆           ┆        ┆   ┆ ********* ┆           ┆           ┆           │\n",
       "│ CS03431200 ┆ 望月 奈央  ┆ 1         ┆ 女性   ┆ … ┆ 神奈川県  ┆ S14034    ┆ 20160106  ┆ 0-0000000 │\n",
       "│ 0071       ┆            ┆           ┆        ┆   ┆ 川崎市高  ┆           ┆           ┆ 0-0       │\n",
       "│            ┆            ┆           ┆        ┆   ┆ 津区久末* ┆           ┆           ┆           │\n",
       "│            ┆            ┆           ┆        ┆   ┆ ********* ┆           ┆           ┆           │\n",
       "└────────────┴────────────┴───────────┴────────┴───┴───────────┴───────────┴───────────┴───────────┘"
      ]
     },
     "execution_count": 12,
     "metadata": {},
     "output_type": "execute_result"
    }
   ],
   "source": [
    "df_customer.filter(pl.col(\"customer_id\").str.ends_with(\"1\")).head(10)"
   ]
  },
  {
   "cell_type": "markdown",
   "metadata": {},
   "source": [
    "---\n",
    "> P-012: 店舗データ（df_store）から、住所 (address) に\"横浜市\"が含まれるものだけ全項目表示せよ。"
   ]
  },
  {
   "cell_type": "code",
   "execution_count": 13,
   "metadata": {},
   "outputs": [
    {
     "data": {
      "text/html": [
       "<div><style>\n",
       ".dataframe > thead > tr,\n",
       ".dataframe > tbody > tr {\n",
       "  text-align: right;\n",
       "  white-space: pre-wrap;\n",
       "}\n",
       "</style>\n",
       "<small>shape: (11, 10)</small><table border=\"1\" class=\"dataframe\"><thead><tr><th>store_cd</th><th>store_name</th><th>prefecture_cd</th><th>prefecture</th><th>address</th><th>address_kana</th><th>tel_no</th><th>longitude</th><th>latitude</th><th>floor_area</th></tr><tr><td>str</td><td>str</td><td>i64</td><td>str</td><td>str</td><td>str</td><td>str</td><td>f64</td><td>f64</td><td>f64</td></tr></thead><tbody><tr><td>&quot;S14010&quot;</td><td>&quot;菊名店&quot;</td><td>14</td><td>&quot;神奈川県&quot;</td><td>&quot;神奈川県横浜市港北区菊名一丁目&quot;</td><td>&quot;カナガワケンヨコハマシコウホククキクナイッチョウメ&quot;</td><td>&quot;045-123-4032&quot;</td><td>139.6326</td><td>35.50049</td><td>1732.0</td></tr><tr><td>&quot;S14033&quot;</td><td>&quot;阿久和店&quot;</td><td>14</td><td>&quot;神奈川県&quot;</td><td>&quot;神奈川県横浜市瀬谷区阿久和西一丁目&quot;</td><td>&quot;カナガワケンヨコハマシセヤクアクワニシイッチョウメ&quot;</td><td>&quot;045-123-4043&quot;</td><td>139.4961</td><td>35.45918</td><td>1495.0</td></tr><tr><td>&quot;S14040&quot;</td><td>&quot;長津田店&quot;</td><td>14</td><td>&quot;神奈川県&quot;</td><td>&quot;神奈川県横浜市緑区長津田みなみ台五丁目&quot;</td><td>&quot;カナガワケンヨコハマシミドリクナガツタミナミダイゴチョウメ&quot;</td><td>&quot;045-123-4046&quot;</td><td>139.4994</td><td>35.52398</td><td>1548.0</td></tr><tr><td>&quot;S14050&quot;</td><td>&quot;阿久和西店&quot;</td><td>14</td><td>&quot;神奈川県&quot;</td><td>&quot;神奈川県横浜市瀬谷区阿久和西一丁目&quot;</td><td>&quot;カナガワケンヨコハマシセヤクアクワニシイッチョウメ&quot;</td><td>&quot;045-123-4053&quot;</td><td>139.4961</td><td>35.45918</td><td>1830.0</td></tr><tr><td>&quot;S14028&quot;</td><td>&quot;二ツ橋店&quot;</td><td>14</td><td>&quot;神奈川県&quot;</td><td>&quot;神奈川県横浜市瀬谷区二ツ橋町&quot;</td><td>&quot;カナガワケンヨコハマシセヤクフタツバシチョウ&quot;</td><td>&quot;045-123-4042&quot;</td><td>139.4963</td><td>35.46304</td><td>1574.0</td></tr><tr><td>&hellip;</td><td>&hellip;</td><td>&hellip;</td><td>&hellip;</td><td>&hellip;</td><td>&hellip;</td><td>&hellip;</td><td>&hellip;</td><td>&hellip;</td><td>&hellip;</td></tr><tr><td>&quot;S14046&quot;</td><td>&quot;北山田店&quot;</td><td>14</td><td>&quot;神奈川県&quot;</td><td>&quot;神奈川県横浜市都筑区北山田一丁目&quot;</td><td>&quot;カナガワケンヨコハマシツヅキクキタヤマタイッチョウメ&quot;</td><td>&quot;045-123-4049&quot;</td><td>139.5916</td><td>35.56189</td><td>831.0</td></tr><tr><td>&quot;S14011&quot;</td><td>&quot;日吉本町店&quot;</td><td>14</td><td>&quot;神奈川県&quot;</td><td>&quot;神奈川県横浜市港北区日吉本町四丁目&quot;</td><td>&quot;カナガワケンヨコハマシコウホククヒヨシホンチョウヨンチョウメ&quot;</td><td>&quot;045-123-4033&quot;</td><td>139.6316</td><td>35.54655</td><td>890.0</td></tr><tr><td>&quot;S14048&quot;</td><td>&quot;中川中央店&quot;</td><td>14</td><td>&quot;神奈川県&quot;</td><td>&quot;神奈川県横浜市都筑区中川中央二丁目&quot;</td><td>&quot;カナガワケンヨコハマシツヅキクナカガワチュウオウニチョウメ&quot;</td><td>&quot;045-123-4051&quot;</td><td>139.5758</td><td>35.54912</td><td>1657.0</td></tr><tr><td>&quot;S14042&quot;</td><td>&quot;新山下店&quot;</td><td>14</td><td>&quot;神奈川県&quot;</td><td>&quot;神奈川県横浜市中区新山下二丁目&quot;</td><td>&quot;カナガワケンヨコハマシナカクシンヤマシタニチョウメ&quot;</td><td>&quot;045-123-4047&quot;</td><td>139.6593</td><td>35.43894</td><td>1044.0</td></tr><tr><td>&quot;S14006&quot;</td><td>&quot;葛が谷店&quot;</td><td>14</td><td>&quot;神奈川県&quot;</td><td>&quot;神奈川県横浜市都筑区葛が谷&quot;</td><td>&quot;カナガワケンヨコハマシツヅキククズガヤ&quot;</td><td>&quot;045-123-4031&quot;</td><td>139.5633</td><td>35.53573</td><td>1886.0</td></tr></tbody></table></div>"
      ],
      "text/plain": [
       "shape: (11, 10)\n",
       "┌──────────┬────────────┬───────────┬───────────┬───┬───────────┬───────────┬──────────┬───────────┐\n",
       "│ store_cd ┆ store_name ┆ prefectur ┆ prefectur ┆ … ┆ tel_no    ┆ longitude ┆ latitude ┆ floor_are │\n",
       "│ ---      ┆ ---        ┆ e_cd      ┆ e         ┆   ┆ ---       ┆ ---       ┆ ---      ┆ a         │\n",
       "│ str      ┆ str        ┆ ---       ┆ ---       ┆   ┆ str       ┆ f64       ┆ f64      ┆ ---       │\n",
       "│          ┆            ┆ i64       ┆ str       ┆   ┆           ┆           ┆          ┆ f64       │\n",
       "╞══════════╪════════════╪═══════════╪═══════════╪═══╪═══════════╪═══════════╪══════════╪═══════════╡\n",
       "│ S14010   ┆ 菊名店     ┆ 14        ┆ 神奈川県  ┆ … ┆ 045-123-4 ┆ 139.6326  ┆ 35.50049 ┆ 1732.0    │\n",
       "│          ┆            ┆           ┆           ┆   ┆ 032       ┆           ┆          ┆           │\n",
       "│ S14033   ┆ 阿久和店   ┆ 14        ┆ 神奈川県  ┆ … ┆ 045-123-4 ┆ 139.4961  ┆ 35.45918 ┆ 1495.0    │\n",
       "│          ┆            ┆           ┆           ┆   ┆ 043       ┆           ┆          ┆           │\n",
       "│ S14040   ┆ 長津田店   ┆ 14        ┆ 神奈川県  ┆ … ┆ 045-123-4 ┆ 139.4994  ┆ 35.52398 ┆ 1548.0    │\n",
       "│          ┆            ┆           ┆           ┆   ┆ 046       ┆           ┆          ┆           │\n",
       "│ S14050   ┆ 阿久和西店 ┆ 14        ┆ 神奈川県  ┆ … ┆ 045-123-4 ┆ 139.4961  ┆ 35.45918 ┆ 1830.0    │\n",
       "│          ┆            ┆           ┆           ┆   ┆ 053       ┆           ┆          ┆           │\n",
       "│ S14028   ┆ 二ツ橋店   ┆ 14        ┆ 神奈川県  ┆ … ┆ 045-123-4 ┆ 139.4963  ┆ 35.46304 ┆ 1574.0    │\n",
       "│          ┆            ┆           ┆           ┆   ┆ 042       ┆           ┆          ┆           │\n",
       "│ …        ┆ …          ┆ …         ┆ …         ┆ … ┆ …         ┆ …         ┆ …        ┆ …         │\n",
       "│ S14046   ┆ 北山田店   ┆ 14        ┆ 神奈川県  ┆ … ┆ 045-123-4 ┆ 139.5916  ┆ 35.56189 ┆ 831.0     │\n",
       "│          ┆            ┆           ┆           ┆   ┆ 049       ┆           ┆          ┆           │\n",
       "│ S14011   ┆ 日吉本町店 ┆ 14        ┆ 神奈川県  ┆ … ┆ 045-123-4 ┆ 139.6316  ┆ 35.54655 ┆ 890.0     │\n",
       "│          ┆            ┆           ┆           ┆   ┆ 033       ┆           ┆          ┆           │\n",
       "│ S14048   ┆ 中川中央店 ┆ 14        ┆ 神奈川県  ┆ … ┆ 045-123-4 ┆ 139.5758  ┆ 35.54912 ┆ 1657.0    │\n",
       "│          ┆            ┆           ┆           ┆   ┆ 051       ┆           ┆          ┆           │\n",
       "│ S14042   ┆ 新山下店   ┆ 14        ┆ 神奈川県  ┆ … ┆ 045-123-4 ┆ 139.6593  ┆ 35.43894 ┆ 1044.0    │\n",
       "│          ┆            ┆           ┆           ┆   ┆ 047       ┆           ┆          ┆           │\n",
       "│ S14006   ┆ 葛が谷店   ┆ 14        ┆ 神奈川県  ┆ … ┆ 045-123-4 ┆ 139.5633  ┆ 35.53573 ┆ 1886.0    │\n",
       "│          ┆            ┆           ┆           ┆   ┆ 031       ┆           ┆          ┆           │\n",
       "└──────────┴────────────┴───────────┴───────────┴───┴───────────┴───────────┴──────────┴───────────┘"
      ]
     },
     "execution_count": 13,
     "metadata": {},
     "output_type": "execute_result"
    }
   ],
   "source": [
    "df_store.filter(pl.col(\"address\").str.contains(\"横浜市\"))"
   ]
  },
  {
   "cell_type": "markdown",
   "metadata": {},
   "source": [
    "---\n",
    "> P-013: 顧客データ（df_customer）から、ステータスコード（status_cd）の先頭がアルファベットのA〜Fで始まるデータを全項目抽出し、10件表示せよ。"
   ]
  },
  {
   "cell_type": "code",
   "execution_count": 14,
   "metadata": {},
   "outputs": [
    {
     "data": {
      "text/html": [
       "<div><style>\n",
       ".dataframe > thead > tr,\n",
       ".dataframe > tbody > tr {\n",
       "  text-align: right;\n",
       "  white-space: pre-wrap;\n",
       "}\n",
       "</style>\n",
       "<small>shape: (10, 11)</small><table border=\"1\" class=\"dataframe\"><thead><tr><th>customer_id</th><th>customer_name</th><th>gender_cd</th><th>gender</th><th>birth_day</th><th>age</th><th>postal_cd</th><th>address</th><th>application_store_cd</th><th>application_date</th><th>status_cd</th></tr><tr><td>str</td><td>str</td><td>i64</td><td>str</td><td>str</td><td>i64</td><td>str</td><td>str</td><td>str</td><td>i64</td><td>str</td></tr></thead><tbody><tr><td>&quot;CS031415000172&quot;</td><td>&quot;宇多田 貴美子&quot;</td><td>1</td><td>&quot;女性&quot;</td><td>&quot;1976-10-04&quot;</td><td>42</td><td>&quot;151-0053&quot;</td><td>&quot;東京都渋谷区代々木**********&quot;</td><td>&quot;S13031&quot;</td><td>20150529</td><td>&quot;D-20100325-C&quot;</td></tr><tr><td>&quot;CS015414000103&quot;</td><td>&quot;奥野 陽子&quot;</td><td>1</td><td>&quot;女性&quot;</td><td>&quot;1977-08-09&quot;</td><td>41</td><td>&quot;136-0073&quot;</td><td>&quot;東京都江東区北砂**********&quot;</td><td>&quot;S13015&quot;</td><td>20150722</td><td>&quot;B-20100609-B&quot;</td></tr><tr><td>&quot;CS011215000048&quot;</td><td>&quot;芦田 沙耶&quot;</td><td>1</td><td>&quot;女性&quot;</td><td>&quot;1992-02-01&quot;</td><td>27</td><td>&quot;223-0062&quot;</td><td>&quot;神奈川県横浜市港北区日吉本町**********&quot;</td><td>&quot;S14011&quot;</td><td>20150228</td><td>&quot;C-20100421-9&quot;</td></tr><tr><td>&quot;CS029415000023&quot;</td><td>&quot;梅田 里穂&quot;</td><td>1</td><td>&quot;女性&quot;</td><td>&quot;1976-01-17&quot;</td><td>43</td><td>&quot;279-0043&quot;</td><td>&quot;千葉県浦安市富士見**********&quot;</td><td>&quot;S12029&quot;</td><td>20150610</td><td>&quot;D-20100918-E&quot;</td></tr><tr><td>&quot;CS035415000029&quot;</td><td>&quot;寺沢 真希&quot;</td><td>9</td><td>&quot;不明&quot;</td><td>&quot;1977-09-27&quot;</td><td>41</td><td>&quot;158-0096&quot;</td><td>&quot;東京都世田谷区玉川台**********&quot;</td><td>&quot;S13035&quot;</td><td>20141220</td><td>&quot;F-20101029-F&quot;</td></tr><tr><td>&quot;CS031415000106&quot;</td><td>&quot;宇野 由美子&quot;</td><td>1</td><td>&quot;女性&quot;</td><td>&quot;1970-02-26&quot;</td><td>49</td><td>&quot;151-0053&quot;</td><td>&quot;東京都渋谷区代々木**********&quot;</td><td>&quot;S13031&quot;</td><td>20150201</td><td>&quot;F-20100511-E&quot;</td></tr><tr><td>&quot;CS029215000025&quot;</td><td>&quot;石倉 美帆&quot;</td><td>1</td><td>&quot;女性&quot;</td><td>&quot;1993-09-28&quot;</td><td>25</td><td>&quot;279-0022&quot;</td><td>&quot;千葉県浦安市今川**********&quot;</td><td>&quot;S12029&quot;</td><td>20150708</td><td>&quot;B-20100820-C&quot;</td></tr><tr><td>&quot;CS033605000005&quot;</td><td>&quot;猪股 雄太&quot;</td><td>0</td><td>&quot;男性&quot;</td><td>&quot;1955-12-05&quot;</td><td>63</td><td>&quot;246-0031&quot;</td><td>&quot;神奈川県横浜市瀬谷区瀬谷**********&quot;</td><td>&quot;S14033&quot;</td><td>20150425</td><td>&quot;F-20100917-E&quot;</td></tr><tr><td>&quot;CS033415000229&quot;</td><td>&quot;板垣 菜々美&quot;</td><td>1</td><td>&quot;女性&quot;</td><td>&quot;1977-11-07&quot;</td><td>41</td><td>&quot;246-0021&quot;</td><td>&quot;神奈川県横浜市瀬谷区二ツ橋町**********&quot;</td><td>&quot;S14033&quot;</td><td>20150712</td><td>&quot;F-20100326-E&quot;</td></tr><tr><td>&quot;CS008415000145&quot;</td><td>&quot;黒谷 麻緒&quot;</td><td>1</td><td>&quot;女性&quot;</td><td>&quot;1977-06-27&quot;</td><td>41</td><td>&quot;157-0067&quot;</td><td>&quot;東京都世田谷区喜多見**********&quot;</td><td>&quot;S13008&quot;</td><td>20150829</td><td>&quot;F-20100622-F&quot;</td></tr></tbody></table></div>"
      ],
      "text/plain": [
       "shape: (10, 11)\n",
       "┌────────────┬────────────┬───────────┬────────┬───┬───────────┬───────────┬───────────┬───────────┐\n",
       "│ customer_i ┆ customer_n ┆ gender_cd ┆ gender ┆ … ┆ address   ┆ applicati ┆ applicati ┆ status_cd │\n",
       "│ d          ┆ ame        ┆ ---       ┆ ---    ┆   ┆ ---       ┆ on_store_ ┆ on_date   ┆ ---       │\n",
       "│ ---        ┆ ---        ┆ i64       ┆ str    ┆   ┆ str       ┆ cd        ┆ ---       ┆ str       │\n",
       "│ str        ┆ str        ┆           ┆        ┆   ┆           ┆ ---       ┆ i64       ┆           │\n",
       "│            ┆            ┆           ┆        ┆   ┆           ┆ str       ┆           ┆           │\n",
       "╞════════════╪════════════╪═══════════╪════════╪═══╪═══════════╪═══════════╪═══════════╪═══════════╡\n",
       "│ CS03141500 ┆ 宇多田     ┆ 1         ┆ 女性   ┆ … ┆ 東京都渋  ┆ S13031    ┆ 20150529  ┆ D-2010032 │\n",
       "│ 0172       ┆ 貴美子     ┆           ┆        ┆   ┆ 谷区代々  ┆           ┆           ┆ 5-C       │\n",
       "│            ┆            ┆           ┆        ┆   ┆ 木******* ┆           ┆           ┆           │\n",
       "│            ┆            ┆           ┆        ┆   ┆ ***       ┆           ┆           ┆           │\n",
       "│ CS01541400 ┆ 奥野 陽子  ┆ 1         ┆ 女性   ┆ … ┆ 東京都江  ┆ S13015    ┆ 20150722  ┆ B-2010060 │\n",
       "│ 0103       ┆            ┆           ┆        ┆   ┆ 東区北砂* ┆           ┆           ┆ 9-B       │\n",
       "│            ┆            ┆           ┆        ┆   ┆ ********* ┆           ┆           ┆           │\n",
       "│ CS01121500 ┆ 芦田 沙耶  ┆ 1         ┆ 女性   ┆ … ┆ 神奈川県  ┆ S14011    ┆ 20150228  ┆ C-2010042 │\n",
       "│ 0048       ┆            ┆           ┆        ┆   ┆ 横浜市港  ┆           ┆           ┆ 1-9       │\n",
       "│            ┆            ┆           ┆        ┆   ┆ 北区日吉  ┆           ┆           ┆           │\n",
       "│            ┆            ┆           ┆        ┆   ┆ 本町***** ┆           ┆           ┆           │\n",
       "│            ┆            ┆           ┆        ┆   ┆ *****     ┆           ┆           ┆           │\n",
       "│ CS02941500 ┆ 梅田 里穂  ┆ 1         ┆ 女性   ┆ … ┆ 千葉県浦  ┆ S12029    ┆ 20150610  ┆ D-2010091 │\n",
       "│ 0023       ┆            ┆           ┆        ┆   ┆ 安市富士  ┆           ┆           ┆ 8-E       │\n",
       "│            ┆            ┆           ┆        ┆   ┆ 見******* ┆           ┆           ┆           │\n",
       "│            ┆            ┆           ┆        ┆   ┆ ***       ┆           ┆           ┆           │\n",
       "│ CS03541500 ┆ 寺沢 真希  ┆ 9         ┆ 不明   ┆ … ┆ 東京都世  ┆ S13035    ┆ 20141220  ┆ F-2010102 │\n",
       "│ 0029       ┆            ┆           ┆        ┆   ┆ 田谷区玉  ┆           ┆           ┆ 9-F       │\n",
       "│            ┆            ┆           ┆        ┆   ┆ 川台***** ┆           ┆           ┆           │\n",
       "│            ┆            ┆           ┆        ┆   ┆ *****     ┆           ┆           ┆           │\n",
       "│ CS03141500 ┆ 宇野       ┆ 1         ┆ 女性   ┆ … ┆ 東京都渋  ┆ S13031    ┆ 20150201  ┆ F-2010051 │\n",
       "│ 0106       ┆ 由美子     ┆           ┆        ┆   ┆ 谷区代々  ┆           ┆           ┆ 1-E       │\n",
       "│            ┆            ┆           ┆        ┆   ┆ 木******* ┆           ┆           ┆           │\n",
       "│            ┆            ┆           ┆        ┆   ┆ ***       ┆           ┆           ┆           │\n",
       "│ CS02921500 ┆ 石倉 美帆  ┆ 1         ┆ 女性   ┆ … ┆ 千葉県浦  ┆ S12029    ┆ 20150708  ┆ B-2010082 │\n",
       "│ 0025       ┆            ┆           ┆        ┆   ┆ 安市今川* ┆           ┆           ┆ 0-C       │\n",
       "│            ┆            ┆           ┆        ┆   ┆ ********* ┆           ┆           ┆           │\n",
       "│ CS03360500 ┆ 猪股 雄太  ┆ 0         ┆ 男性   ┆ … ┆ 神奈川県  ┆ S14033    ┆ 20150425  ┆ F-2010091 │\n",
       "│ 0005       ┆            ┆           ┆        ┆   ┆ 横浜市瀬  ┆           ┆           ┆ 7-E       │\n",
       "│            ┆            ┆           ┆        ┆   ┆ 谷区瀬谷* ┆           ┆           ┆           │\n",
       "│            ┆            ┆           ┆        ┆   ┆ ********* ┆           ┆           ┆           │\n",
       "│ CS03341500 ┆ 板垣       ┆ 1         ┆ 女性   ┆ … ┆ 神奈川県  ┆ S14033    ┆ 20150712  ┆ F-2010032 │\n",
       "│ 0229       ┆ 菜々美     ┆           ┆        ┆   ┆ 横浜市瀬  ┆           ┆           ┆ 6-E       │\n",
       "│            ┆            ┆           ┆        ┆   ┆ 谷区二ツ  ┆           ┆           ┆           │\n",
       "│            ┆            ┆           ┆        ┆   ┆ 橋町***** ┆           ┆           ┆           │\n",
       "│            ┆            ┆           ┆        ┆   ┆ *****     ┆           ┆           ┆           │\n",
       "│ CS00841500 ┆ 黒谷 麻緒  ┆ 1         ┆ 女性   ┆ … ┆ 東京都世  ┆ S13008    ┆ 20150829  ┆ F-2010062 │\n",
       "│ 0145       ┆            ┆           ┆        ┆   ┆ 田谷区喜  ┆           ┆           ┆ 2-F       │\n",
       "│            ┆            ┆           ┆        ┆   ┆ 多見***** ┆           ┆           ┆           │\n",
       "│            ┆            ┆           ┆        ┆   ┆ *****     ┆           ┆           ┆           │\n",
       "└────────────┴────────────┴───────────┴────────┴───┴───────────┴───────────┴───────────┴───────────┘"
      ]
     },
     "execution_count": 14,
     "metadata": {},
     "output_type": "execute_result"
    }
   ],
   "source": [
    "df_customer.filter(pl.col(\"status_cd\").str.contains(r\"^[A-F]\")).head(10)"
   ]
  },
  {
   "cell_type": "markdown",
   "metadata": {},
   "source": [
    "---\n",
    "> P-014: 顧客データ（df_customer）から、ステータスコード（status_cd）の末尾が数字の1〜9で終わるデータを全項目抽出し、10件表示せよ。"
   ]
  },
  {
   "cell_type": "code",
   "execution_count": 15,
   "metadata": {},
   "outputs": [
    {
     "data": {
      "text/html": [
       "<div><style>\n",
       ".dataframe > thead > tr,\n",
       ".dataframe > tbody > tr {\n",
       "  text-align: right;\n",
       "  white-space: pre-wrap;\n",
       "}\n",
       "</style>\n",
       "<small>shape: (10, 11)</small><table border=\"1\" class=\"dataframe\"><thead><tr><th>customer_id</th><th>customer_name</th><th>gender_cd</th><th>gender</th><th>birth_day</th><th>age</th><th>postal_cd</th><th>address</th><th>application_store_cd</th><th>application_date</th><th>status_cd</th></tr><tr><td>str</td><td>str</td><td>i64</td><td>str</td><td>str</td><td>i64</td><td>str</td><td>str</td><td>str</td><td>i64</td><td>str</td></tr></thead><tbody><tr><td>&quot;CS001215000145&quot;</td><td>&quot;田崎 美紀&quot;</td><td>1</td><td>&quot;女性&quot;</td><td>&quot;1995-03-29&quot;</td><td>24</td><td>&quot;144-0055&quot;</td><td>&quot;東京都大田区仲六郷**********&quot;</td><td>&quot;S13001&quot;</td><td>20170605</td><td>&quot;6-20090929-2&quot;</td></tr><tr><td>&quot;CS033513000180&quot;</td><td>&quot;安斎 遥&quot;</td><td>1</td><td>&quot;女性&quot;</td><td>&quot;1962-07-11&quot;</td><td>56</td><td>&quot;241-0823&quot;</td><td>&quot;神奈川県横浜市旭区善部町**********&quot;</td><td>&quot;S14033&quot;</td><td>20150728</td><td>&quot;6-20080506-5&quot;</td></tr><tr><td>&quot;CS011215000048&quot;</td><td>&quot;芦田 沙耶&quot;</td><td>1</td><td>&quot;女性&quot;</td><td>&quot;1992-02-01&quot;</td><td>27</td><td>&quot;223-0062&quot;</td><td>&quot;神奈川県横浜市港北区日吉本町**********&quot;</td><td>&quot;S14011&quot;</td><td>20150228</td><td>&quot;C-20100421-9&quot;</td></tr><tr><td>&quot;CS040412000191&quot;</td><td>&quot;川井 郁恵&quot;</td><td>1</td><td>&quot;女性&quot;</td><td>&quot;1977-01-05&quot;</td><td>42</td><td>&quot;226-0021&quot;</td><td>&quot;神奈川県横浜市緑区北八朔町**********&quot;</td><td>&quot;S14040&quot;</td><td>20151101</td><td>&quot;1-20091025-4&quot;</td></tr><tr><td>&quot;CS009315000023&quot;</td><td>&quot;皆川 文世&quot;</td><td>1</td><td>&quot;女性&quot;</td><td>&quot;1980-04-15&quot;</td><td>38</td><td>&quot;154-0012&quot;</td><td>&quot;東京都世田谷区駒沢**********&quot;</td><td>&quot;S13009&quot;</td><td>20150319</td><td>&quot;5-20080322-1&quot;</td></tr><tr><td>&quot;CS015315000033&quot;</td><td>&quot;福士 璃奈子&quot;</td><td>1</td><td>&quot;女性&quot;</td><td>&quot;1983-03-17&quot;</td><td>36</td><td>&quot;135-0043&quot;</td><td>&quot;東京都江東区塩浜**********&quot;</td><td>&quot;S13015&quot;</td><td>20141024</td><td>&quot;4-20080219-3&quot;</td></tr><tr><td>&quot;CS023513000066&quot;</td><td>&quot;神戸 そら&quot;</td><td>1</td><td>&quot;女性&quot;</td><td>&quot;1961-12-17&quot;</td><td>57</td><td>&quot;210-0005&quot;</td><td>&quot;神奈川県川崎市川崎区東田町**********&quot;</td><td>&quot;S14023&quot;</td><td>20150915</td><td>&quot;5-20100524-9&quot;</td></tr><tr><td>&quot;CS035513000134&quot;</td><td>&quot;市川 美帆&quot;</td><td>1</td><td>&quot;女性&quot;</td><td>&quot;1960-03-27&quot;</td><td>59</td><td>&quot;156-0053&quot;</td><td>&quot;東京都世田谷区桜**********&quot;</td><td>&quot;S13035&quot;</td><td>20150227</td><td>&quot;8-20100711-9&quot;</td></tr><tr><td>&quot;CS001515000263&quot;</td><td>&quot;高松 夏空&quot;</td><td>1</td><td>&quot;女性&quot;</td><td>&quot;1962-11-09&quot;</td><td>56</td><td>&quot;144-0051&quot;</td><td>&quot;東京都大田区西蒲田**********&quot;</td><td>&quot;S13001&quot;</td><td>20160812</td><td>&quot;1-20100804-1&quot;</td></tr><tr><td>&quot;CS040314000027&quot;</td><td>&quot;鶴田 きみまろ&quot;</td><td>9</td><td>&quot;不明&quot;</td><td>&quot;1986-03-26&quot;</td><td>33</td><td>&quot;226-0027&quot;</td><td>&quot;神奈川県横浜市緑区長津田**********&quot;</td><td>&quot;S14040&quot;</td><td>20150122</td><td>&quot;2-20080426-4&quot;</td></tr></tbody></table></div>"
      ],
      "text/plain": [
       "shape: (10, 11)\n",
       "┌────────────┬────────────┬───────────┬────────┬───┬───────────┬───────────┬───────────┬───────────┐\n",
       "│ customer_i ┆ customer_n ┆ gender_cd ┆ gender ┆ … ┆ address   ┆ applicati ┆ applicati ┆ status_cd │\n",
       "│ d          ┆ ame        ┆ ---       ┆ ---    ┆   ┆ ---       ┆ on_store_ ┆ on_date   ┆ ---       │\n",
       "│ ---        ┆ ---        ┆ i64       ┆ str    ┆   ┆ str       ┆ cd        ┆ ---       ┆ str       │\n",
       "│ str        ┆ str        ┆           ┆        ┆   ┆           ┆ ---       ┆ i64       ┆           │\n",
       "│            ┆            ┆           ┆        ┆   ┆           ┆ str       ┆           ┆           │\n",
       "╞════════════╪════════════╪═══════════╪════════╪═══╪═══════════╪═══════════╪═══════════╪═══════════╡\n",
       "│ CS00121500 ┆ 田崎 美紀  ┆ 1         ┆ 女性   ┆ … ┆ 東京都大  ┆ S13001    ┆ 20170605  ┆ 6-2009092 │\n",
       "│ 0145       ┆            ┆           ┆        ┆   ┆ 田区仲六  ┆           ┆           ┆ 9-2       │\n",
       "│            ┆            ┆           ┆        ┆   ┆ 郷******* ┆           ┆           ┆           │\n",
       "│            ┆            ┆           ┆        ┆   ┆ ***       ┆           ┆           ┆           │\n",
       "│ CS03351300 ┆ 安斎 遥    ┆ 1         ┆ 女性   ┆ … ┆ 神奈川県  ┆ S14033    ┆ 20150728  ┆ 6-2008050 │\n",
       "│ 0180       ┆            ┆           ┆        ┆   ┆ 横浜市旭  ┆           ┆           ┆ 6-5       │\n",
       "│            ┆            ┆           ┆        ┆   ┆ 区善部町* ┆           ┆           ┆           │\n",
       "│            ┆            ┆           ┆        ┆   ┆ ********* ┆           ┆           ┆           │\n",
       "│ CS01121500 ┆ 芦田 沙耶  ┆ 1         ┆ 女性   ┆ … ┆ 神奈川県  ┆ S14011    ┆ 20150228  ┆ C-2010042 │\n",
       "│ 0048       ┆            ┆           ┆        ┆   ┆ 横浜市港  ┆           ┆           ┆ 1-9       │\n",
       "│            ┆            ┆           ┆        ┆   ┆ 北区日吉  ┆           ┆           ┆           │\n",
       "│            ┆            ┆           ┆        ┆   ┆ 本町***** ┆           ┆           ┆           │\n",
       "│            ┆            ┆           ┆        ┆   ┆ *****     ┆           ┆           ┆           │\n",
       "│ CS04041200 ┆ 川井 郁恵  ┆ 1         ┆ 女性   ┆ … ┆ 神奈川県  ┆ S14040    ┆ 20151101  ┆ 1-2009102 │\n",
       "│ 0191       ┆            ┆           ┆        ┆   ┆ 横浜市緑  ┆           ┆           ┆ 5-4       │\n",
       "│            ┆            ┆           ┆        ┆   ┆ 区北八朔  ┆           ┆           ┆           │\n",
       "│            ┆            ┆           ┆        ┆   ┆ 町******* ┆           ┆           ┆           │\n",
       "│            ┆            ┆           ┆        ┆   ┆ ***       ┆           ┆           ┆           │\n",
       "│ CS00931500 ┆ 皆川 文世  ┆ 1         ┆ 女性   ┆ … ┆ 東京都世  ┆ S13009    ┆ 20150319  ┆ 5-2008032 │\n",
       "│ 0023       ┆            ┆           ┆        ┆   ┆ 田谷区駒  ┆           ┆           ┆ 2-1       │\n",
       "│            ┆            ┆           ┆        ┆   ┆ 沢******* ┆           ┆           ┆           │\n",
       "│            ┆            ┆           ┆        ┆   ┆ ***       ┆           ┆           ┆           │\n",
       "│ CS01531500 ┆ 福士       ┆ 1         ┆ 女性   ┆ … ┆ 東京都江  ┆ S13015    ┆ 20141024  ┆ 4-2008021 │\n",
       "│ 0033       ┆ 璃奈子     ┆           ┆        ┆   ┆ 東区塩浜* ┆           ┆           ┆ 9-3       │\n",
       "│            ┆            ┆           ┆        ┆   ┆ ********* ┆           ┆           ┆           │\n",
       "│ CS02351300 ┆ 神戸 そら  ┆ 1         ┆ 女性   ┆ … ┆ 神奈川県  ┆ S14023    ┆ 20150915  ┆ 5-2010052 │\n",
       "│ 0066       ┆            ┆           ┆        ┆   ┆ 川崎市川  ┆           ┆           ┆ 4-9       │\n",
       "│            ┆            ┆           ┆        ┆   ┆ 崎区東田  ┆           ┆           ┆           │\n",
       "│            ┆            ┆           ┆        ┆   ┆ 町******* ┆           ┆           ┆           │\n",
       "│            ┆            ┆           ┆        ┆   ┆ ***       ┆           ┆           ┆           │\n",
       "│ CS03551300 ┆ 市川 美帆  ┆ 1         ┆ 女性   ┆ … ┆ 東京都世  ┆ S13035    ┆ 20150227  ┆ 8-2010071 │\n",
       "│ 0134       ┆            ┆           ┆        ┆   ┆ 田谷区桜* ┆           ┆           ┆ 1-9       │\n",
       "│            ┆            ┆           ┆        ┆   ┆ ********* ┆           ┆           ┆           │\n",
       "│ CS00151500 ┆ 高松 夏空  ┆ 1         ┆ 女性   ┆ … ┆ 東京都大  ┆ S13001    ┆ 20160812  ┆ 1-2010080 │\n",
       "│ 0263       ┆            ┆           ┆        ┆   ┆ 田区西蒲  ┆           ┆           ┆ 4-1       │\n",
       "│            ┆            ┆           ┆        ┆   ┆ 田******* ┆           ┆           ┆           │\n",
       "│            ┆            ┆           ┆        ┆   ┆ ***       ┆           ┆           ┆           │\n",
       "│ CS04031400 ┆ 鶴田       ┆ 9         ┆ 不明   ┆ … ┆ 神奈川県  ┆ S14040    ┆ 20150122  ┆ 2-2008042 │\n",
       "│ 0027       ┆ きみまろ   ┆           ┆        ┆   ┆ 横浜市緑  ┆           ┆           ┆ 6-4       │\n",
       "│            ┆            ┆           ┆        ┆   ┆ 区長津田* ┆           ┆           ┆           │\n",
       "│            ┆            ┆           ┆        ┆   ┆ ********* ┆           ┆           ┆           │\n",
       "└────────────┴────────────┴───────────┴────────┴───┴───────────┴───────────┴───────────┴───────────┘"
      ]
     },
     "execution_count": 15,
     "metadata": {},
     "output_type": "execute_result"
    }
   ],
   "source": [
    "df_customer.filter(pl.col(\"status_cd\").str.contains(r\"[1-9]$\")).head(10)"
   ]
  },
  {
   "cell_type": "markdown",
   "metadata": {},
   "source": [
    "---\n",
    "> P-015: 顧客データ（df_customer）から、ステータスコード（status_cd）の先頭がアルファベットのA〜Fで始まり、末尾が数字の1〜9で終わるデータを全項目抽出し、10件表示せよ。"
   ]
  },
  {
   "cell_type": "code",
   "execution_count": 16,
   "metadata": {},
   "outputs": [
    {
     "data": {
      "text/html": [
       "<div><style>\n",
       ".dataframe > thead > tr,\n",
       ".dataframe > tbody > tr {\n",
       "  text-align: right;\n",
       "  white-space: pre-wrap;\n",
       "}\n",
       "</style>\n",
       "<small>shape: (10, 11)</small><table border=\"1\" class=\"dataframe\"><thead><tr><th>customer_id</th><th>customer_name</th><th>gender_cd</th><th>gender</th><th>birth_day</th><th>age</th><th>postal_cd</th><th>address</th><th>application_store_cd</th><th>application_date</th><th>status_cd</th></tr><tr><td>str</td><td>str</td><td>i64</td><td>str</td><td>str</td><td>i64</td><td>str</td><td>str</td><td>str</td><td>i64</td><td>str</td></tr></thead><tbody><tr><td>&quot;CS011215000048&quot;</td><td>&quot;芦田 沙耶&quot;</td><td>1</td><td>&quot;女性&quot;</td><td>&quot;1992-02-01&quot;</td><td>27</td><td>&quot;223-0062&quot;</td><td>&quot;神奈川県横浜市港北区日吉本町**********&quot;</td><td>&quot;S14011&quot;</td><td>20150228</td><td>&quot;C-20100421-9&quot;</td></tr><tr><td>&quot;CS022513000105&quot;</td><td>&quot;島村 貴美子&quot;</td><td>1</td><td>&quot;女性&quot;</td><td>&quot;1962-03-12&quot;</td><td>57</td><td>&quot;249-0002&quot;</td><td>&quot;神奈川県逗子市山の根**********&quot;</td><td>&quot;S14022&quot;</td><td>20150320</td><td>&quot;A-20091115-7&quot;</td></tr><tr><td>&quot;CS001515000096&quot;</td><td>&quot;水野 陽子&quot;</td><td>9</td><td>&quot;不明&quot;</td><td>&quot;1960-11-29&quot;</td><td>58</td><td>&quot;144-0053&quot;</td><td>&quot;東京都大田区蒲田本町**********&quot;</td><td>&quot;S13001&quot;</td><td>20150614</td><td>&quot;A-20100724-7&quot;</td></tr><tr><td>&quot;CS013615000053&quot;</td><td>&quot;西脇 季衣&quot;</td><td>1</td><td>&quot;女性&quot;</td><td>&quot;1953-10-18&quot;</td><td>65</td><td>&quot;261-0026&quot;</td><td>&quot;千葉県千葉市美浜区幕張西**********&quot;</td><td>&quot;S12013&quot;</td><td>20150128</td><td>&quot;B-20100329-6&quot;</td></tr><tr><td>&quot;CS020412000161&quot;</td><td>&quot;小宮 薫&quot;</td><td>1</td><td>&quot;女性&quot;</td><td>&quot;1974-05-21&quot;</td><td>44</td><td>&quot;174-0042&quot;</td><td>&quot;東京都板橋区東坂下**********&quot;</td><td>&quot;S13020&quot;</td><td>20150822</td><td>&quot;B-20081021-3&quot;</td></tr><tr><td>&quot;CS001215000097&quot;</td><td>&quot;竹中 あさみ&quot;</td><td>1</td><td>&quot;女性&quot;</td><td>&quot;1990-07-25&quot;</td><td>28</td><td>&quot;146-0095&quot;</td><td>&quot;東京都大田区多摩川**********&quot;</td><td>&quot;S13001&quot;</td><td>20170315</td><td>&quot;A-20100211-2&quot;</td></tr><tr><td>&quot;CS035212000007&quot;</td><td>&quot;内村 恵梨香&quot;</td><td>1</td><td>&quot;女性&quot;</td><td>&quot;1990-12-04&quot;</td><td>28</td><td>&quot;152-0023&quot;</td><td>&quot;東京都目黒区八雲**********&quot;</td><td>&quot;S13035&quot;</td><td>20151013</td><td>&quot;B-20101018-6&quot;</td></tr><tr><td>&quot;CS002515000386&quot;</td><td>&quot;野田 コウ&quot;</td><td>1</td><td>&quot;女性&quot;</td><td>&quot;1963-05-30&quot;</td><td>55</td><td>&quot;185-0013&quot;</td><td>&quot;東京都国分寺市西恋ケ窪**********&quot;</td><td>&quot;S13002&quot;</td><td>20160410</td><td>&quot;C-20100127-8&quot;</td></tr><tr><td>&quot;CS001615000372&quot;</td><td>&quot;稲垣 寿々花&quot;</td><td>1</td><td>&quot;女性&quot;</td><td>&quot;1956-10-29&quot;</td><td>62</td><td>&quot;144-0035&quot;</td><td>&quot;東京都大田区南蒲田**********&quot;</td><td>&quot;S13001&quot;</td><td>20170403</td><td>&quot;A-20100104-1&quot;</td></tr><tr><td>&quot;CS032512000121&quot;</td><td>&quot;松井 知世&quot;</td><td>1</td><td>&quot;女性&quot;</td><td>&quot;1962-09-04&quot;</td><td>56</td><td>&quot;210-0011&quot;</td><td>&quot;神奈川県川崎市川崎区富士見**********&quot;</td><td>&quot;S13032&quot;</td><td>20150727</td><td>&quot;A-20100103-5&quot;</td></tr></tbody></table></div>"
      ],
      "text/plain": [
       "shape: (10, 11)\n",
       "┌────────────┬────────────┬───────────┬────────┬───┬───────────┬───────────┬───────────┬───────────┐\n",
       "│ customer_i ┆ customer_n ┆ gender_cd ┆ gender ┆ … ┆ address   ┆ applicati ┆ applicati ┆ status_cd │\n",
       "│ d          ┆ ame        ┆ ---       ┆ ---    ┆   ┆ ---       ┆ on_store_ ┆ on_date   ┆ ---       │\n",
       "│ ---        ┆ ---        ┆ i64       ┆ str    ┆   ┆ str       ┆ cd        ┆ ---       ┆ str       │\n",
       "│ str        ┆ str        ┆           ┆        ┆   ┆           ┆ ---       ┆ i64       ┆           │\n",
       "│            ┆            ┆           ┆        ┆   ┆           ┆ str       ┆           ┆           │\n",
       "╞════════════╪════════════╪═══════════╪════════╪═══╪═══════════╪═══════════╪═══════════╪═══════════╡\n",
       "│ CS01121500 ┆ 芦田 沙耶  ┆ 1         ┆ 女性   ┆ … ┆ 神奈川県  ┆ S14011    ┆ 20150228  ┆ C-2010042 │\n",
       "│ 0048       ┆            ┆           ┆        ┆   ┆ 横浜市港  ┆           ┆           ┆ 1-9       │\n",
       "│            ┆            ┆           ┆        ┆   ┆ 北区日吉  ┆           ┆           ┆           │\n",
       "│            ┆            ┆           ┆        ┆   ┆ 本町***** ┆           ┆           ┆           │\n",
       "│            ┆            ┆           ┆        ┆   ┆ *****     ┆           ┆           ┆           │\n",
       "│ CS02251300 ┆ 島村       ┆ 1         ┆ 女性   ┆ … ┆ 神奈川県  ┆ S14022    ┆ 20150320  ┆ A-2009111 │\n",
       "│ 0105       ┆ 貴美子     ┆           ┆        ┆   ┆ 逗子市山  ┆           ┆           ┆ 5-7       │\n",
       "│            ┆            ┆           ┆        ┆   ┆ の根***** ┆           ┆           ┆           │\n",
       "│            ┆            ┆           ┆        ┆   ┆ *****     ┆           ┆           ┆           │\n",
       "│ CS00151500 ┆ 水野 陽子  ┆ 9         ┆ 不明   ┆ … ┆ 東京都大  ┆ S13001    ┆ 20150614  ┆ A-2010072 │\n",
       "│ 0096       ┆            ┆           ┆        ┆   ┆ 田区蒲田  ┆           ┆           ┆ 4-7       │\n",
       "│            ┆            ┆           ┆        ┆   ┆ 本町***** ┆           ┆           ┆           │\n",
       "│            ┆            ┆           ┆        ┆   ┆ *****     ┆           ┆           ┆           │\n",
       "│ CS01361500 ┆ 西脇 季衣  ┆ 1         ┆ 女性   ┆ … ┆ 千葉県千  ┆ S12013    ┆ 20150128  ┆ B-2010032 │\n",
       "│ 0053       ┆            ┆           ┆        ┆   ┆ 葉市美浜  ┆           ┆           ┆ 9-6       │\n",
       "│            ┆            ┆           ┆        ┆   ┆ 区幕張西* ┆           ┆           ┆           │\n",
       "│            ┆            ┆           ┆        ┆   ┆ ********* ┆           ┆           ┆           │\n",
       "│ CS02041200 ┆ 小宮 薫    ┆ 1         ┆ 女性   ┆ … ┆ 東京都板  ┆ S13020    ┆ 20150822  ┆ B-2008102 │\n",
       "│ 0161       ┆            ┆           ┆        ┆   ┆ 橋区東坂  ┆           ┆           ┆ 1-3       │\n",
       "│            ┆            ┆           ┆        ┆   ┆ 下******* ┆           ┆           ┆           │\n",
       "│            ┆            ┆           ┆        ┆   ┆ ***       ┆           ┆           ┆           │\n",
       "│ CS00121500 ┆ 竹中       ┆ 1         ┆ 女性   ┆ … ┆ 東京都大  ┆ S13001    ┆ 20170315  ┆ A-2010021 │\n",
       "│ 0097       ┆ あさみ     ┆           ┆        ┆   ┆ 田区多摩  ┆           ┆           ┆ 1-2       │\n",
       "│            ┆            ┆           ┆        ┆   ┆ 川******* ┆           ┆           ┆           │\n",
       "│            ┆            ┆           ┆        ┆   ┆ ***       ┆           ┆           ┆           │\n",
       "│ CS03521200 ┆ 内村       ┆ 1         ┆ 女性   ┆ … ┆ 東京都目  ┆ S13035    ┆ 20151013  ┆ B-2010101 │\n",
       "│ 0007       ┆ 恵梨香     ┆           ┆        ┆   ┆ 黒区八雲* ┆           ┆           ┆ 8-6       │\n",
       "│            ┆            ┆           ┆        ┆   ┆ ********* ┆           ┆           ┆           │\n",
       "│ CS00251500 ┆ 野田 コウ  ┆ 1         ┆ 女性   ┆ … ┆ 東京都国  ┆ S13002    ┆ 20160410  ┆ C-2010012 │\n",
       "│ 0386       ┆            ┆           ┆        ┆   ┆ 分寺市西  ┆           ┆           ┆ 7-8       │\n",
       "│            ┆            ┆           ┆        ┆   ┆ 恋ケ窪*** ┆           ┆           ┆           │\n",
       "│            ┆            ┆           ┆        ┆   ┆ *******   ┆           ┆           ┆           │\n",
       "│ CS00161500 ┆ 稲垣       ┆ 1         ┆ 女性   ┆ … ┆ 東京都大  ┆ S13001    ┆ 20170403  ┆ A-2010010 │\n",
       "│ 0372       ┆ 寿々花     ┆           ┆        ┆   ┆ 田区南蒲  ┆           ┆           ┆ 4-1       │\n",
       "│            ┆            ┆           ┆        ┆   ┆ 田******* ┆           ┆           ┆           │\n",
       "│            ┆            ┆           ┆        ┆   ┆ ***       ┆           ┆           ┆           │\n",
       "│ CS03251200 ┆ 松井 知世  ┆ 1         ┆ 女性   ┆ … ┆ 神奈川県  ┆ S13032    ┆ 20150727  ┆ A-2010010 │\n",
       "│ 0121       ┆            ┆           ┆        ┆   ┆ 川崎市川  ┆           ┆           ┆ 3-5       │\n",
       "│            ┆            ┆           ┆        ┆   ┆ 崎区富士  ┆           ┆           ┆           │\n",
       "│            ┆            ┆           ┆        ┆   ┆ 見******* ┆           ┆           ┆           │\n",
       "│            ┆            ┆           ┆        ┆   ┆ ***       ┆           ┆           ┆           │\n",
       "└────────────┴────────────┴───────────┴────────┴───┴───────────┴───────────┴───────────┴───────────┘"
      ]
     },
     "execution_count": 16,
     "metadata": {},
     "output_type": "execute_result"
    }
   ],
   "source": [
    "df_customer.filter(pl.col(\"status_cd\").str.contains(r\"^[A-F].*[1-9]$\")).head(10)"
   ]
  },
  {
   "cell_type": "markdown",
   "metadata": {},
   "source": [
    "---\n",
    "> P-016: 店舗データ（df_store）から、電話番号（tel_no）が3桁-3桁-4桁のデータを全項目表示せよ。"
   ]
  },
  {
   "cell_type": "code",
   "execution_count": 17,
   "metadata": {},
   "outputs": [
    {
     "data": {
      "text/html": [
       "<div><style>\n",
       ".dataframe > thead > tr,\n",
       ".dataframe > tbody > tr {\n",
       "  text-align: right;\n",
       "  white-space: pre-wrap;\n",
       "}\n",
       "</style>\n",
       "<small>shape: (34, 10)</small><table border=\"1\" class=\"dataframe\"><thead><tr><th>store_cd</th><th>store_name</th><th>prefecture_cd</th><th>prefecture</th><th>address</th><th>address_kana</th><th>tel_no</th><th>longitude</th><th>latitude</th><th>floor_area</th></tr><tr><td>str</td><td>str</td><td>i64</td><td>str</td><td>str</td><td>str</td><td>str</td><td>f64</td><td>f64</td><td>f64</td></tr></thead><tbody><tr><td>&quot;S12014&quot;</td><td>&quot;千草台店&quot;</td><td>12</td><td>&quot;千葉県&quot;</td><td>&quot;千葉県千葉市稲毛区千草台一丁目&quot;</td><td>&quot;チバケンチバシイナゲクチグサダイイッチョウメ&quot;</td><td>&quot;043-123-4003&quot;</td><td>140.118</td><td>35.63559</td><td>1698.0</td></tr><tr><td>&quot;S13002&quot;</td><td>&quot;国分寺店&quot;</td><td>13</td><td>&quot;東京都&quot;</td><td>&quot;東京都国分寺市本多二丁目&quot;</td><td>&quot;トウキョウトコクブンジシホンダニチョウメ&quot;</td><td>&quot;042-123-4008&quot;</td><td>139.4802</td><td>35.70566</td><td>1735.0</td></tr><tr><td>&quot;S14010&quot;</td><td>&quot;菊名店&quot;</td><td>14</td><td>&quot;神奈川県&quot;</td><td>&quot;神奈川県横浜市港北区菊名一丁目&quot;</td><td>&quot;カナガワケンヨコハマシコウホククキクナイッチョウメ&quot;</td><td>&quot;045-123-4032&quot;</td><td>139.6326</td><td>35.50049</td><td>1732.0</td></tr><tr><td>&quot;S14033&quot;</td><td>&quot;阿久和店&quot;</td><td>14</td><td>&quot;神奈川県&quot;</td><td>&quot;神奈川県横浜市瀬谷区阿久和西一丁目&quot;</td><td>&quot;カナガワケンヨコハマシセヤクアクワニシイッチョウメ&quot;</td><td>&quot;045-123-4043&quot;</td><td>139.4961</td><td>35.45918</td><td>1495.0</td></tr><tr><td>&quot;S14036&quot;</td><td>&quot;相模原中央店&quot;</td><td>14</td><td>&quot;神奈川県&quot;</td><td>&quot;神奈川県相模原市中央二丁目&quot;</td><td>&quot;カナガワケンサガミハラシチュウオウニチョウメ&quot;</td><td>&quot;042-123-4045&quot;</td><td>139.3716</td><td>35.57327</td><td>1679.0</td></tr><tr><td>&hellip;</td><td>&hellip;</td><td>&hellip;</td><td>&hellip;</td><td>&hellip;</td><td>&hellip;</td><td>&hellip;</td><td>&hellip;</td><td>&hellip;</td><td>&hellip;</td></tr><tr><td>&quot;S14045&quot;</td><td>&quot;厚木店&quot;</td><td>14</td><td>&quot;神奈川県&quot;</td><td>&quot;神奈川県厚木市中町二丁目&quot;</td><td>&quot;カナガワケンアツギシナカチョウニチョウメ&quot;</td><td>&quot;046-123-4048&quot;</td><td>139.3651</td><td>35.44182</td><td>980.0</td></tr><tr><td>&quot;S12029&quot;</td><td>&quot;東野店&quot;</td><td>12</td><td>&quot;千葉県&quot;</td><td>&quot;千葉県浦安市東野一丁目&quot;</td><td>&quot;チバケンウラヤスシヒガシノイッチョウメ&quot;</td><td>&quot;047-123-4004&quot;</td><td>139.8968</td><td>35.65086</td><td>1101.0</td></tr><tr><td>&quot;S12053&quot;</td><td>&quot;高洲店&quot;</td><td>12</td><td>&quot;千葉県&quot;</td><td>&quot;千葉県浦安市高洲五丁目&quot;</td><td>&quot;チバケンウラヤスシタカスゴチョウメ&quot;</td><td>&quot;047-123-4006&quot;</td><td>139.9176</td><td>35.63755</td><td>1555.0</td></tr><tr><td>&quot;S14024&quot;</td><td>&quot;三田店&quot;</td><td>14</td><td>&quot;神奈川県&quot;</td><td>&quot;神奈川県川崎市多摩区三田四丁目&quot;</td><td>&quot;カナガワケンカワサキシタマクミタヨンチョウメ&quot;</td><td>&quot;044-123-4038&quot;</td><td>139.5424</td><td>35.6077</td><td>972.0</td></tr><tr><td>&quot;S14006&quot;</td><td>&quot;葛が谷店&quot;</td><td>14</td><td>&quot;神奈川県&quot;</td><td>&quot;神奈川県横浜市都筑区葛が谷&quot;</td><td>&quot;カナガワケンヨコハマシツヅキククズガヤ&quot;</td><td>&quot;045-123-4031&quot;</td><td>139.5633</td><td>35.53573</td><td>1886.0</td></tr></tbody></table></div>"
      ],
      "text/plain": [
       "shape: (34, 10)\n",
       "┌──────────┬────────────┬───────────┬───────────┬───┬───────────┬───────────┬──────────┬───────────┐\n",
       "│ store_cd ┆ store_name ┆ prefectur ┆ prefectur ┆ … ┆ tel_no    ┆ longitude ┆ latitude ┆ floor_are │\n",
       "│ ---      ┆ ---        ┆ e_cd      ┆ e         ┆   ┆ ---       ┆ ---       ┆ ---      ┆ a         │\n",
       "│ str      ┆ str        ┆ ---       ┆ ---       ┆   ┆ str       ┆ f64       ┆ f64      ┆ ---       │\n",
       "│          ┆            ┆ i64       ┆ str       ┆   ┆           ┆           ┆          ┆ f64       │\n",
       "╞══════════╪════════════╪═══════════╪═══════════╪═══╪═══════════╪═══════════╪══════════╪═══════════╡\n",
       "│ S12014   ┆ 千草台店   ┆ 12        ┆ 千葉県    ┆ … ┆ 043-123-4 ┆ 140.118   ┆ 35.63559 ┆ 1698.0    │\n",
       "│          ┆            ┆           ┆           ┆   ┆ 003       ┆           ┆          ┆           │\n",
       "│ S13002   ┆ 国分寺店   ┆ 13        ┆ 東京都    ┆ … ┆ 042-123-4 ┆ 139.4802  ┆ 35.70566 ┆ 1735.0    │\n",
       "│          ┆            ┆           ┆           ┆   ┆ 008       ┆           ┆          ┆           │\n",
       "│ S14010   ┆ 菊名店     ┆ 14        ┆ 神奈川県  ┆ … ┆ 045-123-4 ┆ 139.6326  ┆ 35.50049 ┆ 1732.0    │\n",
       "│          ┆            ┆           ┆           ┆   ┆ 032       ┆           ┆          ┆           │\n",
       "│ S14033   ┆ 阿久和店   ┆ 14        ┆ 神奈川県  ┆ … ┆ 045-123-4 ┆ 139.4961  ┆ 35.45918 ┆ 1495.0    │\n",
       "│          ┆            ┆           ┆           ┆   ┆ 043       ┆           ┆          ┆           │\n",
       "│ S14036   ┆ 相模原中央 ┆ 14        ┆ 神奈川県  ┆ … ┆ 042-123-4 ┆ 139.3716  ┆ 35.57327 ┆ 1679.0    │\n",
       "│          ┆ 店         ┆           ┆           ┆   ┆ 045       ┆           ┆          ┆           │\n",
       "│ …        ┆ …          ┆ …         ┆ …         ┆ … ┆ …         ┆ …         ┆ …        ┆ …         │\n",
       "│ S14045   ┆ 厚木店     ┆ 14        ┆ 神奈川県  ┆ … ┆ 046-123-4 ┆ 139.3651  ┆ 35.44182 ┆ 980.0     │\n",
       "│          ┆            ┆           ┆           ┆   ┆ 048       ┆           ┆          ┆           │\n",
       "│ S12029   ┆ 東野店     ┆ 12        ┆ 千葉県    ┆ … ┆ 047-123-4 ┆ 139.8968  ┆ 35.65086 ┆ 1101.0    │\n",
       "│          ┆            ┆           ┆           ┆   ┆ 004       ┆           ┆          ┆           │\n",
       "│ S12053   ┆ 高洲店     ┆ 12        ┆ 千葉県    ┆ … ┆ 047-123-4 ┆ 139.9176  ┆ 35.63755 ┆ 1555.0    │\n",
       "│          ┆            ┆           ┆           ┆   ┆ 006       ┆           ┆          ┆           │\n",
       "│ S14024   ┆ 三田店     ┆ 14        ┆ 神奈川県  ┆ … ┆ 044-123-4 ┆ 139.5424  ┆ 35.6077  ┆ 972.0     │\n",
       "│          ┆            ┆           ┆           ┆   ┆ 038       ┆           ┆          ┆           │\n",
       "│ S14006   ┆ 葛が谷店   ┆ 14        ┆ 神奈川県  ┆ … ┆ 045-123-4 ┆ 139.5633  ┆ 35.53573 ┆ 1886.0    │\n",
       "│          ┆            ┆           ┆           ┆   ┆ 031       ┆           ┆          ┆           │\n",
       "└──────────┴────────────┴───────────┴───────────┴───┴───────────┴───────────┴──────────┴───────────┘"
      ]
     },
     "execution_count": 17,
     "metadata": {},
     "output_type": "execute_result"
    }
   ],
   "source": [
    "df_store.filter(pl.col(\"tel_no\").str.contains(r\"^\\d{3}-\\d{3}-\\d{4}$\"))"
   ]
  },
  {
   "cell_type": "markdown",
   "metadata": {},
   "source": [
    "---\n",
    "> P-017: 顧客データ（df_customer）を生年月日（birth_day）で高齢順にソートし、先頭から全項目を10件表示せよ。"
   ]
  },
  {
   "cell_type": "code",
   "execution_count": 18,
   "metadata": {},
   "outputs": [
    {
     "data": {
      "text/html": [
       "<div><style>\n",
       ".dataframe > thead > tr,\n",
       ".dataframe > tbody > tr {\n",
       "  text-align: right;\n",
       "  white-space: pre-wrap;\n",
       "}\n",
       "</style>\n",
       "<small>shape: (10, 11)</small><table border=\"1\" class=\"dataframe\"><thead><tr><th>customer_id</th><th>customer_name</th><th>gender_cd</th><th>gender</th><th>birth_day</th><th>age</th><th>postal_cd</th><th>address</th><th>application_store_cd</th><th>application_date</th><th>status_cd</th></tr><tr><td>str</td><td>str</td><td>i64</td><td>str</td><td>str</td><td>i64</td><td>str</td><td>str</td><td>str</td><td>i64</td><td>str</td></tr></thead><tbody><tr><td>&quot;CS003813000014&quot;</td><td>&quot;村山 菜々美&quot;</td><td>1</td><td>&quot;女性&quot;</td><td>&quot;1928-11-26&quot;</td><td>90</td><td>&quot;182-0007&quot;</td><td>&quot;東京都調布市菊野台**********&quot;</td><td>&quot;S13003&quot;</td><td>20160214</td><td>&quot;0-00000000-0&quot;</td></tr><tr><td>&quot;CS026813000004&quot;</td><td>&quot;吉村 朝陽&quot;</td><td>1</td><td>&quot;女性&quot;</td><td>&quot;1928-12-14&quot;</td><td>90</td><td>&quot;251-0043&quot;</td><td>&quot;神奈川県藤沢市辻堂元町**********&quot;</td><td>&quot;S14026&quot;</td><td>20150723</td><td>&quot;0-00000000-0&quot;</td></tr><tr><td>&quot;CS018811000003&quot;</td><td>&quot;熊沢 美里&quot;</td><td>1</td><td>&quot;女性&quot;</td><td>&quot;1929-01-07&quot;</td><td>90</td><td>&quot;204-0004&quot;</td><td>&quot;東京都清瀬市野塩**********&quot;</td><td>&quot;S13018&quot;</td><td>20150403</td><td>&quot;0-00000000-0&quot;</td></tr><tr><td>&quot;CS027803000004&quot;</td><td>&quot;内村 拓郎&quot;</td><td>0</td><td>&quot;男性&quot;</td><td>&quot;1929-01-12&quot;</td><td>90</td><td>&quot;251-0031&quot;</td><td>&quot;神奈川県藤沢市鵠沼藤が谷**********&quot;</td><td>&quot;S14027&quot;</td><td>20151227</td><td>&quot;0-00000000-0&quot;</td></tr><tr><td>&quot;CS013801000003&quot;</td><td>&quot;天野 拓郎&quot;</td><td>0</td><td>&quot;男性&quot;</td><td>&quot;1929-01-15&quot;</td><td>90</td><td>&quot;274-0824&quot;</td><td>&quot;千葉県船橋市前原東**********&quot;</td><td>&quot;S12013&quot;</td><td>20160120</td><td>&quot;0-00000000-0&quot;</td></tr><tr><td>&quot;CS001814000022&quot;</td><td>&quot;鶴田 里穂&quot;</td><td>1</td><td>&quot;女性&quot;</td><td>&quot;1929-01-28&quot;</td><td>90</td><td>&quot;144-0045&quot;</td><td>&quot;東京都大田区南六郷**********&quot;</td><td>&quot;S13001&quot;</td><td>20161012</td><td>&quot;A-20090415-7&quot;</td></tr><tr><td>&quot;CS016815000002&quot;</td><td>&quot;山元 美紀&quot;</td><td>1</td><td>&quot;女性&quot;</td><td>&quot;1929-02-22&quot;</td><td>90</td><td>&quot;184-0005&quot;</td><td>&quot;東京都小金井市桜町**********&quot;</td><td>&quot;S13016&quot;</td><td>20150629</td><td>&quot;C-20090923-C&quot;</td></tr><tr><td>&quot;CS009815000003&quot;</td><td>&quot;中田 里穂&quot;</td><td>1</td><td>&quot;女性&quot;</td><td>&quot;1929-04-08&quot;</td><td>89</td><td>&quot;154-0014&quot;</td><td>&quot;東京都世田谷区新町**********&quot;</td><td>&quot;S13009&quot;</td><td>20150421</td><td>&quot;D-20091021-E&quot;</td></tr><tr><td>&quot;CS012813000013&quot;</td><td>&quot;宇野 南朋&quot;</td><td>1</td><td>&quot;女性&quot;</td><td>&quot;1929-04-09&quot;</td><td>89</td><td>&quot;231-0806&quot;</td><td>&quot;神奈川県横浜市中区本牧町**********&quot;</td><td>&quot;S14012&quot;</td><td>20150712</td><td>&quot;0-00000000-0&quot;</td></tr><tr><td>&quot;CS005813000015&quot;</td><td>&quot;金谷 恵梨香&quot;</td><td>1</td><td>&quot;女性&quot;</td><td>&quot;1929-04-09&quot;</td><td>89</td><td>&quot;165-0032&quot;</td><td>&quot;東京都中野区鷺宮**********&quot;</td><td>&quot;S13005&quot;</td><td>20150506</td><td>&quot;0-00000000-0&quot;</td></tr></tbody></table></div>"
      ],
      "text/plain": [
       "shape: (10, 11)\n",
       "┌────────────┬────────────┬───────────┬────────┬───┬───────────┬───────────┬───────────┬───────────┐\n",
       "│ customer_i ┆ customer_n ┆ gender_cd ┆ gender ┆ … ┆ address   ┆ applicati ┆ applicati ┆ status_cd │\n",
       "│ d          ┆ ame        ┆ ---       ┆ ---    ┆   ┆ ---       ┆ on_store_ ┆ on_date   ┆ ---       │\n",
       "│ ---        ┆ ---        ┆ i64       ┆ str    ┆   ┆ str       ┆ cd        ┆ ---       ┆ str       │\n",
       "│ str        ┆ str        ┆           ┆        ┆   ┆           ┆ ---       ┆ i64       ┆           │\n",
       "│            ┆            ┆           ┆        ┆   ┆           ┆ str       ┆           ┆           │\n",
       "╞════════════╪════════════╪═══════════╪════════╪═══╪═══════════╪═══════════╪═══════════╪═══════════╡\n",
       "│ CS00381300 ┆ 村山       ┆ 1         ┆ 女性   ┆ … ┆ 東京都調  ┆ S13003    ┆ 20160214  ┆ 0-0000000 │\n",
       "│ 0014       ┆ 菜々美     ┆           ┆        ┆   ┆ 布市菊野  ┆           ┆           ┆ 0-0       │\n",
       "│            ┆            ┆           ┆        ┆   ┆ 台******* ┆           ┆           ┆           │\n",
       "│            ┆            ┆           ┆        ┆   ┆ ***       ┆           ┆           ┆           │\n",
       "│ CS02681300 ┆ 吉村 朝陽  ┆ 1         ┆ 女性   ┆ … ┆ 神奈川県  ┆ S14026    ┆ 20150723  ┆ 0-0000000 │\n",
       "│ 0004       ┆            ┆           ┆        ┆   ┆ 藤沢市辻  ┆           ┆           ┆ 0-0       │\n",
       "│            ┆            ┆           ┆        ┆   ┆ 堂元町*** ┆           ┆           ┆           │\n",
       "│            ┆            ┆           ┆        ┆   ┆ *******   ┆           ┆           ┆           │\n",
       "│ CS01881100 ┆ 熊沢 美里  ┆ 1         ┆ 女性   ┆ … ┆ 東京都清  ┆ S13018    ┆ 20150403  ┆ 0-0000000 │\n",
       "│ 0003       ┆            ┆           ┆        ┆   ┆ 瀬市野塩* ┆           ┆           ┆ 0-0       │\n",
       "│            ┆            ┆           ┆        ┆   ┆ ********* ┆           ┆           ┆           │\n",
       "│ CS02780300 ┆ 内村 拓郎  ┆ 0         ┆ 男性   ┆ … ┆ 神奈川県  ┆ S14027    ┆ 20151227  ┆ 0-0000000 │\n",
       "│ 0004       ┆            ┆           ┆        ┆   ┆ 藤沢市鵠  ┆           ┆           ┆ 0-0       │\n",
       "│            ┆            ┆           ┆        ┆   ┆ 沼藤が谷* ┆           ┆           ┆           │\n",
       "│            ┆            ┆           ┆        ┆   ┆ ********* ┆           ┆           ┆           │\n",
       "│ CS01380100 ┆ 天野 拓郎  ┆ 0         ┆ 男性   ┆ … ┆ 千葉県船  ┆ S12013    ┆ 20160120  ┆ 0-0000000 │\n",
       "│ 0003       ┆            ┆           ┆        ┆   ┆ 橋市前原  ┆           ┆           ┆ 0-0       │\n",
       "│            ┆            ┆           ┆        ┆   ┆ 東******* ┆           ┆           ┆           │\n",
       "│            ┆            ┆           ┆        ┆   ┆ ***       ┆           ┆           ┆           │\n",
       "│ CS00181400 ┆ 鶴田 里穂  ┆ 1         ┆ 女性   ┆ … ┆ 東京都大  ┆ S13001    ┆ 20161012  ┆ A-2009041 │\n",
       "│ 0022       ┆            ┆           ┆        ┆   ┆ 田区南六  ┆           ┆           ┆ 5-7       │\n",
       "│            ┆            ┆           ┆        ┆   ┆ 郷******* ┆           ┆           ┆           │\n",
       "│            ┆            ┆           ┆        ┆   ┆ ***       ┆           ┆           ┆           │\n",
       "│ CS01681500 ┆ 山元 美紀  ┆ 1         ┆ 女性   ┆ … ┆ 東京都小  ┆ S13016    ┆ 20150629  ┆ C-2009092 │\n",
       "│ 0002       ┆            ┆           ┆        ┆   ┆ 金井市桜  ┆           ┆           ┆ 3-C       │\n",
       "│            ┆            ┆           ┆        ┆   ┆ 町******* ┆           ┆           ┆           │\n",
       "│            ┆            ┆           ┆        ┆   ┆ ***       ┆           ┆           ┆           │\n",
       "│ CS00981500 ┆ 中田 里穂  ┆ 1         ┆ 女性   ┆ … ┆ 東京都世  ┆ S13009    ┆ 20150421  ┆ D-2009102 │\n",
       "│ 0003       ┆            ┆           ┆        ┆   ┆ 田谷区新  ┆           ┆           ┆ 1-E       │\n",
       "│            ┆            ┆           ┆        ┆   ┆ 町******* ┆           ┆           ┆           │\n",
       "│            ┆            ┆           ┆        ┆   ┆ ***       ┆           ┆           ┆           │\n",
       "│ CS01281300 ┆ 宇野 南朋  ┆ 1         ┆ 女性   ┆ … ┆ 神奈川県  ┆ S14012    ┆ 20150712  ┆ 0-0000000 │\n",
       "│ 0013       ┆            ┆           ┆        ┆   ┆ 横浜市中  ┆           ┆           ┆ 0-0       │\n",
       "│            ┆            ┆           ┆        ┆   ┆ 区本牧町* ┆           ┆           ┆           │\n",
       "│            ┆            ┆           ┆        ┆   ┆ ********* ┆           ┆           ┆           │\n",
       "│ CS00581300 ┆ 金谷       ┆ 1         ┆ 女性   ┆ … ┆ 東京都中  ┆ S13005    ┆ 20150506  ┆ 0-0000000 │\n",
       "│ 0015       ┆ 恵梨香     ┆           ┆        ┆   ┆ 野区鷺宮* ┆           ┆           ┆ 0-0       │\n",
       "│            ┆            ┆           ┆        ┆   ┆ ********* ┆           ┆           ┆           │\n",
       "└────────────┴────────────┴───────────┴────────┴───┴───────────┴───────────┴───────────┴───────────┘"
      ]
     },
     "execution_count": 18,
     "metadata": {},
     "output_type": "execute_result"
    }
   ],
   "source": [
    "df_customer.sort(\"birth_day\").head(10)"
   ]
  },
  {
   "cell_type": "markdown",
   "metadata": {},
   "source": [
    "---\n",
    "> P-018: 顧客データ（df_customer）を生年月日（birth_day）で若い順にソートし、先頭から全項目を10件表示せよ。"
   ]
  },
  {
   "cell_type": "code",
   "execution_count": 19,
   "metadata": {},
   "outputs": [
    {
     "data": {
      "text/html": [
       "<div><style>\n",
       ".dataframe > thead > tr,\n",
       ".dataframe > tbody > tr {\n",
       "  text-align: right;\n",
       "  white-space: pre-wrap;\n",
       "}\n",
       "</style>\n",
       "<small>shape: (10, 11)</small><table border=\"1\" class=\"dataframe\"><thead><tr><th>customer_id</th><th>customer_name</th><th>gender_cd</th><th>gender</th><th>birth_day</th><th>age</th><th>postal_cd</th><th>address</th><th>application_store_cd</th><th>application_date</th><th>status_cd</th></tr><tr><td>str</td><td>str</td><td>i64</td><td>str</td><td>str</td><td>i64</td><td>str</td><td>str</td><td>str</td><td>i64</td><td>str</td></tr></thead><tbody><tr><td>&quot;CS035114000004&quot;</td><td>&quot;大村 美里&quot;</td><td>1</td><td>&quot;女性&quot;</td><td>&quot;2007-11-25&quot;</td><td>11</td><td>&quot;156-0053&quot;</td><td>&quot;東京都世田谷区桜**********&quot;</td><td>&quot;S13035&quot;</td><td>20150619</td><td>&quot;6-20091205-6&quot;</td></tr><tr><td>&quot;CS022103000002&quot;</td><td>&quot;福山 はじめ&quot;</td><td>9</td><td>&quot;不明&quot;</td><td>&quot;2007-10-02&quot;</td><td>11</td><td>&quot;249-0006&quot;</td><td>&quot;神奈川県逗子市逗子**********&quot;</td><td>&quot;S14022&quot;</td><td>20160909</td><td>&quot;0-00000000-0&quot;</td></tr><tr><td>&quot;CS002113000009&quot;</td><td>&quot;柴田 真悠子&quot;</td><td>1</td><td>&quot;女性&quot;</td><td>&quot;2007-09-17&quot;</td><td>11</td><td>&quot;184-0014&quot;</td><td>&quot;東京都小金井市貫井南町**********&quot;</td><td>&quot;S13002&quot;</td><td>20160304</td><td>&quot;0-00000000-0&quot;</td></tr><tr><td>&quot;CS004115000014&quot;</td><td>&quot;松井 京子&quot;</td><td>1</td><td>&quot;女性&quot;</td><td>&quot;2007-08-09&quot;</td><td>11</td><td>&quot;165-0031&quot;</td><td>&quot;東京都中野区上鷺宮**********&quot;</td><td>&quot;S13004&quot;</td><td>20161120</td><td>&quot;1-20081231-1&quot;</td></tr><tr><td>&quot;CS002114000010&quot;</td><td>&quot;山内 遥&quot;</td><td>1</td><td>&quot;女性&quot;</td><td>&quot;2007-06-03&quot;</td><td>11</td><td>&quot;184-0015&quot;</td><td>&quot;東京都小金井市貫井北町**********&quot;</td><td>&quot;S13002&quot;</td><td>20160920</td><td>&quot;6-20100510-1&quot;</td></tr><tr><td>&quot;CS025115000002&quot;</td><td>&quot;小柳 夏希&quot;</td><td>1</td><td>&quot;女性&quot;</td><td>&quot;2007-04-18&quot;</td><td>11</td><td>&quot;245-0018&quot;</td><td>&quot;神奈川県横浜市泉区上飯田町**********&quot;</td><td>&quot;S14025&quot;</td><td>20160116</td><td>&quot;D-20100913-D&quot;</td></tr><tr><td>&quot;CS002113000025&quot;</td><td>&quot;広末 まなみ&quot;</td><td>1</td><td>&quot;女性&quot;</td><td>&quot;2007-03-30&quot;</td><td>12</td><td>&quot;184-0015&quot;</td><td>&quot;東京都小金井市貫井北町**********&quot;</td><td>&quot;S13002&quot;</td><td>20171030</td><td>&quot;0-00000000-0&quot;</td></tr><tr><td>&quot;CS033112000003&quot;</td><td>&quot;長野 美紀&quot;</td><td>1</td><td>&quot;女性&quot;</td><td>&quot;2007-03-22&quot;</td><td>12</td><td>&quot;245-0051&quot;</td><td>&quot;神奈川県横浜市戸塚区名瀬町**********&quot;</td><td>&quot;S14033&quot;</td><td>20150606</td><td>&quot;0-00000000-0&quot;</td></tr><tr><td>&quot;CS007115000006&quot;</td><td>&quot;福岡 瞬&quot;</td><td>1</td><td>&quot;女性&quot;</td><td>&quot;2007-03-10&quot;</td><td>12</td><td>&quot;285-0845&quot;</td><td>&quot;千葉県佐倉市西志津**********&quot;</td><td>&quot;S12007&quot;</td><td>20151118</td><td>&quot;F-20101016-F&quot;</td></tr><tr><td>&quot;CS014113000008&quot;</td><td>&quot;矢口 莉緒&quot;</td><td>1</td><td>&quot;女性&quot;</td><td>&quot;2007-03-05&quot;</td><td>12</td><td>&quot;260-0041&quot;</td><td>&quot;千葉県千葉市中央区東千葉**********&quot;</td><td>&quot;S12014&quot;</td><td>20150622</td><td>&quot;3-20091108-6&quot;</td></tr></tbody></table></div>"
      ],
      "text/plain": [
       "shape: (10, 11)\n",
       "┌────────────┬────────────┬───────────┬────────┬───┬───────────┬───────────┬───────────┬───────────┐\n",
       "│ customer_i ┆ customer_n ┆ gender_cd ┆ gender ┆ … ┆ address   ┆ applicati ┆ applicati ┆ status_cd │\n",
       "│ d          ┆ ame        ┆ ---       ┆ ---    ┆   ┆ ---       ┆ on_store_ ┆ on_date   ┆ ---       │\n",
       "│ ---        ┆ ---        ┆ i64       ┆ str    ┆   ┆ str       ┆ cd        ┆ ---       ┆ str       │\n",
       "│ str        ┆ str        ┆           ┆        ┆   ┆           ┆ ---       ┆ i64       ┆           │\n",
       "│            ┆            ┆           ┆        ┆   ┆           ┆ str       ┆           ┆           │\n",
       "╞════════════╪════════════╪═══════════╪════════╪═══╪═══════════╪═══════════╪═══════════╪═══════════╡\n",
       "│ CS03511400 ┆ 大村 美里  ┆ 1         ┆ 女性   ┆ … ┆ 東京都世  ┆ S13035    ┆ 20150619  ┆ 6-2009120 │\n",
       "│ 0004       ┆            ┆           ┆        ┆   ┆ 田谷区桜* ┆           ┆           ┆ 5-6       │\n",
       "│            ┆            ┆           ┆        ┆   ┆ ********* ┆           ┆           ┆           │\n",
       "│ CS02210300 ┆ 福山       ┆ 9         ┆ 不明   ┆ … ┆ 神奈川県  ┆ S14022    ┆ 20160909  ┆ 0-0000000 │\n",
       "│ 0002       ┆ はじめ     ┆           ┆        ┆   ┆ 逗子市逗  ┆           ┆           ┆ 0-0       │\n",
       "│            ┆            ┆           ┆        ┆   ┆ 子******* ┆           ┆           ┆           │\n",
       "│            ┆            ┆           ┆        ┆   ┆ ***       ┆           ┆           ┆           │\n",
       "│ CS00211300 ┆ 柴田       ┆ 1         ┆ 女性   ┆ … ┆ 東京都小  ┆ S13002    ┆ 20160304  ┆ 0-0000000 │\n",
       "│ 0009       ┆ 真悠子     ┆           ┆        ┆   ┆ 金井市貫  ┆           ┆           ┆ 0-0       │\n",
       "│            ┆            ┆           ┆        ┆   ┆ 井南町*** ┆           ┆           ┆           │\n",
       "│            ┆            ┆           ┆        ┆   ┆ *******   ┆           ┆           ┆           │\n",
       "│ CS00411500 ┆ 松井 京子  ┆ 1         ┆ 女性   ┆ … ┆ 東京都中  ┆ S13004    ┆ 20161120  ┆ 1-2008123 │\n",
       "│ 0014       ┆            ┆           ┆        ┆   ┆ 野区上鷺  ┆           ┆           ┆ 1-1       │\n",
       "│            ┆            ┆           ┆        ┆   ┆ 宮******* ┆           ┆           ┆           │\n",
       "│            ┆            ┆           ┆        ┆   ┆ ***       ┆           ┆           ┆           │\n",
       "│ CS00211400 ┆ 山内 遥    ┆ 1         ┆ 女性   ┆ … ┆ 東京都小  ┆ S13002    ┆ 20160920  ┆ 6-2010051 │\n",
       "│ 0010       ┆            ┆           ┆        ┆   ┆ 金井市貫  ┆           ┆           ┆ 0-1       │\n",
       "│            ┆            ┆           ┆        ┆   ┆ 井北町*** ┆           ┆           ┆           │\n",
       "│            ┆            ┆           ┆        ┆   ┆ *******   ┆           ┆           ┆           │\n",
       "│ CS02511500 ┆ 小柳 夏希  ┆ 1         ┆ 女性   ┆ … ┆ 神奈川県  ┆ S14025    ┆ 20160116  ┆ D-2010091 │\n",
       "│ 0002       ┆            ┆           ┆        ┆   ┆ 横浜市泉  ┆           ┆           ┆ 3-D       │\n",
       "│            ┆            ┆           ┆        ┆   ┆ 区上飯田  ┆           ┆           ┆           │\n",
       "│            ┆            ┆           ┆        ┆   ┆ 町******* ┆           ┆           ┆           │\n",
       "│            ┆            ┆           ┆        ┆   ┆ ***       ┆           ┆           ┆           │\n",
       "│ CS00211300 ┆ 広末       ┆ 1         ┆ 女性   ┆ … ┆ 東京都小  ┆ S13002    ┆ 20171030  ┆ 0-0000000 │\n",
       "│ 0025       ┆ まなみ     ┆           ┆        ┆   ┆ 金井市貫  ┆           ┆           ┆ 0-0       │\n",
       "│            ┆            ┆           ┆        ┆   ┆ 井北町*** ┆           ┆           ┆           │\n",
       "│            ┆            ┆           ┆        ┆   ┆ *******   ┆           ┆           ┆           │\n",
       "│ CS03311200 ┆ 長野 美紀  ┆ 1         ┆ 女性   ┆ … ┆ 神奈川県  ┆ S14033    ┆ 20150606  ┆ 0-0000000 │\n",
       "│ 0003       ┆            ┆           ┆        ┆   ┆ 横浜市戸  ┆           ┆           ┆ 0-0       │\n",
       "│            ┆            ┆           ┆        ┆   ┆ 塚区名瀬  ┆           ┆           ┆           │\n",
       "│            ┆            ┆           ┆        ┆   ┆ 町******* ┆           ┆           ┆           │\n",
       "│            ┆            ┆           ┆        ┆   ┆ ***       ┆           ┆           ┆           │\n",
       "│ CS00711500 ┆ 福岡 瞬    ┆ 1         ┆ 女性   ┆ … ┆ 千葉県佐  ┆ S12007    ┆ 20151118  ┆ F-2010101 │\n",
       "│ 0006       ┆            ┆           ┆        ┆   ┆ 倉市西志  ┆           ┆           ┆ 6-F       │\n",
       "│            ┆            ┆           ┆        ┆   ┆ 津******* ┆           ┆           ┆           │\n",
       "│            ┆            ┆           ┆        ┆   ┆ ***       ┆           ┆           ┆           │\n",
       "│ CS01411300 ┆ 矢口 莉緒  ┆ 1         ┆ 女性   ┆ … ┆ 千葉県千  ┆ S12014    ┆ 20150622  ┆ 3-2009110 │\n",
       "│ 0008       ┆            ┆           ┆        ┆   ┆ 葉市中央  ┆           ┆           ┆ 8-6       │\n",
       "│            ┆            ┆           ┆        ┆   ┆ 区東千葉* ┆           ┆           ┆           │\n",
       "│            ┆            ┆           ┆        ┆   ┆ ********* ┆           ┆           ┆           │\n",
       "└────────────┴────────────┴───────────┴────────┴───┴───────────┴───────────┴───────────┴───────────┘"
      ]
     },
     "execution_count": 19,
     "metadata": {},
     "output_type": "execute_result"
    }
   ],
   "source": [
    "df_customer.sort(\"birth_day\", descending=True).head(10)"
   ]
  },
  {
   "cell_type": "markdown",
   "metadata": {},
   "source": [
    "---\n",
    "> P-019: レシート明細データ（df_receipt）に対し、1件あたりの売上金額（amount）が高い順にランクを付与し、先頭から10件表示せよ。項目は顧客ID（customer_id）、売上金額（amount）、付与したランクを表示させること。なお、売上金額（amount）が等しい場合は同一順位を付与するものとする。"
   ]
  },
  {
   "cell_type": "code",
   "execution_count": 20,
   "metadata": {},
   "outputs": [
    {
     "data": {
      "text/html": [
       "<div><style>\n",
       ".dataframe > thead > tr,\n",
       ".dataframe > tbody > tr {\n",
       "  text-align: right;\n",
       "  white-space: pre-wrap;\n",
       "}\n",
       "</style>\n",
       "<small>shape: (104_681, 9)</small><table border=\"1\" class=\"dataframe\"><thead><tr><th>sales_ymd</th><th>sales_epoch</th><th>store_cd</th><th>receipt_no</th><th>receipt_sub_no</th><th>customer_id</th><th>product_cd</th><th>quantity</th><th>amount</th></tr><tr><td>i64</td><td>i64</td><td>str</td><td>i64</td><td>i64</td><td>str</td><td>str</td><td>i64</td><td>i64</td></tr></thead><tbody><tr><td>20181103</td><td>1541203200</td><td>&quot;S14006&quot;</td><td>112</td><td>1</td><td>&quot;CS006214000001&quot;</td><td>&quot;P070305012&quot;</td><td>1</td><td>158</td></tr><tr><td>20181118</td><td>1542499200</td><td>&quot;S13008&quot;</td><td>1132</td><td>2</td><td>&quot;CS008415000097&quot;</td><td>&quot;P070701017&quot;</td><td>1</td><td>81</td></tr><tr><td>20170712</td><td>1499817600</td><td>&quot;S14028&quot;</td><td>1102</td><td>1</td><td>&quot;CS028414000014&quot;</td><td>&quot;P060101005&quot;</td><td>1</td><td>170</td></tr><tr><td>20190205</td><td>1549324800</td><td>&quot;S14042&quot;</td><td>1132</td><td>1</td><td>&quot;ZZ000000000000&quot;</td><td>&quot;P050301001&quot;</td><td>1</td><td>25</td></tr><tr><td>20180821</td><td>1534809600</td><td>&quot;S14025&quot;</td><td>1102</td><td>2</td><td>&quot;CS025415000050&quot;</td><td>&quot;P060102007&quot;</td><td>1</td><td>90</td></tr><tr><td>&hellip;</td><td>&hellip;</td><td>&hellip;</td><td>&hellip;</td><td>&hellip;</td><td>&hellip;</td><td>&hellip;</td><td>&hellip;</td><td>&hellip;</td></tr><tr><td>20180221</td><td>1519171200</td><td>&quot;S13043&quot;</td><td>1132</td><td>2</td><td>&quot;ZZ000000000000&quot;</td><td>&quot;P050101001&quot;</td><td>1</td><td>40</td></tr><tr><td>20190911</td><td>1568160000</td><td>&quot;S14047&quot;</td><td>1132</td><td>2</td><td>&quot;ZZ000000000000&quot;</td><td>&quot;P071006005&quot;</td><td>1</td><td>218</td></tr><tr><td>20170311</td><td>1489190400</td><td>&quot;S14040&quot;</td><td>1122</td><td>1</td><td>&quot;CS040513000195&quot;</td><td>&quot;P050405003&quot;</td><td>1</td><td>168</td></tr><tr><td>20170331</td><td>1490918400</td><td>&quot;S13002&quot;</td><td>1142</td><td>1</td><td>&quot;CS002513000049&quot;</td><td>&quot;P060303001&quot;</td><td>1</td><td>148</td></tr><tr><td>20190423</td><td>1555977600</td><td>&quot;S13016&quot;</td><td>1102</td><td>2</td><td>&quot;ZZ000000000000&quot;</td><td>&quot;P050601001&quot;</td><td>1</td><td>138</td></tr></tbody></table></div>"
      ],
      "text/plain": [
       "shape: (104_681, 9)\n",
       "┌───────────┬────────────┬──────────┬────────────┬───┬────────────┬────────────┬──────────┬────────┐\n",
       "│ sales_ymd ┆ sales_epoc ┆ store_cd ┆ receipt_no ┆ … ┆ customer_i ┆ product_cd ┆ quantity ┆ amount │\n",
       "│ ---       ┆ h          ┆ ---      ┆ ---        ┆   ┆ d          ┆ ---        ┆ ---      ┆ ---    │\n",
       "│ i64       ┆ ---        ┆ str      ┆ i64        ┆   ┆ ---        ┆ str        ┆ i64      ┆ i64    │\n",
       "│           ┆ i64        ┆          ┆            ┆   ┆ str        ┆            ┆          ┆        │\n",
       "╞═══════════╪════════════╪══════════╪════════════╪═══╪════════════╪════════════╪══════════╪════════╡\n",
       "│ 20181103  ┆ 1541203200 ┆ S14006   ┆ 112        ┆ … ┆ CS00621400 ┆ P070305012 ┆ 1        ┆ 158    │\n",
       "│           ┆            ┆          ┆            ┆   ┆ 0001       ┆            ┆          ┆        │\n",
       "│ 20181118  ┆ 1542499200 ┆ S13008   ┆ 1132       ┆ … ┆ CS00841500 ┆ P070701017 ┆ 1        ┆ 81     │\n",
       "│           ┆            ┆          ┆            ┆   ┆ 0097       ┆            ┆          ┆        │\n",
       "│ 20170712  ┆ 1499817600 ┆ S14028   ┆ 1102       ┆ … ┆ CS02841400 ┆ P060101005 ┆ 1        ┆ 170    │\n",
       "│           ┆            ┆          ┆            ┆   ┆ 0014       ┆            ┆          ┆        │\n",
       "│ 20190205  ┆ 1549324800 ┆ S14042   ┆ 1132       ┆ … ┆ ZZ00000000 ┆ P050301001 ┆ 1        ┆ 25     │\n",
       "│           ┆            ┆          ┆            ┆   ┆ 0000       ┆            ┆          ┆        │\n",
       "│ 20180821  ┆ 1534809600 ┆ S14025   ┆ 1102       ┆ … ┆ CS02541500 ┆ P060102007 ┆ 1        ┆ 90     │\n",
       "│           ┆            ┆          ┆            ┆   ┆ 0050       ┆            ┆          ┆        │\n",
       "│ …         ┆ …          ┆ …        ┆ …          ┆ … ┆ …          ┆ …          ┆ …        ┆ …      │\n",
       "│ 20180221  ┆ 1519171200 ┆ S13043   ┆ 1132       ┆ … ┆ ZZ00000000 ┆ P050101001 ┆ 1        ┆ 40     │\n",
       "│           ┆            ┆          ┆            ┆   ┆ 0000       ┆            ┆          ┆        │\n",
       "│ 20190911  ┆ 1568160000 ┆ S14047   ┆ 1132       ┆ … ┆ ZZ00000000 ┆ P071006005 ┆ 1        ┆ 218    │\n",
       "│           ┆            ┆          ┆            ┆   ┆ 0000       ┆            ┆          ┆        │\n",
       "│ 20170311  ┆ 1489190400 ┆ S14040   ┆ 1122       ┆ … ┆ CS04051300 ┆ P050405003 ┆ 1        ┆ 168    │\n",
       "│           ┆            ┆          ┆            ┆   ┆ 0195       ┆            ┆          ┆        │\n",
       "│ 20170331  ┆ 1490918400 ┆ S13002   ┆ 1142       ┆ … ┆ CS00251300 ┆ P060303001 ┆ 1        ┆ 148    │\n",
       "│           ┆            ┆          ┆            ┆   ┆ 0049       ┆            ┆          ┆        │\n",
       "│ 20190423  ┆ 1555977600 ┆ S13016   ┆ 1102       ┆ … ┆ ZZ00000000 ┆ P050601001 ┆ 1        ┆ 138    │\n",
       "│           ┆            ┆          ┆            ┆   ┆ 0000       ┆            ┆          ┆        │\n",
       "└───────────┴────────────┴──────────┴────────────┴───┴────────────┴────────────┴──────────┴────────┘"
      ]
     },
     "execution_count": 20,
     "metadata": {},
     "output_type": "execute_result"
    }
   ],
   "source": [
    "df_receipt"
   ]
  },
  {
   "cell_type": "markdown",
   "metadata": {},
   "source": [
    "---\n",
    "> P-020: レシート明細データ（df_receipt）に対し、1件あたりの売上金額（amount）が高い順にランクを付与し、先頭から10件表示せよ。項目は顧客ID（customer_id）、売上金額（amount）、付与したランクを表示させること。なお、売上金額（amount）が等しい場合でも別順位を付与すること。"
   ]
  },
  {
   "cell_type": "code",
   "execution_count": 21,
   "metadata": {},
   "outputs": [
    {
     "data": {
      "text/html": [
       "<div><style>\n",
       ".dataframe > thead > tr,\n",
       ".dataframe > tbody > tr {\n",
       "  text-align: right;\n",
       "  white-space: pre-wrap;\n",
       "}\n",
       "</style>\n",
       "<small>shape: (10, 3)</small><table border=\"1\" class=\"dataframe\"><thead><tr><th>customer_id</th><th>amount</th><th>ranking</th></tr><tr><td>str</td><td>i64</td><td>u32</td></tr></thead><tbody><tr><td>&quot;CS011415000006&quot;</td><td>10925</td><td>1</td></tr><tr><td>&quot;ZZ000000000000&quot;</td><td>6800</td><td>2</td></tr><tr><td>&quot;CS028605000002&quot;</td><td>5780</td><td>3</td></tr><tr><td>&quot;CS015515000034&quot;</td><td>5480</td><td>4</td></tr><tr><td>&quot;ZZ000000000000&quot;</td><td>5480</td><td>4</td></tr><tr><td>&quot;ZZ000000000000&quot;</td><td>5480</td><td>4</td></tr><tr><td>&quot;ZZ000000000000&quot;</td><td>5440</td><td>7</td></tr><tr><td>&quot;CS021515000089&quot;</td><td>5440</td><td>7</td></tr><tr><td>&quot;CS015515000083&quot;</td><td>5280</td><td>9</td></tr><tr><td>&quot;CS017414000114&quot;</td><td>5280</td><td>9</td></tr></tbody></table></div>"
      ],
      "text/plain": [
       "shape: (10, 3)\n",
       "┌────────────────┬────────┬─────────┐\n",
       "│ customer_id    ┆ amount ┆ ranking │\n",
       "│ ---            ┆ ---    ┆ ---     │\n",
       "│ str            ┆ i64    ┆ u32     │\n",
       "╞════════════════╪════════╪═════════╡\n",
       "│ CS011415000006 ┆ 10925  ┆ 1       │\n",
       "│ ZZ000000000000 ┆ 6800   ┆ 2       │\n",
       "│ CS028605000002 ┆ 5780   ┆ 3       │\n",
       "│ CS015515000034 ┆ 5480   ┆ 4       │\n",
       "│ ZZ000000000000 ┆ 5480   ┆ 4       │\n",
       "│ ZZ000000000000 ┆ 5480   ┆ 4       │\n",
       "│ ZZ000000000000 ┆ 5440   ┆ 7       │\n",
       "│ CS021515000089 ┆ 5440   ┆ 7       │\n",
       "│ CS015515000083 ┆ 5280   ┆ 9       │\n",
       "│ CS017414000114 ┆ 5280   ┆ 9       │\n",
       "└────────────────┴────────┴─────────┘"
      ]
     },
     "execution_count": 21,
     "metadata": {},
     "output_type": "execute_result"
    }
   ],
   "source": [
    "df_receipt.select([\n",
    "    pl.col(\"customer_id\"),\n",
    "    pl.col(\"amount\"),\n",
    "    pl.col(\"amount\").rank(method=\"min\", descending=True).alias(\"ranking\")\n",
    "]).sort(\"ranking\").head(10)"
   ]
  },
  {
   "cell_type": "markdown",
   "metadata": {},
   "source": [
    "---\n",
    "> P-021: レシート明細データ（df_receipt）に対し、件数をカウントせよ。"
   ]
  },
  {
   "cell_type": "code",
   "execution_count": 22,
   "metadata": {},
   "outputs": [
    {
     "data": {
      "text/html": [
       "<div><style>\n",
       ".dataframe > thead > tr,\n",
       ".dataframe > tbody > tr {\n",
       "  text-align: right;\n",
       "  white-space: pre-wrap;\n",
       "}\n",
       "</style>\n",
       "<small>shape: (1, 9)</small><table border=\"1\" class=\"dataframe\"><thead><tr><th>sales_ymd</th><th>sales_epoch</th><th>store_cd</th><th>receipt_no</th><th>receipt_sub_no</th><th>customer_id</th><th>product_cd</th><th>quantity</th><th>amount</th></tr><tr><td>u32</td><td>u32</td><td>u32</td><td>u32</td><td>u32</td><td>u32</td><td>u32</td><td>u32</td><td>u32</td></tr></thead><tbody><tr><td>104681</td><td>104681</td><td>104681</td><td>104681</td><td>104681</td><td>104681</td><td>104681</td><td>104681</td><td>104681</td></tr></tbody></table></div>"
      ],
      "text/plain": [
       "shape: (1, 9)\n",
       "┌───────────┬────────────┬──────────┬────────────┬───┬────────────┬────────────┬──────────┬────────┐\n",
       "│ sales_ymd ┆ sales_epoc ┆ store_cd ┆ receipt_no ┆ … ┆ customer_i ┆ product_cd ┆ quantity ┆ amount │\n",
       "│ ---       ┆ h          ┆ ---      ┆ ---        ┆   ┆ d          ┆ ---        ┆ ---      ┆ ---    │\n",
       "│ u32       ┆ ---        ┆ u32      ┆ u32        ┆   ┆ ---        ┆ u32        ┆ u32      ┆ u32    │\n",
       "│           ┆ u32        ┆          ┆            ┆   ┆ u32        ┆            ┆          ┆        │\n",
       "╞═══════════╪════════════╪══════════╪════════════╪═══╪════════════╪════════════╪══════════╪════════╡\n",
       "│ 104681    ┆ 104681     ┆ 104681   ┆ 104681     ┆ … ┆ 104681     ┆ 104681     ┆ 104681   ┆ 104681 │\n",
       "└───────────┴────────────┴──────────┴────────────┴───┴────────────┴────────────┴──────────┴────────┘"
      ]
     },
     "execution_count": 22,
     "metadata": {},
     "output_type": "execute_result"
    }
   ],
   "source": [
    "df_receipt.count()"
   ]
  },
  {
   "cell_type": "markdown",
   "metadata": {},
   "source": [
    "---\n",
    "> P-022: レシート明細データ（df_receipt）の顧客ID（customer_id）に対し、ユニーク件数をカウントせよ。"
   ]
  },
  {
   "cell_type": "code",
   "execution_count": 23,
   "metadata": {},
   "outputs": [
    {
     "data": {
      "text/plain": [
       "8307"
      ]
     },
     "execution_count": 23,
     "metadata": {},
     "output_type": "execute_result"
    }
   ],
   "source": [
    "df_receipt.select(\"customer_id\").n_unique()"
   ]
  },
  {
   "cell_type": "markdown",
   "metadata": {},
   "source": [
    "---\n",
    "> P-023: レシート明細データ（df_receipt）に対し、店舗コード（store_cd）ごとに売上金額（amount）と売上数量（quantity）を合計せよ。"
   ]
  },
  {
   "cell_type": "code",
   "execution_count": 24,
   "metadata": {},
   "outputs": [
    {
     "data": {
      "text/html": [
       "<div><style>\n",
       ".dataframe > thead > tr,\n",
       ".dataframe > tbody > tr {\n",
       "  text-align: right;\n",
       "  white-space: pre-wrap;\n",
       "}\n",
       "</style>\n",
       "<small>shape: (52, 3)</small><table border=\"1\" class=\"dataframe\"><thead><tr><th>store_cd</th><th>amount</th><th>quantity</th></tr><tr><td>str</td><td>i64</td><td>i64</td></tr></thead><tbody><tr><td>&quot;S12013&quot;</td><td>787513</td><td>2425</td></tr><tr><td>&quot;S14040&quot;</td><td>701858</td><td>2233</td></tr><tr><td>&quot;S14027&quot;</td><td>714550</td><td>2303</td></tr><tr><td>&quot;S14011&quot;</td><td>805724</td><td>2434</td></tr><tr><td>&quot;S14036&quot;</td><td>203694</td><td>635</td></tr><tr><td>&hellip;</td><td>&hellip;</td><td>&hellip;</td></tr><tr><td>&quot;S14046&quot;</td><td>412646</td><td>1354</td></tr><tr><td>&quot;S14047&quot;</td><td>338329</td><td>1041</td></tr><tr><td>&quot;S14049&quot;</td><td>230808</td><td>788</td></tr><tr><td>&quot;S13032&quot;</td><td>790501</td><td>2491</td></tr><tr><td>&quot;S13002&quot;</td><td>727821</td><td>2340</td></tr></tbody></table></div>"
      ],
      "text/plain": [
       "shape: (52, 3)\n",
       "┌──────────┬────────┬──────────┐\n",
       "│ store_cd ┆ amount ┆ quantity │\n",
       "│ ---      ┆ ---    ┆ ---      │\n",
       "│ str      ┆ i64    ┆ i64      │\n",
       "╞══════════╪════════╪══════════╡\n",
       "│ S12013   ┆ 787513 ┆ 2425     │\n",
       "│ S14040   ┆ 701858 ┆ 2233     │\n",
       "│ S14027   ┆ 714550 ┆ 2303     │\n",
       "│ S14011   ┆ 805724 ┆ 2434     │\n",
       "│ S14036   ┆ 203694 ┆ 635      │\n",
       "│ …        ┆ …      ┆ …        │\n",
       "│ S14046   ┆ 412646 ┆ 1354     │\n",
       "│ S14047   ┆ 338329 ┆ 1041     │\n",
       "│ S14049   ┆ 230808 ┆ 788      │\n",
       "│ S13032   ┆ 790501 ┆ 2491     │\n",
       "│ S13002   ┆ 727821 ┆ 2340     │\n",
       "└──────────┴────────┴──────────┘"
      ]
     },
     "execution_count": 24,
     "metadata": {},
     "output_type": "execute_result"
    }
   ],
   "source": [
    "df_receipt.group_by(\"store_cd\").sum().select(\"store_cd\", \"amount\", \"quantity\")"
   ]
  },
  {
   "cell_type": "markdown",
   "metadata": {},
   "source": [
    "---\n",
    "> P-024: レシート明細データ（df_receipt）に対し、顧客ID（customer_id）ごとに最も新しい売上年月日（sales_ymd）を求め、10件表示せよ。"
   ]
  },
  {
   "cell_type": "code",
   "execution_count": 25,
   "metadata": {},
   "outputs": [
    {
     "data": {
      "text/html": [
       "<div><style>\n",
       ".dataframe > thead > tr,\n",
       ".dataframe > tbody > tr {\n",
       "  text-align: right;\n",
       "  white-space: pre-wrap;\n",
       "}\n",
       "</style>\n",
       "<small>shape: (10, 2)</small><table border=\"1\" class=\"dataframe\"><thead><tr><th>customer_id</th><th>sales_ymd</th></tr><tr><td>str</td><td>i64</td></tr></thead><tbody><tr><td>&quot;CS001113000004&quot;</td><td>20190308</td></tr><tr><td>&quot;CS001114000005&quot;</td><td>20190731</td></tr><tr><td>&quot;CS001115000010&quot;</td><td>20190405</td></tr><tr><td>&quot;CS001205000004&quot;</td><td>20190625</td></tr><tr><td>&quot;CS001205000006&quot;</td><td>20190224</td></tr><tr><td>&quot;CS001211000025&quot;</td><td>20190322</td></tr><tr><td>&quot;CS001212000027&quot;</td><td>20170127</td></tr><tr><td>&quot;CS001212000031&quot;</td><td>20180906</td></tr><tr><td>&quot;CS001212000046&quot;</td><td>20170811</td></tr><tr><td>&quot;CS001212000070&quot;</td><td>20191018</td></tr></tbody></table></div>"
      ],
      "text/plain": [
       "shape: (10, 2)\n",
       "┌────────────────┬───────────┐\n",
       "│ customer_id    ┆ sales_ymd │\n",
       "│ ---            ┆ ---       │\n",
       "│ str            ┆ i64       │\n",
       "╞════════════════╪═══════════╡\n",
       "│ CS001113000004 ┆ 20190308  │\n",
       "│ CS001114000005 ┆ 20190731  │\n",
       "│ CS001115000010 ┆ 20190405  │\n",
       "│ CS001205000004 ┆ 20190625  │\n",
       "│ CS001205000006 ┆ 20190224  │\n",
       "│ CS001211000025 ┆ 20190322  │\n",
       "│ CS001212000027 ┆ 20170127  │\n",
       "│ CS001212000031 ┆ 20180906  │\n",
       "│ CS001212000046 ┆ 20170811  │\n",
       "│ CS001212000070 ┆ 20191018  │\n",
       "└────────────────┴───────────┘"
      ]
     },
     "execution_count": 25,
     "metadata": {},
     "output_type": "execute_result"
    }
   ],
   "source": [
    "df_receipt.group_by(\"customer_id\").agg(\n",
    "    pl.col(\"sales_ymd\").max()\n",
    ").sort(\"customer_id\").head(10)"
   ]
  },
  {
   "cell_type": "markdown",
   "metadata": {},
   "source": [
    "---\n",
    "> P-025: レシート明細データ（df_receipt）に対し、顧客ID（customer_id）ごとに最も古い売上年月日（sales_ymd）を求め、10件表示せよ。"
   ]
  },
  {
   "cell_type": "code",
   "execution_count": 26,
   "metadata": {},
   "outputs": [
    {
     "data": {
      "text/html": [
       "<div><style>\n",
       ".dataframe > thead > tr,\n",
       ".dataframe > tbody > tr {\n",
       "  text-align: right;\n",
       "  white-space: pre-wrap;\n",
       "}\n",
       "</style>\n",
       "<small>shape: (10, 2)</small><table border=\"1\" class=\"dataframe\"><thead><tr><th>customer_id</th><th>sales_ymd</th></tr><tr><td>str</td><td>i64</td></tr></thead><tbody><tr><td>&quot;CS001113000004&quot;</td><td>20190308</td></tr><tr><td>&quot;CS001114000005&quot;</td><td>20180503</td></tr><tr><td>&quot;CS001115000010&quot;</td><td>20171228</td></tr><tr><td>&quot;CS001205000004&quot;</td><td>20170914</td></tr><tr><td>&quot;CS001205000006&quot;</td><td>20180207</td></tr><tr><td>&quot;CS001211000025&quot;</td><td>20190322</td></tr><tr><td>&quot;CS001212000027&quot;</td><td>20170127</td></tr><tr><td>&quot;CS001212000031&quot;</td><td>20180906</td></tr><tr><td>&quot;CS001212000046&quot;</td><td>20170811</td></tr><tr><td>&quot;CS001212000070&quot;</td><td>20191018</td></tr></tbody></table></div>"
      ],
      "text/plain": [
       "shape: (10, 2)\n",
       "┌────────────────┬───────────┐\n",
       "│ customer_id    ┆ sales_ymd │\n",
       "│ ---            ┆ ---       │\n",
       "│ str            ┆ i64       │\n",
       "╞════════════════╪═══════════╡\n",
       "│ CS001113000004 ┆ 20190308  │\n",
       "│ CS001114000005 ┆ 20180503  │\n",
       "│ CS001115000010 ┆ 20171228  │\n",
       "│ CS001205000004 ┆ 20170914  │\n",
       "│ CS001205000006 ┆ 20180207  │\n",
       "│ CS001211000025 ┆ 20190322  │\n",
       "│ CS001212000027 ┆ 20170127  │\n",
       "│ CS001212000031 ┆ 20180906  │\n",
       "│ CS001212000046 ┆ 20170811  │\n",
       "│ CS001212000070 ┆ 20191018  │\n",
       "└────────────────┴───────────┘"
      ]
     },
     "execution_count": 26,
     "metadata": {},
     "output_type": "execute_result"
    }
   ],
   "source": [
    "df_receipt.group_by(\"customer_id\").agg(\n",
    "    pl.col(\"sales_ymd\").min()\n",
    ").sort(\"customer_id\").head(10)"
   ]
  },
  {
   "cell_type": "markdown",
   "metadata": {},
   "source": [
    "---\n",
    "> P-026: レシート明細データ（df_receipt）に対し、顧客ID（customer_id）ごとに最も新しい売上年月日（sales_ymd）と古い売上年月日を求め、両者が異なるデータを10件表示せよ。"
   ]
  },
  {
   "cell_type": "code",
   "execution_count": 27,
   "metadata": {},
   "outputs": [
    {
     "data": {
      "text/html": [
       "<div><style>\n",
       ".dataframe > thead > tr,\n",
       ".dataframe > tbody > tr {\n",
       "  text-align: right;\n",
       "  white-space: pre-wrap;\n",
       "}\n",
       "</style>\n",
       "<small>shape: (10, 3)</small><table border=\"1\" class=\"dataframe\"><thead><tr><th>customer_id</th><th>min_sales_ymd</th><th>max_sales_ymd</th></tr><tr><td>str</td><td>i64</td><td>i64</td></tr></thead><tbody><tr><td>&quot;CS034511000047&quot;</td><td>20180629</td><td>20190503</td></tr><tr><td>&quot;CS034515000045&quot;</td><td>20170629</td><td>20190303</td></tr><tr><td>&quot;CS035512000059&quot;</td><td>20180106</td><td>20190712</td></tr><tr><td>&quot;CS023415000150&quot;</td><td>20170216</td><td>20190525</td></tr><tr><td>&quot;CS028515000047&quot;</td><td>20170102</td><td>20171206</td></tr><tr><td>&quot;CS005415000423&quot;</td><td>20190414</td><td>20190528</td></tr><tr><td>&quot;CS044415000001&quot;</td><td>20170928</td><td>20191027</td></tr><tr><td>&quot;CS018415000147&quot;</td><td>20170125</td><td>20190611</td></tr><tr><td>&quot;CS031513000048&quot;</td><td>20171208</td><td>20190405</td></tr><tr><td>&quot;CS029414000042&quot;</td><td>20170501</td><td>20191009</td></tr></tbody></table></div>"
      ],
      "text/plain": [
       "shape: (10, 3)\n",
       "┌────────────────┬───────────────┬───────────────┐\n",
       "│ customer_id    ┆ min_sales_ymd ┆ max_sales_ymd │\n",
       "│ ---            ┆ ---           ┆ ---           │\n",
       "│ str            ┆ i64           ┆ i64           │\n",
       "╞════════════════╪═══════════════╪═══════════════╡\n",
       "│ CS034511000047 ┆ 20180629      ┆ 20190503      │\n",
       "│ CS034515000045 ┆ 20170629      ┆ 20190303      │\n",
       "│ CS035512000059 ┆ 20180106      ┆ 20190712      │\n",
       "│ CS023415000150 ┆ 20170216      ┆ 20190525      │\n",
       "│ CS028515000047 ┆ 20170102      ┆ 20171206      │\n",
       "│ CS005415000423 ┆ 20190414      ┆ 20190528      │\n",
       "│ CS044415000001 ┆ 20170928      ┆ 20191027      │\n",
       "│ CS018415000147 ┆ 20170125      ┆ 20190611      │\n",
       "│ CS031513000048 ┆ 20171208      ┆ 20190405      │\n",
       "│ CS029414000042 ┆ 20170501      ┆ 20191009      │\n",
       "└────────────────┴───────────────┴───────────────┘"
      ]
     },
     "execution_count": 27,
     "metadata": {},
     "output_type": "execute_result"
    }
   ],
   "source": [
    "df_receipt.group_by(\"customer_id\").agg(\n",
    "    pl.col(\"sales_ymd\").min().alias(\"min_sales_ymd\"),\n",
    "    pl.col(\"sales_ymd\").max().alias(\"max_sales_ymd\")\n",
    ").filter(pl.col(\"max_sales_ymd\") != pl.col(\"min_sales_ymd\")).head(10)"
   ]
  },
  {
   "cell_type": "markdown",
   "metadata": {},
   "source": [
    "---\n",
    "> P-027: レシート明細データ（df_receipt）に対し、店舗コード（store_cd）ごとに売上金額（amount）の平均を計算し、降順でTOP5を表示せよ。"
   ]
  },
  {
   "cell_type": "code",
   "execution_count": 28,
   "metadata": {},
   "outputs": [
    {
     "data": {
      "text/html": [
       "<div><style>\n",
       ".dataframe > thead > tr,\n",
       ".dataframe > tbody > tr {\n",
       "  text-align: right;\n",
       "  white-space: pre-wrap;\n",
       "}\n",
       "</style>\n",
       "<small>shape: (5, 2)</small><table border=\"1\" class=\"dataframe\"><thead><tr><th>store_cd</th><th>amount</th></tr><tr><td>str</td><td>f64</td></tr></thead><tbody><tr><td>&quot;S13052&quot;</td><td>402.86747</td></tr><tr><td>&quot;S13015&quot;</td><td>351.11196</td></tr><tr><td>&quot;S13003&quot;</td><td>350.915519</td></tr><tr><td>&quot;S14010&quot;</td><td>348.791262</td></tr><tr><td>&quot;S13001&quot;</td><td>348.470386</td></tr></tbody></table></div>"
      ],
      "text/plain": [
       "shape: (5, 2)\n",
       "┌──────────┬────────────┐\n",
       "│ store_cd ┆ amount     │\n",
       "│ ---      ┆ ---        │\n",
       "│ str      ┆ f64        │\n",
       "╞══════════╪════════════╡\n",
       "│ S13052   ┆ 402.86747  │\n",
       "│ S13015   ┆ 351.11196  │\n",
       "│ S13003   ┆ 350.915519 │\n",
       "│ S14010   ┆ 348.791262 │\n",
       "│ S13001   ┆ 348.470386 │\n",
       "└──────────┴────────────┘"
      ]
     },
     "execution_count": 28,
     "metadata": {},
     "output_type": "execute_result"
    }
   ],
   "source": [
    "df_receipt.group_by(\"store_cd\").agg(\n",
    "    pl.col(\"amount\").mean()\n",
    ").sort(\"amount\", descending=True).head(5)"
   ]
  },
  {
   "cell_type": "markdown",
   "metadata": {},
   "source": [
    "---\n",
    "> P-028: レシート明細データ（df_receipt）に対し、店舗コード（store_cd）ごとに売上金額（amount）の中央値を計算し、降順でTOP5を表示せよ。"
   ]
  },
  {
   "cell_type": "code",
   "execution_count": 29,
   "metadata": {},
   "outputs": [
    {
     "data": {
      "text/html": [
       "<div><style>\n",
       ".dataframe > thead > tr,\n",
       ".dataframe > tbody > tr {\n",
       "  text-align: right;\n",
       "  white-space: pre-wrap;\n",
       "}\n",
       "</style>\n",
       "<small>shape: (5, 2)</small><table border=\"1\" class=\"dataframe\"><thead><tr><th>store_cd</th><th>amount</th></tr><tr><td>str</td><td>f64</td></tr></thead><tbody><tr><td>&quot;S13052&quot;</td><td>190.0</td></tr><tr><td>&quot;S14010&quot;</td><td>188.0</td></tr><tr><td>&quot;S14050&quot;</td><td>185.0</td></tr><tr><td>&quot;S13003&quot;</td><td>180.0</td></tr><tr><td>&quot;S14040&quot;</td><td>180.0</td></tr></tbody></table></div>"
      ],
      "text/plain": [
       "shape: (5, 2)\n",
       "┌──────────┬────────┐\n",
       "│ store_cd ┆ amount │\n",
       "│ ---      ┆ ---    │\n",
       "│ str      ┆ f64    │\n",
       "╞══════════╪════════╡\n",
       "│ S13052   ┆ 190.0  │\n",
       "│ S14010   ┆ 188.0  │\n",
       "│ S14050   ┆ 185.0  │\n",
       "│ S13003   ┆ 180.0  │\n",
       "│ S14040   ┆ 180.0  │\n",
       "└──────────┴────────┘"
      ]
     },
     "execution_count": 29,
     "metadata": {},
     "output_type": "execute_result"
    }
   ],
   "source": [
    "df_receipt.group_by(\"store_cd\").agg(\n",
    "    pl.col(\"amount\").median()\n",
    ").sort(\"amount\", descending=True).head(5)"
   ]
  },
  {
   "cell_type": "markdown",
   "metadata": {},
   "source": [
    "---\n",
    "> P-029: レシート明細データ（df_receipt）に対し、店舗コード（store_cd）ごとに商品コード（product_cd）の最頻値を求め、10件表示させよ。"
   ]
  },
  {
   "cell_type": "code",
   "execution_count": 30,
   "metadata": {},
   "outputs": [
    {
     "data": {
      "text/html": [
       "<div><style>\n",
       ".dataframe > thead > tr,\n",
       ".dataframe > tbody > tr {\n",
       "  text-align: right;\n",
       "  white-space: pre-wrap;\n",
       "}\n",
       "</style>\n",
       "<small>shape: (10, 2)</small><table border=\"1\" class=\"dataframe\"><thead><tr><th>store_cd</th><th>product_cd</th></tr><tr><td>str</td><td>str</td></tr></thead><tbody><tr><td>&quot;S14010&quot;</td><td>&quot;P060303001&quot;</td></tr><tr><td>&quot;S14036&quot;</td><td>&quot;P040503001&quot;</td></tr><tr><td>&quot;S12030&quot;</td><td>&quot;P060303001&quot;</td></tr><tr><td>&quot;S13039&quot;</td><td>&quot;P071401001&quot;</td></tr><tr><td>&quot;S13052&quot;</td><td>&quot;P050101001&quot;</td></tr><tr><td>&quot;S13038&quot;</td><td>&quot;P060303001&quot;</td></tr><tr><td>&quot;S13019&quot;</td><td>&quot;P071401001&quot;</td></tr><tr><td>&quot;S13020&quot;</td><td>&quot;P071401001&quot;</td></tr><tr><td>&quot;S14045&quot;</td><td>&quot;P060303001&quot;</td></tr><tr><td>&quot;S14012&quot;</td><td>&quot;P060303001&quot;</td></tr></tbody></table></div>"
      ],
      "text/plain": [
       "shape: (10, 2)\n",
       "┌──────────┬────────────┐\n",
       "│ store_cd ┆ product_cd │\n",
       "│ ---      ┆ ---        │\n",
       "│ str      ┆ str        │\n",
       "╞══════════╪════════════╡\n",
       "│ S14010   ┆ P060303001 │\n",
       "│ S14036   ┆ P040503001 │\n",
       "│ S12030   ┆ P060303001 │\n",
       "│ S13039   ┆ P071401001 │\n",
       "│ S13052   ┆ P050101001 │\n",
       "│ S13038   ┆ P060303001 │\n",
       "│ S13019   ┆ P071401001 │\n",
       "│ S13020   ┆ P071401001 │\n",
       "│ S14045   ┆ P060303001 │\n",
       "│ S14012   ┆ P060303001 │\n",
       "└──────────┴────────────┘"
      ]
     },
     "execution_count": 30,
     "metadata": {},
     "output_type": "execute_result"
    }
   ],
   "source": [
    "df_receipt.group_by(\"store_cd\").agg(\n",
    "    pl.col(\"product_cd\").mode()\n",
    ").select(\"store_cd\", pl.col(\"product_cd\").list.first()).head(10)"
   ]
  },
  {
   "cell_type": "markdown",
   "metadata": {},
   "source": [
    "---\n",
    "> P-030: レシート明細データ（df_receipt）に対し、店舗コード（store_cd）ごとに売上金額（amount）の分散を計算し、降順で5件表示せよ。"
   ]
  },
  {
   "cell_type": "code",
   "execution_count": 31,
   "metadata": {},
   "outputs": [
    {
     "data": {
      "text/html": [
       "<div><style>\n",
       ".dataframe > thead > tr,\n",
       ".dataframe > tbody > tr {\n",
       "  text-align: right;\n",
       "  white-space: pre-wrap;\n",
       "}\n",
       "</style>\n",
       "<small>shape: (5, 2)</small><table border=\"1\" class=\"dataframe\"><thead><tr><th>store_cd</th><th>amount</th></tr><tr><td>str</td><td>f64</td></tr></thead><tbody><tr><td>&quot;S13052&quot;</td><td>440088.701311</td></tr><tr><td>&quot;S14011&quot;</td><td>306314.558164</td></tr><tr><td>&quot;S14034&quot;</td><td>296920.081011</td></tr><tr><td>&quot;S13001&quot;</td><td>295431.993329</td></tr><tr><td>&quot;S13015&quot;</td><td>295294.361116</td></tr></tbody></table></div>"
      ],
      "text/plain": [
       "shape: (5, 2)\n",
       "┌──────────┬───────────────┐\n",
       "│ store_cd ┆ amount        │\n",
       "│ ---      ┆ ---           │\n",
       "│ str      ┆ f64           │\n",
       "╞══════════╪═══════════════╡\n",
       "│ S13052   ┆ 440088.701311 │\n",
       "│ S14011   ┆ 306314.558164 │\n",
       "│ S14034   ┆ 296920.081011 │\n",
       "│ S13001   ┆ 295431.993329 │\n",
       "│ S13015   ┆ 295294.361116 │\n",
       "└──────────┴───────────────┘"
      ]
     },
     "execution_count": 31,
     "metadata": {},
     "output_type": "execute_result"
    }
   ],
   "source": [
    "df_receipt.group_by(\"store_cd\").agg(\n",
    "    pl.col(\"amount\").var(ddof=0)\n",
    ").sort(\"amount\", descending=True).head(5)"
   ]
  },
  {
   "cell_type": "markdown",
   "metadata": {},
   "source": [
    "---\n",
    "> P-031: レシート明細データ（df_receipt）に対し、店舗コード（store_cd）ごとに売上金額（amount）の標準偏差を計算し、降順で5件表示せよ。"
   ]
  },
  {
   "cell_type": "markdown",
   "metadata": {},
   "source": [
    "TIPS:\n",
    "\n",
    "PandasとNumpyでddofのデフォルト値が異なることに注意しましょう\n",
    "```\n",
    "Pandas：\n",
    "DataFrame.std(self, axis=None, skipna=None, level=None, ddof=1, numeric_only=None, **kwargs)\n",
    "Numpy:\n",
    "numpy.std(a, axis=None, dtype=None, out=None, ddof=0, keepdims=)\n",
    "```"
   ]
  },
  {
   "cell_type": "code",
   "execution_count": 32,
   "metadata": {},
   "outputs": [
    {
     "data": {
      "text/html": [
       "<div><style>\n",
       ".dataframe > thead > tr,\n",
       ".dataframe > tbody > tr {\n",
       "  text-align: right;\n",
       "  white-space: pre-wrap;\n",
       "}\n",
       "</style>\n",
       "<small>shape: (5, 2)</small><table border=\"1\" class=\"dataframe\"><thead><tr><th>store_cd</th><th>amount</th></tr><tr><td>str</td><td>f64</td></tr></thead><tbody><tr><td>&quot;S13052&quot;</td><td>663.391816</td></tr><tr><td>&quot;S14011&quot;</td><td>553.456916</td></tr><tr><td>&quot;S14034&quot;</td><td>544.903736</td></tr><tr><td>&quot;S13001&quot;</td><td>543.536561</td></tr><tr><td>&quot;S13015&quot;</td><td>543.409938</td></tr></tbody></table></div>"
      ],
      "text/plain": [
       "shape: (5, 2)\n",
       "┌──────────┬────────────┐\n",
       "│ store_cd ┆ amount     │\n",
       "│ ---      ┆ ---        │\n",
       "│ str      ┆ f64        │\n",
       "╞══════════╪════════════╡\n",
       "│ S13052   ┆ 663.391816 │\n",
       "│ S14011   ┆ 553.456916 │\n",
       "│ S14034   ┆ 544.903736 │\n",
       "│ S13001   ┆ 543.536561 │\n",
       "│ S13015   ┆ 543.409938 │\n",
       "└──────────┴────────────┘"
      ]
     },
     "execution_count": 32,
     "metadata": {},
     "output_type": "execute_result"
    }
   ],
   "source": [
    "df_receipt.group_by(\"store_cd\").agg(\n",
    "    pl.col(\"amount\").std(ddof=0)\n",
    ").sort(\"amount\", descending=True).head(5)"
   ]
  },
  {
   "cell_type": "markdown",
   "metadata": {},
   "source": [
    "---\n",
    "> P-032: レシート明細データ（df_receipt）の売上金額（amount）について、25％刻みでパーセンタイル値を求めよ。"
   ]
  },
  {
   "cell_type": "code",
   "execution_count": 33,
   "metadata": {},
   "outputs": [
    {
     "data": {
      "text/html": [
       "<div><style>\n",
       ".dataframe > thead > tr,\n",
       ".dataframe > tbody > tr {\n",
       "  text-align: right;\n",
       "  white-space: pre-wrap;\n",
       "}\n",
       "</style>\n",
       "<small>shape: (1, 5)</small><table border=\"1\" class=\"dataframe\"><thead><tr><th>0</th><th>0.25</th><th>0.5</th><th>0.75</th><th>1</th></tr><tr><td>f64</td><td>f64</td><td>f64</td><td>f64</td><td>f64</td></tr></thead><tbody><tr><td>10.0</td><td>102.0</td><td>170.0</td><td>288.0</td><td>10925.0</td></tr></tbody></table></div>"
      ],
      "text/plain": [
       "shape: (1, 5)\n",
       "┌──────┬───────┬───────┬───────┬─────────┐\n",
       "│ 0    ┆ 0.25  ┆ 0.5   ┆ 0.75  ┆ 1       │\n",
       "│ ---  ┆ ---   ┆ ---   ┆ ---   ┆ ---     │\n",
       "│ f64  ┆ f64   ┆ f64   ┆ f64   ┆ f64     │\n",
       "╞══════╪═══════╪═══════╪═══════╪═════════╡\n",
       "│ 10.0 ┆ 102.0 ┆ 170.0 ┆ 288.0 ┆ 10925.0 │\n",
       "└──────┴───────┴───────┴───────┴─────────┘"
      ]
     },
     "execution_count": 33,
     "metadata": {},
     "output_type": "execute_result"
    }
   ],
   "source": [
    "df_receipt.select([\n",
    "    pl.col(\"amount\").quantile(i).alias(str(i)) for i in [0, 0.25, 0.5, 0.75, 1]\n",
    "])"
   ]
  },
  {
   "cell_type": "markdown",
   "metadata": {},
   "source": [
    "---\n",
    "> P-033: レシート明細データ（df_receipt）に対し、店舗コード（store_cd）ごとに売上金額（amount）の平均を計算し、330以上のものを抽出せよ。"
   ]
  },
  {
   "cell_type": "code",
   "execution_count": 34,
   "metadata": {},
   "outputs": [
    {
     "data": {
      "text/html": [
       "<div><style>\n",
       ".dataframe > thead > tr,\n",
       ".dataframe > tbody > tr {\n",
       "  text-align: right;\n",
       "  white-space: pre-wrap;\n",
       "}\n",
       "</style>\n",
       "<small>shape: (13, 2)</small><table border=\"1\" class=\"dataframe\"><thead><tr><th>store_cd</th><th>amount</th></tr><tr><td>str</td><td>f64</td></tr></thead><tbody><tr><td>&quot;S14010&quot;</td><td>348.791262</td></tr><tr><td>&quot;S13052&quot;</td><td>402.86747</td></tr><tr><td>&quot;S12013&quot;</td><td>330.19413</td></tr><tr><td>&quot;S13001&quot;</td><td>348.470386</td></tr><tr><td>&quot;S14026&quot;</td><td>332.340588</td></tr><tr><td>&hellip;</td><td>&hellip;</td></tr><tr><td>&quot;S13004&quot;</td><td>330.943949</td></tr><tr><td>&quot;S13019&quot;</td><td>330.208616</td></tr><tr><td>&quot;S14047&quot;</td><td>330.077073</td></tr><tr><td>&quot;S14045&quot;</td><td>330.082073</td></tr><tr><td>&quot;S14011&quot;</td><td>335.718333</td></tr></tbody></table></div>"
      ],
      "text/plain": [
       "shape: (13, 2)\n",
       "┌──────────┬────────────┐\n",
       "│ store_cd ┆ amount     │\n",
       "│ ---      ┆ ---        │\n",
       "│ str      ┆ f64        │\n",
       "╞══════════╪════════════╡\n",
       "│ S14010   ┆ 348.791262 │\n",
       "│ S13052   ┆ 402.86747  │\n",
       "│ S12013   ┆ 330.19413  │\n",
       "│ S13001   ┆ 348.470386 │\n",
       "│ S14026   ┆ 332.340588 │\n",
       "│ …        ┆ …          │\n",
       "│ S13004   ┆ 330.943949 │\n",
       "│ S13019   ┆ 330.208616 │\n",
       "│ S14047   ┆ 330.077073 │\n",
       "│ S14045   ┆ 330.082073 │\n",
       "│ S14011   ┆ 335.718333 │\n",
       "└──────────┴────────────┘"
      ]
     },
     "execution_count": 34,
     "metadata": {},
     "output_type": "execute_result"
    }
   ],
   "source": [
    "df_receipt.group_by(\"store_cd\").agg(\n",
    "    pl.col(\"amount\").mean()\n",
    ").filter(pl.col(\"amount\") >= 330)"
   ]
  },
  {
   "cell_type": "markdown",
   "metadata": {},
   "source": [
    "---\n",
    "> P-034: レシート明細データ（df_receipt）に対し、顧客ID（customer_id）ごとに売上金額（amount）を合計して全顧客の平均を求めよ。ただし、顧客IDが\"Z\"から始まるものは非会員を表すため、除外して計算すること。"
   ]
  },
  {
   "cell_type": "code",
   "execution_count": 35,
   "metadata": {},
   "outputs": [
    {
     "data": {
      "text/html": [
       "<div><style>\n",
       ".dataframe > thead > tr,\n",
       ".dataframe > tbody > tr {\n",
       "  text-align: right;\n",
       "  white-space: pre-wrap;\n",
       "}\n",
       "</style>\n",
       "<small>shape: (1, 1)</small><table border=\"1\" class=\"dataframe\"><thead><tr><th>amount</th></tr><tr><td>i64</td></tr></thead><tbody><tr><td>21161547</td></tr></tbody></table></div>"
      ],
      "text/plain": [
       "shape: (1, 1)\n",
       "┌──────────┐\n",
       "│ amount   │\n",
       "│ ---      │\n",
       "│ i64      │\n",
       "╞══════════╡\n",
       "│ 21161547 │\n",
       "└──────────┘"
      ]
     },
     "execution_count": 35,
     "metadata": {},
     "output_type": "execute_result"
    }
   ],
   "source": [
    "df_receipt.group_by(\"customer_id\").agg(\n",
    "    pl.col(\"amount\").sum()\n",
    ").filter(pl.col(\"customer_id\").str.slice(0, 1) != \"Z\").select(pl.col(\"amount\").sum())"
   ]
  },
  {
   "cell_type": "markdown",
   "metadata": {},
   "source": [
    "---\n",
    "> P-035: レシート明細データ（df_receipt）に対し、顧客ID（customer_id）ごとに売上金額（amount）を合計して全顧客の平均を求め、平均以上に買い物をしている顧客を抽出し、10件表示せよ。ただし、顧客IDが\"Z\"から始まるものは非会員を表すため、除外して計算すること。"
   ]
  },
  {
   "cell_type": "code",
   "execution_count": 36,
   "metadata": {},
   "outputs": [
    {
     "data": {
      "text/html": [
       "<div><style>\n",
       ".dataframe > thead > tr,\n",
       ".dataframe > tbody > tr {\n",
       "  text-align: right;\n",
       "  white-space: pre-wrap;\n",
       "}\n",
       "</style>\n",
       "<small>shape: (10, 2)</small><table border=\"1\" class=\"dataframe\"><thead><tr><th>customer_id</th><th>amount</th></tr><tr><td>str</td><td>i64</td></tr></thead><tbody><tr><td>&quot;CS022515000226&quot;</td><td>8556</td></tr><tr><td>&quot;CS012415000043&quot;</td><td>14363</td></tr><tr><td>&quot;CS010415000318&quot;</td><td>6527</td></tr><tr><td>&quot;CS005605000016&quot;</td><td>5294</td></tr><tr><td>&quot;CS008514000086&quot;</td><td>2986</td></tr><tr><td>&quot;CS029515000076&quot;</td><td>5612</td></tr><tr><td>&quot;CS022414000018&quot;</td><td>7218</td></tr><tr><td>&quot;CS038215000047&quot;</td><td>2951</td></tr><tr><td>&quot;CS017412000064&quot;</td><td>4755</td></tr><tr><td>&quot;CS026415000123&quot;</td><td>4553</td></tr></tbody></table></div>"
      ],
      "text/plain": [
       "shape: (10, 2)\n",
       "┌────────────────┬────────┐\n",
       "│ customer_id    ┆ amount │\n",
       "│ ---            ┆ ---    │\n",
       "│ str            ┆ i64    │\n",
       "╞════════════════╪════════╡\n",
       "│ CS022515000226 ┆ 8556   │\n",
       "│ CS012415000043 ┆ 14363  │\n",
       "│ CS010415000318 ┆ 6527   │\n",
       "│ CS005605000016 ┆ 5294   │\n",
       "│ CS008514000086 ┆ 2986   │\n",
       "│ CS029515000076 ┆ 5612   │\n",
       "│ CS022414000018 ┆ 7218   │\n",
       "│ CS038215000047 ┆ 2951   │\n",
       "│ CS017412000064 ┆ 4755   │\n",
       "│ CS026415000123 ┆ 4553   │\n",
       "└────────────────┴────────┘"
      ]
     },
     "execution_count": 36,
     "metadata": {},
     "output_type": "execute_result"
    }
   ],
   "source": [
    "df_receipt.group_by(\"customer_id\").agg(\n",
    "    pl.col(\"amount\").sum()\n",
    ").filter(pl.col(\"customer_id\").str.slice(0, 1) != \"Z\") \\\n",
    " .filter(pl.col(\"amount\") >= pl.col(\"amount\").mean()).head(10)"
   ]
  },
  {
   "cell_type": "markdown",
   "metadata": {},
   "source": [
    "---\n",
    "> P-036: レシート明細データ（df_receipt）と店舗データ（df_store）を内部結合し、レシート明細データの全項目と店舗データの店舗名（store_name）を10件表示せよ。"
   ]
  },
  {
   "cell_type": "code",
   "execution_count": 37,
   "metadata": {},
   "outputs": [
    {
     "data": {
      "text/html": [
       "<div><style>\n",
       ".dataframe > thead > tr,\n",
       ".dataframe > tbody > tr {\n",
       "  text-align: right;\n",
       "  white-space: pre-wrap;\n",
       "}\n",
       "</style>\n",
       "<small>shape: (10, 10)</small><table border=\"1\" class=\"dataframe\"><thead><tr><th>sales_ymd</th><th>sales_epoch</th><th>store_cd</th><th>receipt_no</th><th>receipt_sub_no</th><th>customer_id</th><th>product_cd</th><th>quantity</th><th>amount</th><th>store_name</th></tr><tr><td>i64</td><td>i64</td><td>str</td><td>i64</td><td>i64</td><td>str</td><td>str</td><td>i64</td><td>i64</td><td>str</td></tr></thead><tbody><tr><td>20181103</td><td>1541203200</td><td>&quot;S14006&quot;</td><td>112</td><td>1</td><td>&quot;CS006214000001&quot;</td><td>&quot;P070305012&quot;</td><td>1</td><td>158</td><td>&quot;葛が谷店&quot;</td></tr><tr><td>20181118</td><td>1542499200</td><td>&quot;S13008&quot;</td><td>1132</td><td>2</td><td>&quot;CS008415000097&quot;</td><td>&quot;P070701017&quot;</td><td>1</td><td>81</td><td>&quot;成城店&quot;</td></tr><tr><td>20170712</td><td>1499817600</td><td>&quot;S14028&quot;</td><td>1102</td><td>1</td><td>&quot;CS028414000014&quot;</td><td>&quot;P060101005&quot;</td><td>1</td><td>170</td><td>&quot;二ツ橋店&quot;</td></tr><tr><td>20190205</td><td>1549324800</td><td>&quot;S14042&quot;</td><td>1132</td><td>1</td><td>&quot;ZZ000000000000&quot;</td><td>&quot;P050301001&quot;</td><td>1</td><td>25</td><td>&quot;新山下店&quot;</td></tr><tr><td>20180821</td><td>1534809600</td><td>&quot;S14025&quot;</td><td>1102</td><td>2</td><td>&quot;CS025415000050&quot;</td><td>&quot;P060102007&quot;</td><td>1</td><td>90</td><td>&quot;大和店&quot;</td></tr><tr><td>20190605</td><td>1559692800</td><td>&quot;S13003&quot;</td><td>1112</td><td>1</td><td>&quot;CS003515000195&quot;</td><td>&quot;P050102002&quot;</td><td>1</td><td>138</td><td>&quot;狛江店&quot;</td></tr><tr><td>20181205</td><td>1543968000</td><td>&quot;S14024&quot;</td><td>1102</td><td>2</td><td>&quot;CS024514000042&quot;</td><td>&quot;P080101005&quot;</td><td>1</td><td>30</td><td>&quot;三田店&quot;</td></tr><tr><td>20190922</td><td>1569110400</td><td>&quot;S14040&quot;</td><td>1102</td><td>1</td><td>&quot;CS040415000178&quot;</td><td>&quot;P070501004&quot;</td><td>1</td><td>128</td><td>&quot;長津田店&quot;</td></tr><tr><td>20170504</td><td>1493856000</td><td>&quot;S13020&quot;</td><td>1112</td><td>2</td><td>&quot;ZZ000000000000&quot;</td><td>&quot;P071302010&quot;</td><td>1</td><td>770</td><td>&quot;十条仲原店&quot;</td></tr><tr><td>20191010</td><td>1570665600</td><td>&quot;S14027&quot;</td><td>1102</td><td>1</td><td>&quot;CS027514000015&quot;</td><td>&quot;P071101003&quot;</td><td>1</td><td>680</td><td>&quot;南藤沢店&quot;</td></tr></tbody></table></div>"
      ],
      "text/plain": [
       "shape: (10, 10)\n",
       "┌───────────┬────────────┬──────────┬────────────┬───┬────────────┬──────────┬────────┬────────────┐\n",
       "│ sales_ymd ┆ sales_epoc ┆ store_cd ┆ receipt_no ┆ … ┆ product_cd ┆ quantity ┆ amount ┆ store_name │\n",
       "│ ---       ┆ h          ┆ ---      ┆ ---        ┆   ┆ ---        ┆ ---      ┆ ---    ┆ ---        │\n",
       "│ i64       ┆ ---        ┆ str      ┆ i64        ┆   ┆ str        ┆ i64      ┆ i64    ┆ str        │\n",
       "│           ┆ i64        ┆          ┆            ┆   ┆            ┆          ┆        ┆            │\n",
       "╞═══════════╪════════════╪══════════╪════════════╪═══╪════════════╪══════════╪════════╪════════════╡\n",
       "│ 20181103  ┆ 1541203200 ┆ S14006   ┆ 112        ┆ … ┆ P070305012 ┆ 1        ┆ 158    ┆ 葛が谷店   │\n",
       "│ 20181118  ┆ 1542499200 ┆ S13008   ┆ 1132       ┆ … ┆ P070701017 ┆ 1        ┆ 81     ┆ 成城店     │\n",
       "│ 20170712  ┆ 1499817600 ┆ S14028   ┆ 1102       ┆ … ┆ P060101005 ┆ 1        ┆ 170    ┆ 二ツ橋店   │\n",
       "│ 20190205  ┆ 1549324800 ┆ S14042   ┆ 1132       ┆ … ┆ P050301001 ┆ 1        ┆ 25     ┆ 新山下店   │\n",
       "│ 20180821  ┆ 1534809600 ┆ S14025   ┆ 1102       ┆ … ┆ P060102007 ┆ 1        ┆ 90     ┆ 大和店     │\n",
       "│ 20190605  ┆ 1559692800 ┆ S13003   ┆ 1112       ┆ … ┆ P050102002 ┆ 1        ┆ 138    ┆ 狛江店     │\n",
       "│ 20181205  ┆ 1543968000 ┆ S14024   ┆ 1102       ┆ … ┆ P080101005 ┆ 1        ┆ 30     ┆ 三田店     │\n",
       "│ 20190922  ┆ 1569110400 ┆ S14040   ┆ 1102       ┆ … ┆ P070501004 ┆ 1        ┆ 128    ┆ 長津田店   │\n",
       "│ 20170504  ┆ 1493856000 ┆ S13020   ┆ 1112       ┆ … ┆ P071302010 ┆ 1        ┆ 770    ┆ 十条仲原店 │\n",
       "│ 20191010  ┆ 1570665600 ┆ S14027   ┆ 1102       ┆ … ┆ P071101003 ┆ 1        ┆ 680    ┆ 南藤沢店   │\n",
       "└───────────┴────────────┴──────────┴────────────┴───┴────────────┴──────────┴────────┴────────────┘"
      ]
     },
     "execution_count": 37,
     "metadata": {},
     "output_type": "execute_result"
    }
   ],
   "source": [
    "df_receipt.join(\n",
    "    df_store.select([\"store_cd\", \"store_name\"]),\n",
    "    on=\"store_cd\"\n",
    ").head(10)"
   ]
  },
  {
   "cell_type": "markdown",
   "metadata": {},
   "source": [
    "---\n",
    "> P-037: 商品データ（df_product）とカテゴリデータ（df_category）を内部結合し、商品データの全項目とカテゴリデータのカテゴリ小区分名（category_small_name）を10件表示せよ。"
   ]
  },
  {
   "cell_type": "code",
   "execution_count": 38,
   "metadata": {},
   "outputs": [
    {
     "data": {
      "text/html": [
       "<div><style>\n",
       ".dataframe > thead > tr,\n",
       ".dataframe > tbody > tr {\n",
       "  text-align: right;\n",
       "  white-space: pre-wrap;\n",
       "}\n",
       "</style>\n",
       "<small>shape: (10, 7)</small><table border=\"1\" class=\"dataframe\"><thead><tr><th>product_cd</th><th>category_major_cd</th><th>category_medium_cd</th><th>category_small_cd</th><th>unit_price</th><th>unit_cost</th><th>category_small_name</th></tr><tr><td>str</td><td>i64</td><td>i64</td><td>i64</td><td>i64</td><td>i64</td><td>str</td></tr></thead><tbody><tr><td>&quot;P040101001&quot;</td><td>4</td><td>401</td><td>40101</td><td>198</td><td>149</td><td>&quot;弁当類&quot;</td></tr><tr><td>&quot;P040101002&quot;</td><td>4</td><td>401</td><td>40101</td><td>218</td><td>164</td><td>&quot;弁当類&quot;</td></tr><tr><td>&quot;P040101003&quot;</td><td>4</td><td>401</td><td>40101</td><td>230</td><td>173</td><td>&quot;弁当類&quot;</td></tr><tr><td>&quot;P040101004&quot;</td><td>4</td><td>401</td><td>40101</td><td>248</td><td>186</td><td>&quot;弁当類&quot;</td></tr><tr><td>&quot;P040101005&quot;</td><td>4</td><td>401</td><td>40101</td><td>268</td><td>201</td><td>&quot;弁当類&quot;</td></tr><tr><td>&quot;P040101006&quot;</td><td>4</td><td>401</td><td>40101</td><td>298</td><td>224</td><td>&quot;弁当類&quot;</td></tr><tr><td>&quot;P040101007&quot;</td><td>4</td><td>401</td><td>40101</td><td>338</td><td>254</td><td>&quot;弁当類&quot;</td></tr><tr><td>&quot;P040101008&quot;</td><td>4</td><td>401</td><td>40101</td><td>420</td><td>315</td><td>&quot;弁当類&quot;</td></tr><tr><td>&quot;P040101009&quot;</td><td>4</td><td>401</td><td>40101</td><td>498</td><td>374</td><td>&quot;弁当類&quot;</td></tr><tr><td>&quot;P040101010&quot;</td><td>4</td><td>401</td><td>40101</td><td>580</td><td>435</td><td>&quot;弁当類&quot;</td></tr></tbody></table></div>"
      ],
      "text/plain": [
       "shape: (10, 7)\n",
       "┌────────────┬───────────────┬──────────────┬──────────────┬────────────┬───────────┬──────────────┐\n",
       "│ product_cd ┆ category_majo ┆ category_med ┆ category_sma ┆ unit_price ┆ unit_cost ┆ category_sma │\n",
       "│ ---        ┆ r_cd          ┆ ium_cd       ┆ ll_cd        ┆ ---        ┆ ---       ┆ ll_name      │\n",
       "│ str        ┆ ---           ┆ ---          ┆ ---          ┆ i64        ┆ i64       ┆ ---          │\n",
       "│            ┆ i64           ┆ i64          ┆ i64          ┆            ┆           ┆ str          │\n",
       "╞════════════╪═══════════════╪══════════════╪══════════════╪════════════╪═══════════╪══════════════╡\n",
       "│ P040101001 ┆ 4             ┆ 401          ┆ 40101        ┆ 198        ┆ 149       ┆ 弁当類       │\n",
       "│ P040101002 ┆ 4             ┆ 401          ┆ 40101        ┆ 218        ┆ 164       ┆ 弁当類       │\n",
       "│ P040101003 ┆ 4             ┆ 401          ┆ 40101        ┆ 230        ┆ 173       ┆ 弁当類       │\n",
       "│ P040101004 ┆ 4             ┆ 401          ┆ 40101        ┆ 248        ┆ 186       ┆ 弁当類       │\n",
       "│ P040101005 ┆ 4             ┆ 401          ┆ 40101        ┆ 268        ┆ 201       ┆ 弁当類       │\n",
       "│ P040101006 ┆ 4             ┆ 401          ┆ 40101        ┆ 298        ┆ 224       ┆ 弁当類       │\n",
       "│ P040101007 ┆ 4             ┆ 401          ┆ 40101        ┆ 338        ┆ 254       ┆ 弁当類       │\n",
       "│ P040101008 ┆ 4             ┆ 401          ┆ 40101        ┆ 420        ┆ 315       ┆ 弁当類       │\n",
       "│ P040101009 ┆ 4             ┆ 401          ┆ 40101        ┆ 498        ┆ 374       ┆ 弁当類       │\n",
       "│ P040101010 ┆ 4             ┆ 401          ┆ 40101        ┆ 580        ┆ 435       ┆ 弁当類       │\n",
       "└────────────┴───────────────┴──────────────┴──────────────┴────────────┴───────────┴──────────────┘"
      ]
     },
     "execution_count": 38,
     "metadata": {},
     "output_type": "execute_result"
    }
   ],
   "source": [
    "df_product.join(\n",
    "    df_category.select([\"category_small_cd\", \"category_small_name\"]),\n",
    "    on=\"category_small_cd\"\n",
    ").head(10)"
   ]
  },
  {
   "cell_type": "markdown",
   "metadata": {},
   "source": [
    "---\n",
    "> P-038: 顧客データ（df_customer）とレシート明細データ（df_receipt）から、顧客ごとの売上金額合計を求め、10件表示せよ。ただし、売上実績がない顧客については売上金額を0として表示させること。また、顧客は性別コード（gender_cd）が女性（1）であるものを対象とし、非会員（顧客IDが\"Z\"から始まるもの）は除外すること。"
   ]
  },
  {
   "cell_type": "code",
   "execution_count": 39,
   "metadata": {},
   "outputs": [
    {
     "data": {
      "text/html": [
       "<div><style>\n",
       ".dataframe > thead > tr,\n",
       ".dataframe > tbody > tr {\n",
       "  text-align: right;\n",
       "  white-space: pre-wrap;\n",
       "}\n",
       "</style>\n",
       "<small>shape: (10, 2)</small><table border=\"1\" class=\"dataframe\"><thead><tr><th>customer_id</th><th>amount</th></tr><tr><td>str</td><td>i64</td></tr></thead><tbody><tr><td>&quot;CS011515000105&quot;</td><td>3527</td></tr><tr><td>&quot;CS004411000036&quot;</td><td>836</td></tr><tr><td>&quot;CS018313000018&quot;</td><td>0</td></tr><tr><td>&quot;CS037412000159&quot;</td><td>0</td></tr><tr><td>&quot;CS024514000128&quot;</td><td>0</td></tr><tr><td>&quot;CS003712000074&quot;</td><td>0</td></tr><tr><td>&quot;CS015711000010&quot;</td><td>0</td></tr><tr><td>&quot;CS025415000134&quot;</td><td>4902</td></tr><tr><td>&quot;CS040515000008&quot;</td><td>3660</td></tr><tr><td>&quot;CS016514000082&quot;</td><td>1401</td></tr></tbody></table></div>"
      ],
      "text/plain": [
       "shape: (10, 2)\n",
       "┌────────────────┬────────┐\n",
       "│ customer_id    ┆ amount │\n",
       "│ ---            ┆ ---    │\n",
       "│ str            ┆ i64    │\n",
       "╞════════════════╪════════╡\n",
       "│ CS011515000105 ┆ 3527   │\n",
       "│ CS004411000036 ┆ 836    │\n",
       "│ CS018313000018 ┆ 0      │\n",
       "│ CS037412000159 ┆ 0      │\n",
       "│ CS024514000128 ┆ 0      │\n",
       "│ CS003712000074 ┆ 0      │\n",
       "│ CS015711000010 ┆ 0      │\n",
       "│ CS025415000134 ┆ 4902   │\n",
       "│ CS040515000008 ┆ 3660   │\n",
       "│ CS016514000082 ┆ 1401   │\n",
       "└────────────────┴────────┘"
      ]
     },
     "execution_count": 39,
     "metadata": {},
     "output_type": "execute_result"
    }
   ],
   "source": [
    "df_customer.filter(\n",
    "    (pl.col(\"customer_id\").str.slice(0, 1) != \"Z\")\n",
    "    & (pl.col(\"gender_cd\") == 1)\n",
    ").select([\"customer_id\"]).join(\n",
    "    df_receipt,\n",
    "    how=\"left\",\n",
    "    on=\"customer_id\",\n",
    ").group_by(\"customer_id\").agg(\n",
    "    pl.col(\"amount\").sum()\n",
    ").head(10)"
   ]
  },
  {
   "cell_type": "markdown",
   "metadata": {},
   "source": [
    "---\n",
    "> P-039: レシート明細データ（df_receipt）から、売上日数の多い顧客の上位20件を抽出したデータと、売上金額合計の多い顧客の上位20件を抽出したデータをそれぞれ作成し、さらにその2つを完全外部結合せよ。ただし、非会員（顧客IDが\"Z\"から始まるもの）は除外すること。"
   ]
  },
  {
   "cell_type": "code",
   "execution_count": 40,
   "metadata": {},
   "outputs": [
    {
     "name": "stderr",
     "output_type": "stream",
     "text": [
      "/var/folders/0v/bgp8lq497zv56786wpv238j40000gn/T/ipykernel_94250/1643022725.py:2: DeprecationWarning: Use of `how='outer'` should be replaced with `how='full'`.\n",
      "  df_filtered.group_by(\"customer_id\").agg(pl.col(\"sales_ymd\").n_unique()).sort(\"sales_ymd\", descending=True).head(20).join(\n"
     ]
    },
    {
     "data": {
      "text/html": [
       "<div><style>\n",
       ".dataframe > thead > tr,\n",
       ".dataframe > tbody > tr {\n",
       "  text-align: right;\n",
       "  white-space: pre-wrap;\n",
       "}\n",
       "</style>\n",
       "<small>shape: (34, 4)</small><table border=\"1\" class=\"dataframe\"><thead><tr><th>customer_id</th><th>sales_ymd</th><th>customer_id_right</th><th>amount</th></tr><tr><td>str</td><td>u32</td><td>str</td><td>i64</td></tr></thead><tbody><tr><td>&quot;CS017415000097&quot;</td><td>20</td><td>&quot;CS017415000097&quot;</td><td>23086</td></tr><tr><td>&quot;CS015415000185&quot;</td><td>22</td><td>&quot;CS015415000185&quot;</td><td>20153</td></tr><tr><td>&quot;CS031414000051&quot;</td><td>19</td><td>&quot;CS031414000051&quot;</td><td>19202</td></tr><tr><td>&quot;CS028415000007&quot;</td><td>21</td><td>&quot;CS028415000007&quot;</td><td>19127</td></tr><tr><td>null</td><td>null</td><td>&quot;CS001605000009&quot;</td><td>18925</td></tr><tr><td>&hellip;</td><td>&hellip;</td><td>&hellip;</td><td>&hellip;</td></tr><tr><td>&quot;CS021515000211&quot;</td><td>18</td><td>null</td><td>null</td></tr><tr><td>&quot;CS040214000008&quot;</td><td>23</td><td>null</td><td>null</td></tr><tr><td>&quot;CS021515000056&quot;</td><td>18</td><td>null</td><td>null</td></tr><tr><td>&quot;CS039414000052&quot;</td><td>19</td><td>null</td><td>null</td></tr><tr><td>&quot;CS022515000028&quot;</td><td>18</td><td>null</td><td>null</td></tr></tbody></table></div>"
      ],
      "text/plain": [
       "shape: (34, 4)\n",
       "┌────────────────┬───────────┬───────────────────┬────────┐\n",
       "│ customer_id    ┆ sales_ymd ┆ customer_id_right ┆ amount │\n",
       "│ ---            ┆ ---       ┆ ---               ┆ ---    │\n",
       "│ str            ┆ u32       ┆ str               ┆ i64    │\n",
       "╞════════════════╪═══════════╪═══════════════════╪════════╡\n",
       "│ CS017415000097 ┆ 20        ┆ CS017415000097    ┆ 23086  │\n",
       "│ CS015415000185 ┆ 22        ┆ CS015415000185    ┆ 20153  │\n",
       "│ CS031414000051 ┆ 19        ┆ CS031414000051    ┆ 19202  │\n",
       "│ CS028415000007 ┆ 21        ┆ CS028415000007    ┆ 19127  │\n",
       "│ null           ┆ null      ┆ CS001605000009    ┆ 18925  │\n",
       "│ …              ┆ …         ┆ …                 ┆ …      │\n",
       "│ CS021515000211 ┆ 18        ┆ null              ┆ null   │\n",
       "│ CS040214000008 ┆ 23        ┆ null              ┆ null   │\n",
       "│ CS021515000056 ┆ 18        ┆ null              ┆ null   │\n",
       "│ CS039414000052 ┆ 19        ┆ null              ┆ null   │\n",
       "│ CS022515000028 ┆ 18        ┆ null              ┆ null   │\n",
       "└────────────────┴───────────┴───────────────────┴────────┘"
      ]
     },
     "execution_count": 40,
     "metadata": {},
     "output_type": "execute_result"
    }
   ],
   "source": [
    "df_filtered = df_receipt.filter(pl.col(\"customer_id\").str.slice(0, 1) != \"Z\")\n",
    "df_filtered.group_by(\"customer_id\").agg(pl.col(\"sales_ymd\").n_unique()).sort(\"sales_ymd\", descending=True).head(20).join(\n",
    "    df_filtered.group_by(\"customer_id\").agg(pl.col(\"amount\").sum()).sort(\"amount\", descending=True).head(20),\n",
    "    on=\"customer_id\",\n",
    "    how=\"outer\"\n",
    ")"
   ]
  },
  {
   "cell_type": "markdown",
   "metadata": {},
   "source": [
    "---\n",
    "> P-040: 全ての店舗と全ての商品を組み合わせたデータを作成したい。店舗データ（df_store）と商品データ（df_product）を直積し、件数を計算せよ。"
   ]
  },
  {
   "cell_type": "code",
   "execution_count": 41,
   "metadata": {},
   "outputs": [
    {
     "data": {
      "text/html": [
       "<div><style>\n",
       ".dataframe > thead > tr,\n",
       ".dataframe > tbody > tr {\n",
       "  text-align: right;\n",
       "  white-space: pre-wrap;\n",
       "}\n",
       "</style>\n",
       "<small>shape: (531_590, 16)</small><table border=\"1\" class=\"dataframe\"><thead><tr><th>store_cd</th><th>store_name</th><th>prefecture_cd</th><th>prefecture</th><th>address</th><th>address_kana</th><th>tel_no</th><th>longitude</th><th>latitude</th><th>floor_area</th><th>product_cd</th><th>category_major_cd</th><th>category_medium_cd</th><th>category_small_cd</th><th>unit_price</th><th>unit_cost</th></tr><tr><td>str</td><td>str</td><td>i64</td><td>str</td><td>str</td><td>str</td><td>str</td><td>f64</td><td>f64</td><td>f64</td><td>str</td><td>i64</td><td>i64</td><td>i64</td><td>i64</td><td>i64</td></tr></thead><tbody><tr><td>&quot;S12014&quot;</td><td>&quot;千草台店&quot;</td><td>12</td><td>&quot;千葉県&quot;</td><td>&quot;千葉県千葉市稲毛区千草台一丁目&quot;</td><td>&quot;チバケンチバシイナゲクチグサダイイッチョウメ&quot;</td><td>&quot;043-123-4003&quot;</td><td>140.118</td><td>35.63559</td><td>1698.0</td><td>&quot;P040101001&quot;</td><td>4</td><td>401</td><td>40101</td><td>198</td><td>149</td></tr><tr><td>&quot;S12014&quot;</td><td>&quot;千草台店&quot;</td><td>12</td><td>&quot;千葉県&quot;</td><td>&quot;千葉県千葉市稲毛区千草台一丁目&quot;</td><td>&quot;チバケンチバシイナゲクチグサダイイッチョウメ&quot;</td><td>&quot;043-123-4003&quot;</td><td>140.118</td><td>35.63559</td><td>1698.0</td><td>&quot;P040101002&quot;</td><td>4</td><td>401</td><td>40101</td><td>218</td><td>164</td></tr><tr><td>&quot;S12014&quot;</td><td>&quot;千草台店&quot;</td><td>12</td><td>&quot;千葉県&quot;</td><td>&quot;千葉県千葉市稲毛区千草台一丁目&quot;</td><td>&quot;チバケンチバシイナゲクチグサダイイッチョウメ&quot;</td><td>&quot;043-123-4003&quot;</td><td>140.118</td><td>35.63559</td><td>1698.0</td><td>&quot;P040101003&quot;</td><td>4</td><td>401</td><td>40101</td><td>230</td><td>173</td></tr><tr><td>&quot;S12014&quot;</td><td>&quot;千草台店&quot;</td><td>12</td><td>&quot;千葉県&quot;</td><td>&quot;千葉県千葉市稲毛区千草台一丁目&quot;</td><td>&quot;チバケンチバシイナゲクチグサダイイッチョウメ&quot;</td><td>&quot;043-123-4003&quot;</td><td>140.118</td><td>35.63559</td><td>1698.0</td><td>&quot;P040101004&quot;</td><td>4</td><td>401</td><td>40101</td><td>248</td><td>186</td></tr><tr><td>&quot;S12014&quot;</td><td>&quot;千草台店&quot;</td><td>12</td><td>&quot;千葉県&quot;</td><td>&quot;千葉県千葉市稲毛区千草台一丁目&quot;</td><td>&quot;チバケンチバシイナゲクチグサダイイッチョウメ&quot;</td><td>&quot;043-123-4003&quot;</td><td>140.118</td><td>35.63559</td><td>1698.0</td><td>&quot;P040101005&quot;</td><td>4</td><td>401</td><td>40101</td><td>268</td><td>201</td></tr><tr><td>&hellip;</td><td>&hellip;</td><td>&hellip;</td><td>&hellip;</td><td>&hellip;</td><td>&hellip;</td><td>&hellip;</td><td>&hellip;</td><td>&hellip;</td><td>&hellip;</td><td>&hellip;</td><td>&hellip;</td><td>&hellip;</td><td>&hellip;</td><td>&hellip;</td><td>&hellip;</td></tr><tr><td>&quot;S14006&quot;</td><td>&quot;葛が谷店&quot;</td><td>14</td><td>&quot;神奈川県&quot;</td><td>&quot;神奈川県横浜市都筑区葛が谷&quot;</td><td>&quot;カナガワケンヨコハマシツヅキククズガヤ&quot;</td><td>&quot;045-123-4031&quot;</td><td>139.5633</td><td>35.53573</td><td>1886.0</td><td>&quot;P091503001&quot;</td><td>9</td><td>915</td><td>91503</td><td>280</td><td>210</td></tr><tr><td>&quot;S14006&quot;</td><td>&quot;葛が谷店&quot;</td><td>14</td><td>&quot;神奈川県&quot;</td><td>&quot;神奈川県横浜市都筑区葛が谷&quot;</td><td>&quot;カナガワケンヨコハマシツヅキククズガヤ&quot;</td><td>&quot;045-123-4031&quot;</td><td>139.5633</td><td>35.53573</td><td>1886.0</td><td>&quot;P091503002&quot;</td><td>9</td><td>915</td><td>91503</td><td>680</td><td>510</td></tr><tr><td>&quot;S14006&quot;</td><td>&quot;葛が谷店&quot;</td><td>14</td><td>&quot;神奈川県&quot;</td><td>&quot;神奈川県横浜市都筑区葛が谷&quot;</td><td>&quot;カナガワケンヨコハマシツヅキククズガヤ&quot;</td><td>&quot;045-123-4031&quot;</td><td>139.5633</td><td>35.53573</td><td>1886.0</td><td>&quot;P091503003&quot;</td><td>9</td><td>915</td><td>91503</td><td>1080</td><td>810</td></tr><tr><td>&quot;S14006&quot;</td><td>&quot;葛が谷店&quot;</td><td>14</td><td>&quot;神奈川県&quot;</td><td>&quot;神奈川県横浜市都筑区葛が谷&quot;</td><td>&quot;カナガワケンヨコハマシツヅキククズガヤ&quot;</td><td>&quot;045-123-4031&quot;</td><td>139.5633</td><td>35.53573</td><td>1886.0</td><td>&quot;P091503004&quot;</td><td>9</td><td>915</td><td>91503</td><td>1130</td><td>848</td></tr><tr><td>&quot;S14006&quot;</td><td>&quot;葛が谷店&quot;</td><td>14</td><td>&quot;神奈川県&quot;</td><td>&quot;神奈川県横浜市都筑区葛が谷&quot;</td><td>&quot;カナガワケンヨコハマシツヅキククズガヤ&quot;</td><td>&quot;045-123-4031&quot;</td><td>139.5633</td><td>35.53573</td><td>1886.0</td><td>&quot;P091503005&quot;</td><td>9</td><td>915</td><td>91503</td><td>1280</td><td>960</td></tr></tbody></table></div>"
      ],
      "text/plain": [
       "shape: (531_590, 16)\n",
       "┌──────────┬───────────┬───────────┬───────────┬───┬───────────┬───────────┬───────────┬───────────┐\n",
       "│ store_cd ┆ store_nam ┆ prefectur ┆ prefectur ┆ … ┆ category_ ┆ category_ ┆ unit_pric ┆ unit_cost │\n",
       "│ ---      ┆ e         ┆ e_cd      ┆ e         ┆   ┆ medium_cd ┆ small_cd  ┆ e         ┆ ---       │\n",
       "│ str      ┆ ---       ┆ ---       ┆ ---       ┆   ┆ ---       ┆ ---       ┆ ---       ┆ i64       │\n",
       "│          ┆ str       ┆ i64       ┆ str       ┆   ┆ i64       ┆ i64       ┆ i64       ┆           │\n",
       "╞══════════╪═══════════╪═══════════╪═══════════╪═══╪═══════════╪═══════════╪═══════════╪═══════════╡\n",
       "│ S12014   ┆ 千草台店  ┆ 12        ┆ 千葉県    ┆ … ┆ 401       ┆ 40101     ┆ 198       ┆ 149       │\n",
       "│ S12014   ┆ 千草台店  ┆ 12        ┆ 千葉県    ┆ … ┆ 401       ┆ 40101     ┆ 218       ┆ 164       │\n",
       "│ S12014   ┆ 千草台店  ┆ 12        ┆ 千葉県    ┆ … ┆ 401       ┆ 40101     ┆ 230       ┆ 173       │\n",
       "│ S12014   ┆ 千草台店  ┆ 12        ┆ 千葉県    ┆ … ┆ 401       ┆ 40101     ┆ 248       ┆ 186       │\n",
       "│ S12014   ┆ 千草台店  ┆ 12        ┆ 千葉県    ┆ … ┆ 401       ┆ 40101     ┆ 268       ┆ 201       │\n",
       "│ …        ┆ …         ┆ …         ┆ …         ┆ … ┆ …         ┆ …         ┆ …         ┆ …         │\n",
       "│ S14006   ┆ 葛が谷店  ┆ 14        ┆ 神奈川県  ┆ … ┆ 915       ┆ 91503     ┆ 280       ┆ 210       │\n",
       "│ S14006   ┆ 葛が谷店  ┆ 14        ┆ 神奈川県  ┆ … ┆ 915       ┆ 91503     ┆ 680       ┆ 510       │\n",
       "│ S14006   ┆ 葛が谷店  ┆ 14        ┆ 神奈川県  ┆ … ┆ 915       ┆ 91503     ┆ 1080      ┆ 810       │\n",
       "│ S14006   ┆ 葛が谷店  ┆ 14        ┆ 神奈川県  ┆ … ┆ 915       ┆ 91503     ┆ 1130      ┆ 848       │\n",
       "│ S14006   ┆ 葛が谷店  ┆ 14        ┆ 神奈川県  ┆ … ┆ 915       ┆ 91503     ┆ 1280      ┆ 960       │\n",
       "└──────────┴───────────┴───────────┴───────────┴───┴───────────┴───────────┴───────────┴───────────┘"
      ]
     },
     "execution_count": 41,
     "metadata": {},
     "output_type": "execute_result"
    }
   ],
   "source": [
    "df_store.join(df_product, how=\"cross\")"
   ]
  },
  {
   "cell_type": "markdown",
   "metadata": {},
   "source": [
    "---\n",
    "> P-041: レシート明細データ（df_receipt）の売上金額（amount）を日付（sales_ymd）ごとに集計し、前回売上があった日からの売上金額増減を計算せよ。そして結果を10件表示せよ。"
   ]
  },
  {
   "cell_type": "code",
   "execution_count": 42,
   "metadata": {},
   "outputs": [
    {
     "data": {
      "text/html": [
       "<div><style>\n",
       ".dataframe > thead > tr,\n",
       ".dataframe > tbody > tr {\n",
       "  text-align: right;\n",
       "  white-space: pre-wrap;\n",
       "}\n",
       "</style>\n",
       "<small>shape: (10, 3)</small><table border=\"1\" class=\"dataframe\"><thead><tr><th>sales_ymd</th><th>amount</th><th>diff</th></tr><tr><td>i64</td><td>i64</td><td>i64</td></tr></thead><tbody><tr><td>20170101</td><td>33723</td><td>null</td></tr><tr><td>20170102</td><td>24165</td><td>-9558</td></tr><tr><td>20170103</td><td>27503</td><td>3338</td></tr><tr><td>20170104</td><td>36165</td><td>8662</td></tr><tr><td>20170105</td><td>37830</td><td>1665</td></tr><tr><td>20170106</td><td>32387</td><td>-5443</td></tr><tr><td>20170107</td><td>23415</td><td>-8972</td></tr><tr><td>20170108</td><td>24737</td><td>1322</td></tr><tr><td>20170109</td><td>26718</td><td>1981</td></tr><tr><td>20170110</td><td>20143</td><td>-6575</td></tr></tbody></table></div>"
      ],
      "text/plain": [
       "shape: (10, 3)\n",
       "┌───────────┬────────┬───────┐\n",
       "│ sales_ymd ┆ amount ┆ diff  │\n",
       "│ ---       ┆ ---    ┆ ---   │\n",
       "│ i64       ┆ i64    ┆ i64   │\n",
       "╞═══════════╪════════╪═══════╡\n",
       "│ 20170101  ┆ 33723  ┆ null  │\n",
       "│ 20170102  ┆ 24165  ┆ -9558 │\n",
       "│ 20170103  ┆ 27503  ┆ 3338  │\n",
       "│ 20170104  ┆ 36165  ┆ 8662  │\n",
       "│ 20170105  ┆ 37830  ┆ 1665  │\n",
       "│ 20170106  ┆ 32387  ┆ -5443 │\n",
       "│ 20170107  ┆ 23415  ┆ -8972 │\n",
       "│ 20170108  ┆ 24737  ┆ 1322  │\n",
       "│ 20170109  ┆ 26718  ┆ 1981  │\n",
       "│ 20170110  ┆ 20143  ┆ -6575 │\n",
       "└───────────┴────────┴───────┘"
      ]
     },
     "execution_count": 42,
     "metadata": {},
     "output_type": "execute_result"
    }
   ],
   "source": [
    "df_receipt.group_by(\"sales_ymd\").agg(pl.col(\"amount\").sum()).sort(\"sales_ymd\").with_columns(pl.col(\"amount\").diff().alias(\"diff\")).head(10)"
   ]
  },
  {
   "cell_type": "markdown",
   "metadata": {},
   "source": [
    "---\n",
    "> P-042: レシート明細データ（df_receipt）の売上金額（amount）を日付（sales_ymd）ごとに集計し、各日付のデータに対し、前回、前々回、3回前に売上があった日のデータを結合せよ。そして結果を10件表示せよ。"
   ]
  },
  {
   "cell_type": "code",
   "execution_count": 43,
   "metadata": {},
   "outputs": [
    {
     "data": {
      "text/html": [
       "<div><style>\n",
       ".dataframe > thead > tr,\n",
       ".dataframe > tbody > tr {\n",
       "  text-align: right;\n",
       "  white-space: pre-wrap;\n",
       "}\n",
       "</style>\n",
       "<small>shape: (1_034, 5)</small><table border=\"1\" class=\"dataframe\"><thead><tr><th>sales_ymd</th><th>amount</th><th>diff_1</th><th>diff_2</th><th>diff_3</th></tr><tr><td>i64</td><td>i64</td><td>i64</td><td>i64</td><td>i64</td></tr></thead><tbody><tr><td>20170101</td><td>33723</td><td>null</td><td>null</td><td>null</td></tr><tr><td>20170102</td><td>24165</td><td>-9558</td><td>null</td><td>null</td></tr><tr><td>20170103</td><td>27503</td><td>3338</td><td>-6220</td><td>null</td></tr><tr><td>20170104</td><td>36165</td><td>8662</td><td>12000</td><td>2442</td></tr><tr><td>20170105</td><td>37830</td><td>1665</td><td>10327</td><td>13665</td></tr><tr><td>&hellip;</td><td>&hellip;</td><td>&hellip;</td><td>&hellip;</td><td>&hellip;</td></tr><tr><td>20191027</td><td>37484</td><td>-14287</td><td>8651</td><td>5616</td></tr><tr><td>20191028</td><td>40161</td><td>2677</td><td>-11610</td><td>11328</td></tr><tr><td>20191029</td><td>36091</td><td>-4070</td><td>-1393</td><td>-15680</td></tr><tr><td>20191030</td><td>26602</td><td>-9489</td><td>-13559</td><td>-10882</td></tr><tr><td>20191031</td><td>25216</td><td>-1386</td><td>-10875</td><td>-14945</td></tr></tbody></table></div>"
      ],
      "text/plain": [
       "shape: (1_034, 5)\n",
       "┌───────────┬────────┬────────┬────────┬────────┐\n",
       "│ sales_ymd ┆ amount ┆ diff_1 ┆ diff_2 ┆ diff_3 │\n",
       "│ ---       ┆ ---    ┆ ---    ┆ ---    ┆ ---    │\n",
       "│ i64       ┆ i64    ┆ i64    ┆ i64    ┆ i64    │\n",
       "╞═══════════╪════════╪════════╪════════╪════════╡\n",
       "│ 20170101  ┆ 33723  ┆ null   ┆ null   ┆ null   │\n",
       "│ 20170102  ┆ 24165  ┆ -9558  ┆ null   ┆ null   │\n",
       "│ 20170103  ┆ 27503  ┆ 3338   ┆ -6220  ┆ null   │\n",
       "│ 20170104  ┆ 36165  ┆ 8662   ┆ 12000  ┆ 2442   │\n",
       "│ 20170105  ┆ 37830  ┆ 1665   ┆ 10327  ┆ 13665  │\n",
       "│ …         ┆ …      ┆ …      ┆ …      ┆ …      │\n",
       "│ 20191027  ┆ 37484  ┆ -14287 ┆ 8651   ┆ 5616   │\n",
       "│ 20191028  ┆ 40161  ┆ 2677   ┆ -11610 ┆ 11328  │\n",
       "│ 20191029  ┆ 36091  ┆ -4070  ┆ -1393  ┆ -15680 │\n",
       "│ 20191030  ┆ 26602  ┆ -9489  ┆ -13559 ┆ -10882 │\n",
       "│ 20191031  ┆ 25216  ┆ -1386  ┆ -10875 ┆ -14945 │\n",
       "└───────────┴────────┴────────┴────────┴────────┘"
      ]
     },
     "execution_count": 43,
     "metadata": {},
     "output_type": "execute_result"
    }
   ],
   "source": [
    "df_receipt.group_by(\"sales_ymd\").agg(pl.col(\"amount\").sum()).sort(\"sales_ymd\") \\\n",
    "    .with_columns(pl.col(\"amount\").diff(n=1).alias(\"diff_1\")) \\\n",
    "    .with_columns(pl.col(\"amount\").diff(n=2).alias(\"diff_2\")) \\\n",
    "    .with_columns(pl.col(\"amount\").diff(n=3).alias(\"diff_3\"))"
   ]
  },
  {
   "cell_type": "markdown",
   "metadata": {},
   "source": [
    "---\n",
    "> P-043： レシート明細データ（df_receipt）と顧客データ（df_customer）を結合し、性別コード（gender_cd）と年代（ageから計算）ごとに売上金額（amount）を合計した売上サマリデータを作成せよ。性別コードは0が男性、1が女性、9が不明を表すものとする。\n",
    ">\n",
    "> ただし、項目構成は年代、女性の売上金額、男性の売上金額、性別不明の売上金額の4項目とすること（縦に年代、横に性別のクロス集計）。また、年代は10歳ごとの階級とすること。"
   ]
  },
  {
   "cell_type": "code",
   "execution_count": null,
   "metadata": {},
   "outputs": [],
   "source": []
  },
  {
   "cell_type": "markdown",
   "metadata": {},
   "source": [
    "---\n",
    "> P-044： 043で作成した売上サマリデータ（df_sales_summary）は性別の売上を横持ちさせたものであった。このデータから性別を縦持ちさせ、年代、性別コード、売上金額の3項目に変換せよ。ただし、性別コードは男性を\"00\"、女性を\"01\"、不明を\"99\"とする。"
   ]
  },
  {
   "cell_type": "code",
   "execution_count": null,
   "metadata": {},
   "outputs": [],
   "source": []
  },
  {
   "cell_type": "markdown",
   "metadata": {},
   "source": [
    "---\n",
    "> P-045: 顧客データ（df_customer）の生年月日（birth_day）は日付型でデータを保有している。これをYYYYMMDD形式の文字列に変換し、顧客ID（customer_id）とともに10件表示せよ。"
   ]
  },
  {
   "cell_type": "code",
   "execution_count": null,
   "metadata": {},
   "outputs": [],
   "source": []
  },
  {
   "cell_type": "markdown",
   "metadata": {},
   "source": [
    "---\n",
    "> P-046: 顧客データ（df_customer）の申し込み日（application_date）はYYYYMMDD形式の文字列型でデータを保有している。これを日付型に変換し、顧客ID（customer_id）とともに10件表示せよ。"
   ]
  },
  {
   "cell_type": "code",
   "execution_count": null,
   "metadata": {},
   "outputs": [],
   "source": []
  },
  {
   "cell_type": "markdown",
   "metadata": {},
   "source": [
    "---\n",
    "> P-047: レシート明細データ（df_receipt）の売上日（sales_ymd）はYYYYMMDD形式の数値型でデータを保有している。これを日付型に変換し、レシート番号（receipt_no）、レシートサブ番号（receipt_sub_no）とともに10件表示せよ。"
   ]
  },
  {
   "cell_type": "code",
   "execution_count": null,
   "metadata": {},
   "outputs": [],
   "source": []
  },
  {
   "cell_type": "markdown",
   "metadata": {},
   "source": [
    "---\n",
    "> P-048: レシート明細データ（df_receipt）の売上エポック秒（sales_epoch）は数値型のUNIX秒でデータを保有している。これを日付型に変換し、レシート番号(receipt_no)、レシートサブ番号（receipt_sub_no）とともに10件表示せよ。"
   ]
  },
  {
   "cell_type": "code",
   "execution_count": null,
   "metadata": {},
   "outputs": [],
   "source": []
  },
  {
   "cell_type": "markdown",
   "metadata": {},
   "source": [
    "---\n",
    "> P-049: レシート明細データ（df_receipt）の売上エポック秒（sales_epoch）を日付型に変換し、「年」だけ取り出してレシート番号(receipt_no)、レシートサブ番号（receipt_sub_no）とともに10件表示せよ。"
   ]
  },
  {
   "cell_type": "code",
   "execution_count": null,
   "metadata": {},
   "outputs": [],
   "source": []
  },
  {
   "cell_type": "markdown",
   "metadata": {},
   "source": [
    "---\n",
    "> P-050: レシート明細データ（df_receipt）の売上エポック秒（sales_epoch）を日付型に変換し、「月」だけ取り出してレシート番号(receipt_no)、レシートサブ番号（receipt_sub_no）とともに10件表示せよ。なお、「月」は0埋め2桁で取り出すこと。"
   ]
  },
  {
   "cell_type": "code",
   "execution_count": null,
   "metadata": {},
   "outputs": [],
   "source": []
  },
  {
   "cell_type": "markdown",
   "metadata": {},
   "source": [
    "---\n",
    "> P-051: レシート明細データ（df_receipt）の売上エポック秒を日付型に変換し、「日」だけ取り出してレシート番号(receipt_no)、レシートサブ番号（receipt_sub_no）とともに10件表示せよ。なお、「日」は0埋め2桁で取り出すこと。"
   ]
  },
  {
   "cell_type": "code",
   "execution_count": null,
   "metadata": {},
   "outputs": [],
   "source": []
  },
  {
   "cell_type": "markdown",
   "metadata": {},
   "source": [
    "---\n",
    "> P-052: レシート明細データ（df_receipt）の売上金額（amount）を顧客ID（customer_id）ごとに合計の上、売上金額合計に対して2,000円以下を0、2,000円より大きい金額を1に二値化し、顧客ID、売上金額合計とともに10件表示せよ。ただし、顧客IDが\"Z\"から始まるのものは非会員を表すため、除外して計算すること。"
   ]
  },
  {
   "cell_type": "code",
   "execution_count": null,
   "metadata": {},
   "outputs": [],
   "source": []
  },
  {
   "cell_type": "markdown",
   "metadata": {},
   "source": [
    "---\n",
    "> P-053: 顧客データ（df_customer）の郵便番号（postal_cd）に対し、東京（先頭3桁が100〜209のもの）を1、それ以外のものを0に二値化せよ。さらにレシート明細データ（df_receipt）と結合し、全期間において売上実績のある顧客数を、作成した二値ごとにカウントせよ。"
   ]
  },
  {
   "cell_type": "code",
   "execution_count": null,
   "metadata": {},
   "outputs": [],
   "source": []
  },
  {
   "cell_type": "markdown",
   "metadata": {},
   "source": [
    "---\n",
    "> P-054: 顧客データ（df_customer）の住所（address）は、埼玉県、千葉県、東京都、神奈川県のいずれかとなっている。都道府県毎にコード値を作成し、顧客ID、住所とともに10件表示せよ。値は埼玉県を11、千葉県を12、東京都を13、神奈川県を14とすること。"
   ]
  },
  {
   "cell_type": "code",
   "execution_count": null,
   "metadata": {},
   "outputs": [],
   "source": []
  },
  {
   "cell_type": "markdown",
   "metadata": {},
   "source": [
    "---\n",
    "> P-055: レシート明細（df_receipt）データの売上金額（amount）を顧客ID（customer_id）ごとに合計し、その合計金額の四分位点を求めよ。その上で、顧客ごとの売上金額合計に対して以下の基準でカテゴリ値を作成し、顧客ID、売上金額合計とともに10件表示せよ。カテゴリ値は順に1〜4とする。\n",
    ">\n",
    "> - 最小値以上第1四分位未満 ・・・ 1を付与\n",
    "> - 第1四分位以上第2四分位未満 ・・・ 2を付与\n",
    "> - 第2四分位以上第3四分位未満 ・・・ 3を付与\n",
    "> - 第3四分位以上 ・・・ 4を付与"
   ]
  },
  {
   "cell_type": "code",
   "execution_count": null,
   "metadata": {},
   "outputs": [],
   "source": []
  },
  {
   "cell_type": "markdown",
   "metadata": {},
   "source": [
    "---\n",
    "> P-056: 顧客データ（df_customer）の年齢（age）をもとに10歳刻みで年代を算出し、顧客ID（customer_id）、生年月日（birth_day）とともに10件表示せよ。ただし、60歳以上は全て60歳代とすること。年代を表すカテゴリ名は任意とする。"
   ]
  },
  {
   "cell_type": "code",
   "execution_count": null,
   "metadata": {},
   "outputs": [],
   "source": []
  },
  {
   "cell_type": "markdown",
   "metadata": {},
   "source": [
    "---\n",
    "> P-057: 056の抽出結果と性別コード（gender_cd）により、新たに性別×年代の組み合わせを表すカテゴリデータを作成し、10件表示せよ。組み合わせを表すカテゴリの値は任意とする。"
   ]
  },
  {
   "cell_type": "code",
   "execution_count": null,
   "metadata": {},
   "outputs": [],
   "source": []
  },
  {
   "cell_type": "markdown",
   "metadata": {},
   "source": [
    "---\n",
    "> P-058: 顧客データ（df_customer）の性別コード（gender_cd）をダミー変数化し、顧客ID（customer_id）とともに10件表示せよ。"
   ]
  },
  {
   "cell_type": "code",
   "execution_count": null,
   "metadata": {},
   "outputs": [],
   "source": []
  },
  {
   "cell_type": "markdown",
   "metadata": {},
   "source": [
    "---\n",
    "> P-059: レシート明細データ（df_receipt）の売上金額（amount）を顧客ID（customer_id）ごとに合計し、売上金額合計を平均0、標準偏差1に標準化して顧客ID、売上金額合計とともに10件表示せよ。標準化に使用する標準偏差は、分散の平方根、もしくは不偏分散の平方根のどちらでも良いものとする。ただし、顧客IDが\"Z\"から始まるのものは非会員を表すため、除外して計算すること。"
   ]
  },
  {
   "cell_type": "markdown",
   "metadata": {},
   "source": [
    "TIPS:\n",
    "- query()の引数engineで'python'か'numexpr'かを選択でき、デフォルトはインストールされていればnumexprが、無ければpythonが使われます。さらに、文字列メソッドはengine='python'でないとquery()内で使えません。\n"
   ]
  },
  {
   "cell_type": "code",
   "execution_count": null,
   "metadata": {},
   "outputs": [],
   "source": []
  },
  {
   "cell_type": "markdown",
   "metadata": {},
   "source": [
    "---\n",
    "> P-060: レシート明細データ（df_receipt）の売上金額（amount）を顧客ID（customer_id）ごとに合計し、売上金額合計を最小値0、最大値1に正規化して顧客ID、売上金額合計とともに10件表示せよ。ただし、顧客IDが\"Z\"から始まるのものは非会員を表すため、除外して計算すること。"
   ]
  },
  {
   "cell_type": "code",
   "execution_count": null,
   "metadata": {},
   "outputs": [],
   "source": []
  },
  {
   "cell_type": "markdown",
   "metadata": {},
   "source": [
    "---\n",
    "> P-061: レシート明細データ（df_receipt）の売上金額（amount）を顧客ID（customer_id）ごとに合計し、売上金額合計を常用対数化（底10）して顧客ID、売上金額合計とともに10件表示せよ。ただし、顧客IDが\"Z\"から始まるのものは非会員を表すため、除外して計算すること。"
   ]
  },
  {
   "cell_type": "code",
   "execution_count": null,
   "metadata": {},
   "outputs": [],
   "source": []
  },
  {
   "cell_type": "markdown",
   "metadata": {},
   "source": [
    "---\n",
    "> P-062: レシート明細データ（df_receipt）の売上金額（amount）を顧客ID（customer_id）ごとに合計し、売上金額合計を自然対数化（底e）して顧客ID、売上金額合計とともに10件表示せよ。ただし、顧客IDが\"Z\"から始まるのものは非会員を表すため、除外して計算すること。"
   ]
  },
  {
   "cell_type": "code",
   "execution_count": null,
   "metadata": {},
   "outputs": [],
   "source": []
  },
  {
   "cell_type": "markdown",
   "metadata": {},
   "source": [
    "---\n",
    "> P-063: 商品データ（df_product）の単価（unit_price）と原価（unit_cost）から各商品の利益額を算出し、結果を10件表示せよ。"
   ]
  },
  {
   "cell_type": "code",
   "execution_count": null,
   "metadata": {},
   "outputs": [],
   "source": []
  },
  {
   "cell_type": "markdown",
   "metadata": {},
   "source": [
    "---\n",
    "> P-064: 商品データ（df_product）の単価（unit_price）と原価（unit_cost）から、各商品の利益率の全体平均を算出せよ。ただし、単価と原価には欠損が生じていることに注意せよ。"
   ]
  },
  {
   "cell_type": "code",
   "execution_count": null,
   "metadata": {},
   "outputs": [],
   "source": []
  },
  {
   "cell_type": "markdown",
   "metadata": {},
   "source": [
    "---\n",
    "> P-065: 商品データ（df_product）の各商品について、利益率が30%となる新たな単価を求めよ。ただし、1円未満は切り捨てること。そして結果を10件表示させ、利益率がおよそ30％付近であることを確認せよ。ただし、単価（unit_price）と原価（unit_cost）には欠損が生じていることに注意せよ。"
   ]
  },
  {
   "cell_type": "code",
   "execution_count": null,
   "metadata": {},
   "outputs": [],
   "source": []
  },
  {
   "cell_type": "markdown",
   "metadata": {},
   "source": [
    "---\n",
    "> P-066: 商品データ（df_product）の各商品について、利益率が30%となる新たな単価を求めよ。今回は、1円未満を丸めること（四捨五入または偶数への丸めで良い）。そして結果を10件表示させ、利益率がおよそ30％付近であることを確認せよ。ただし、単価（unit_price）と原価（unit_cost）には欠損が生じていることに注意せよ。"
   ]
  },
  {
   "cell_type": "code",
   "execution_count": null,
   "metadata": {},
   "outputs": [],
   "source": []
  },
  {
   "cell_type": "markdown",
   "metadata": {},
   "source": [
    "---\n",
    "> P-067: 商品データ（df_product）の各商品について、利益率が30%となる新たな単価を求めよ。今回は、1円未満を切り上げること。そして結果を10件表示させ、利益率がおよそ30％付近であることを確認せよ。ただし、単価（unit_price）と原価（unit_cost）には欠損が生じていることに注意せよ。"
   ]
  },
  {
   "cell_type": "code",
   "execution_count": null,
   "metadata": {},
   "outputs": [],
   "source": []
  },
  {
   "cell_type": "markdown",
   "metadata": {},
   "source": [
    "---\n",
    "> P-068: 商品データ（df_product）の各商品について、消費税率10％の税込み金額を求めよ。1円未満の端数は切り捨てとし、結果を10件表示せよ。ただし、単価（unit_price）には欠損が生じていることに注意せよ。"
   ]
  },
  {
   "cell_type": "code",
   "execution_count": null,
   "metadata": {},
   "outputs": [],
   "source": []
  },
  {
   "cell_type": "markdown",
   "metadata": {},
   "source": [
    "---\n",
    "> P-069: レシート明細データ（df_receipt）と商品データ（df_product）を結合し、顧客毎に全商品の売上金額合計と、カテゴリ大区分コード（category_major_cd）が\"07\"（瓶詰缶詰）の売上金額合計を計算の上、両者の比率を求めよ。抽出対象はカテゴリ大区分コード\"07\"（瓶詰缶詰）の売上実績がある顧客のみとし、結果を10件表示せよ。"
   ]
  },
  {
   "cell_type": "code",
   "execution_count": null,
   "metadata": {},
   "outputs": [],
   "source": []
  },
  {
   "cell_type": "markdown",
   "metadata": {},
   "source": [
    "---\n",
    "> P-070: レシート明細データ（df_receipt）の売上日（sales_ymd）に対し、顧客データ（df_customer）の会員申込日（application_date）からの経過日数を計算し、顧客ID（customer_id）、売上日、会員申込日とともに10件表示せよ（sales_ymdは数値、application_dateは文字列でデータを保持している点に注意）。"
   ]
  },
  {
   "cell_type": "code",
   "execution_count": null,
   "metadata": {},
   "outputs": [],
   "source": []
  },
  {
   "cell_type": "markdown",
   "metadata": {},
   "source": [
    "---\n",
    "> P-071: レシート明細データ（df_receipt）の売上日（sales_ymd）に対し、顧客データ（df_customer）の会員申込日（application_date）からの経過月数を計算し、顧客ID（customer_id）、売上日、会員申込日とともに10件表示せよ（sales_ymdは数値、application_dateは文字列でデータを保持している点に注意）。1ヶ月未満は切り捨てること。"
   ]
  },
  {
   "cell_type": "code",
   "execution_count": null,
   "metadata": {},
   "outputs": [],
   "source": []
  },
  {
   "cell_type": "markdown",
   "metadata": {},
   "source": [
    "---\n",
    "> P-072: レシート明細データ（df_receipt）の売上日（df_customer）に対し、顧客データ（df_customer）の会員申込日（application_date）からの経過年数を計算し、顧客ID（customer_id）、売上日、会員申込日とともに10件表示せよ（sales_ymdは数値、application_dateは文字列でデータを保持している点に注意）。1年未満は切り捨てること。"
   ]
  },
  {
   "cell_type": "code",
   "execution_count": null,
   "metadata": {},
   "outputs": [],
   "source": []
  },
  {
   "cell_type": "markdown",
   "metadata": {},
   "source": [
    "---\n",
    "> P-073: レシート明細データ（df_receipt）の売上日（sales_ymd）に対し、顧客データ（df_customer）の会員申込日（application_date）からのエポック秒による経過時間を計算し、顧客ID（customer_id）、売上日、会員申込日とともに10件表示せよ（なお、sales_ymdは数値、application_dateは文字列でデータを保持している点に注意）。なお、時間情報は保有していないため各日付は0時0分0秒を表すものとする。"
   ]
  },
  {
   "cell_type": "code",
   "execution_count": null,
   "metadata": {},
   "outputs": [],
   "source": []
  },
  {
   "cell_type": "markdown",
   "metadata": {},
   "source": [
    "---\n",
    "> P-074: レシート明細データ（df_receipt）の売上日（sales_ymd）に対し、当該週の月曜日からの経過日数を計算し、売上日、直前の月曜日付とともに10件表示せよ（sales_ymdは数値でデータを保持している点に注意）。"
   ]
  },
  {
   "cell_type": "code",
   "execution_count": null,
   "metadata": {},
   "outputs": [],
   "source": []
  },
  {
   "cell_type": "markdown",
   "metadata": {},
   "source": [
    "---\n",
    "> P-075: 顧客データ（df_customer）からランダムに1%のデータを抽出し、先頭から10件表示せよ。"
   ]
  },
  {
   "cell_type": "code",
   "execution_count": null,
   "metadata": {},
   "outputs": [],
   "source": []
  },
  {
   "cell_type": "markdown",
   "metadata": {},
   "source": [
    "---\n",
    "> P-076: 顧客データ（df_customer）から性別コード（gender_cd）の割合に基づきランダムに10%のデータを層化抽出し、性別コードごとに件数を集計せよ。"
   ]
  },
  {
   "cell_type": "code",
   "execution_count": null,
   "metadata": {},
   "outputs": [],
   "source": []
  },
  {
   "cell_type": "markdown",
   "metadata": {},
   "source": [
    "---\n",
    "> P-077: レシート明細データ（df_receipt）の売上金額を顧客単位に合計し、合計した売上金額の外れ値を抽出せよ。なお、外れ値は売上金額合計を対数化したうえで平均と標準偏差を計算し、その平均から3σを超えて離れたものとする（自然対数と常用対数のどちらでも可）。結果は10件表示せよ。"
   ]
  },
  {
   "cell_type": "code",
   "execution_count": null,
   "metadata": {},
   "outputs": [],
   "source": []
  },
  {
   "cell_type": "markdown",
   "metadata": {},
   "source": [
    "---\n",
    "> P-078: レシート明細データ（df_receipt）の売上金額（amount）を顧客単位に合計し、合計した売上金額の外れ値を抽出せよ。ただし、顧客IDが\"Z\"から始まるのものは非会員を表すため、除外して計算すること。なお、ここでは外れ値を第1四分位と第3四分位の差であるIQRを用いて、「第1四分位数-1.5×IQR」を下回るもの、または「第3四分位数+1.5×IQR」を超えるものとする。結果は10件表示せよ。"
   ]
  },
  {
   "cell_type": "code",
   "execution_count": null,
   "metadata": {},
   "outputs": [],
   "source": []
  },
  {
   "cell_type": "markdown",
   "metadata": {},
   "source": [
    "---\n",
    "> P-079: 商品データ（df_product）の各項目に対し、欠損数を確認せよ。"
   ]
  },
  {
   "cell_type": "code",
   "execution_count": null,
   "metadata": {},
   "outputs": [],
   "source": []
  },
  {
   "cell_type": "markdown",
   "metadata": {},
   "source": [
    "---\n",
    "> P-080: 商品データ（df_product）のいずれかの項目に欠損が発生しているレコードを全て削除した新たな商品データを作成せよ。なお、削除前後の件数を表示させ、079で確認した件数だけ減少していることも確認すること。"
   ]
  },
  {
   "cell_type": "code",
   "execution_count": null,
   "metadata": {},
   "outputs": [],
   "source": []
  },
  {
   "cell_type": "markdown",
   "metadata": {},
   "source": [
    "---\n",
    "> P-081: 単価（unit_price）と原価（unit_cost）の欠損値について、それぞれの平均値で補完した新たな商品データを作成せよ。なお、平均値については1円未満を丸めること（四捨五入または偶数への丸めで良い）。補完実施後、各項目について欠損が生じていないことも確認すること。"
   ]
  },
  {
   "cell_type": "code",
   "execution_count": null,
   "metadata": {},
   "outputs": [],
   "source": []
  },
  {
   "cell_type": "markdown",
   "metadata": {
    "tags": []
   },
   "source": [
    "---\n",
    "> P-082: 単価（unit_price）と原価（unit_cost）の欠損値について、それぞれの中央値で補完した新たな商品データを作成せよ。なお、中央値については1円未満を丸めること（四捨五入または偶数への丸めで良い）。補完実施後、各項目について欠損が生じていないことも確認すること。"
   ]
  },
  {
   "cell_type": "code",
   "execution_count": null,
   "metadata": {},
   "outputs": [],
   "source": []
  },
  {
   "cell_type": "markdown",
   "metadata": {},
   "source": [
    "---\n",
    "> P-083: 単価（unit_price）と原価（unit_cost）の欠損値について、各商品のカテゴリ小区分コード（category_small_cd）ごとに算出した中央値で補完した新たな商品データを作成せよ。なお、中央値については1円未満を丸めること（四捨五入または偶数への丸めで良い）。補完実施後、各項目について欠損が生じていないことも確認すること。"
   ]
  },
  {
   "cell_type": "code",
   "execution_count": null,
   "metadata": {},
   "outputs": [],
   "source": []
  },
  {
   "cell_type": "markdown",
   "metadata": {},
   "source": [
    "---\n",
    "> P-084: 顧客データ（df_customer）の全顧客に対して全期間の売上金額に占める2019年売上金額の割合を計算し、新たなデータを作成せよ。ただし、売上実績がない場合は0として扱うこと。そして計算した割合が0超のものを抽出し、結果を10件表示せよ。また、作成したデータに欠損が存在しないことを確認せよ。"
   ]
  },
  {
   "cell_type": "code",
   "execution_count": null,
   "metadata": {},
   "outputs": [],
   "source": []
  },
  {
   "cell_type": "markdown",
   "metadata": {},
   "source": [
    "---\n",
    "> P-085: 顧客データ（df_customer）の全顧客に対し、郵便番号（postal_cd）を用いてジオコードデータ（df_geocode）を紐付け、新たな顧客データを作成せよ。ただし、1つの郵便番号（postal_cd）に複数の経度（longitude）、緯度（latitude）情報が紐づく場合は、経度（longitude）、緯度（latitude）の平均値を算出して使用すること。また、作成結果を確認するために結果を10件表示せよ。"
   ]
  },
  {
   "cell_type": "code",
   "execution_count": null,
   "metadata": {},
   "outputs": [],
   "source": []
  },
  {
   "cell_type": "markdown",
   "metadata": {},
   "source": [
    "---\n",
    "> P-086: 085で作成した緯度経度つき顧客データに対し、会員申込店舗コード（application_store_cd）をキーに店舗データ（df_store）と結合せよ。そして申込み店舗の緯度（latitude）・経度情報（longitude)と顧客住所（address）の緯度・経度を用いて申込み店舗と顧客住所の距離（単位：km）を求め、顧客ID（customer_id）、顧客住所（address）、店舗住所（address）とともに表示せよ。計算式は以下の簡易式で良いものとするが、その他精度の高い方式を利用したライブラリを利用してもかまわない。結果は10件表示せよ。\n",
    "\n",
    "$$\n",
    "\\mbox{緯度（ラジアン）}：\\phi \\\\\n",
    "\\mbox{経度（ラジアン）}：\\lambda \\\\\n",
    "\\mbox{距離}L = 6371 * \\arccos(\\sin \\phi_1 * \\sin \\phi_2\n",
    "+ \\cos \\phi_1 * \\cos \\phi_2 * \\cos(\\lambda_1 − \\lambda_2))\n",
    "$$"
   ]
  },
  {
   "cell_type": "code",
   "execution_count": null,
   "metadata": {},
   "outputs": [],
   "source": []
  },
  {
   "cell_type": "markdown",
   "metadata": {},
   "source": [
    "---\n",
    "> P-087: 顧客データ（df_customer）では、異なる店舗での申込みなどにより同一顧客が複数登録されている。名前（customer_name）と郵便番号（postal_cd）が同じ顧客は同一顧客とみなして1顧客1レコードとなるように名寄せした名寄顧客データを作成し、顧客データの件数、名寄顧客データの件数、重複数を算出せよ。ただし、同一顧客に対しては売上金額合計が最も高いものを残し、売上金額合計が同一もしくは売上実績がない顧客については顧客ID（customer_id）の番号が小さいものを残すこととする。"
   ]
  },
  {
   "cell_type": "code",
   "execution_count": null,
   "metadata": {},
   "outputs": [],
   "source": []
  },
  {
   "cell_type": "markdown",
   "metadata": {},
   "source": [
    "---\n",
    "> P-088: 087で作成したデータを元に、顧客データに統合名寄IDを付与したデータを作成せよ。ただし、統合名寄IDは以下の仕様で付与するものとする。\n",
    ">\n",
    "> - 重複していない顧客：顧客ID（customer_id）を設定\n",
    "> - 重複している顧客：前設問で抽出したレコードの顧客IDを設定\n",
    "> \n",
    "> 顧客IDのユニーク件数と、統合名寄IDのユニーク件数の差も確認すること。"
   ]
  },
  {
   "cell_type": "code",
   "execution_count": null,
   "metadata": {},
   "outputs": [],
   "source": []
  },
  {
   "cell_type": "markdown",
   "metadata": {},
   "source": [
    "---\n",
    "> P-089: 売上実績がある顧客を、予測モデル構築のため学習用データとテスト用データに分割したい。それぞれ8:2の割合でランダムにデータを分割せよ。"
   ]
  },
  {
   "cell_type": "code",
   "execution_count": null,
   "metadata": {},
   "outputs": [],
   "source": []
  },
  {
   "cell_type": "markdown",
   "metadata": {},
   "source": [
    "---\n",
    "> P-090: レシート明細データ（df_receipt）は2017年1月1日〜2019年10月31日までのデータを有している。売上金額（amount）を月次で集計し、学習用に12ヶ月、テスト用に6ヶ月の時系列モデル構築用データを3セット作成せよ。"
   ]
  },
  {
   "cell_type": "code",
   "execution_count": null,
   "metadata": {},
   "outputs": [],
   "source": []
  },
  {
   "cell_type": "markdown",
   "metadata": {},
   "source": [
    "---\n",
    "> P-091: 顧客データ（df_customer）の各顧客に対し、売上実績がある顧客数と売上実績がない顧客数が1:1となるようにアンダーサンプリングで抽出せよ。"
   ]
  },
  {
   "cell_type": "code",
   "execution_count": null,
   "metadata": {},
   "outputs": [],
   "source": []
  },
  {
   "cell_type": "markdown",
   "metadata": {},
   "source": [
    "---\n",
    "> P-092: 顧客データ（df_customer）の性別について、第三正規形へと正規化せよ。"
   ]
  },
  {
   "cell_type": "code",
   "execution_count": null,
   "metadata": {},
   "outputs": [],
   "source": []
  },
  {
   "cell_type": "markdown",
   "metadata": {},
   "source": [
    "---\n",
    "> P-093: 商品データ（df_product）では各カテゴリのコード値だけを保有し、カテゴリ名は保有していない。カテゴリデータ（df_category）と組み合わせて非正規化し、カテゴリ名を保有した新たな商品データを作成せよ。"
   ]
  },
  {
   "cell_type": "code",
   "execution_count": null,
   "metadata": {},
   "outputs": [],
   "source": []
  },
  {
   "cell_type": "markdown",
   "metadata": {},
   "source": [
    "---\n",
    "> P-094: 093で作成したカテゴリ名付き商品データを以下の仕様でファイル出力せよ。\n",
    ">\n",
    "> |ファイル形式|ヘッダ有無|文字エンコーディング|\n",
    "> |:--:|:--:|:--:|\n",
    "> |CSV（カンマ区切り）|有り|UTF-8|\n",
    "> \n",
    "> ファイル出力先のパスは以下のようにすること\n",
    "> \n",
    "> |出力先|\n",
    "> |:--:|\n",
    "> |./data|"
   ]
  },
  {
   "cell_type": "code",
   "execution_count": null,
   "metadata": {},
   "outputs": [],
   "source": []
  },
  {
   "cell_type": "markdown",
   "metadata": {},
   "source": [
    "---\n",
    "> P-095: 093で作成したカテゴリ名付き商品データを以下の仕様でファイル出力せよ。\n",
    ">\n",
    "> |ファイル形式|ヘッダ有無|文字エンコーディング|\n",
    "> |:--:|:--:|:--:|\n",
    "> |CSV（カンマ区切り）|有り|CP932|\n",
    "> \n",
    "> ファイル出力先のパスは以下のようにすること。\n",
    "> \n",
    "> |出力先|\n",
    "> |:--:|\n",
    "> |./data|"
   ]
  },
  {
   "cell_type": "code",
   "execution_count": null,
   "metadata": {},
   "outputs": [],
   "source": []
  },
  {
   "cell_type": "markdown",
   "metadata": {},
   "source": [
    "---\n",
    "> P-096: 093で作成したカテゴリ名付き商品データを以下の仕様でファイル出力せよ。\n",
    ">\n",
    "> |ファイル形式|ヘッダ有無|文字エンコーディング|\n",
    "> |:--:|:--:|:--:|\n",
    "> |CSV（カンマ区切り）|無し|UTF-8|\n",
    "> \n",
    "> ファイル出力先のパスは以下のようにすること。\n",
    "> \n",
    "> |出力先|\n",
    "> |:--:|\n",
    "> |./data|"
   ]
  },
  {
   "cell_type": "code",
   "execution_count": null,
   "metadata": {},
   "outputs": [],
   "source": []
  },
  {
   "cell_type": "markdown",
   "metadata": {},
   "source": [
    "---\n",
    "> P-097: 094で作成した以下形式のファイルを読み込み、データを3件を表示させて正しく取り込まれていることを確認せよ。\n",
    "> \n",
    "> |ファイル形式|ヘッダ有無|文字エンコーディング|\n",
    "> |:--:|:--:|:--:|\n",
    "> |CSV（カンマ区切り）|有り|UTF-8|"
   ]
  },
  {
   "cell_type": "code",
   "execution_count": null,
   "metadata": {},
   "outputs": [],
   "source": []
  },
  {
   "cell_type": "markdown",
   "metadata": {},
   "source": [
    "---\n",
    "> P-098: 096で作成した以下形式のファイルを読み込み、データを3件を表示させて正しく取り込まれていることを確認せよ。\n",
    "> \n",
    "> |ファイル形式|ヘッダ有無|文字エンコーディング|\n",
    "> |:--:|:--:|:--:|\n",
    "> |CSV（カンマ区切り）|ヘッダ無し|UTF-8|"
   ]
  },
  {
   "cell_type": "code",
   "execution_count": null,
   "metadata": {},
   "outputs": [],
   "source": []
  },
  {
   "cell_type": "markdown",
   "metadata": {},
   "source": [
    "---\n",
    "> P-099: 093で作成したカテゴリ名付き商品データを以下の仕様でファイル出力せよ。\n",
    ">\n",
    "> |ファイル形式|ヘッダ有無|文字エンコーディング|\n",
    "> |:--:|:--:|:--:|\n",
    "> |TSV（タブ区切り）|有り|UTF-8|\n",
    "> \n",
    "> ファイル出力先のパスは以下のようにすること\n",
    "> \n",
    "> |出力先|\n",
    "> |:--:|\n",
    "> |./data|"
   ]
  },
  {
   "cell_type": "code",
   "execution_count": null,
   "metadata": {},
   "outputs": [],
   "source": []
  },
  {
   "cell_type": "markdown",
   "metadata": {},
   "source": [
    "---\n",
    "> P-100: 099で作成した以下形式のファイルを読み込み、データを3件を表示させて正しく取り込まれていることを確認せよ。\n",
    "> \n",
    "> |ファイル形式|ヘッダ有無|文字エンコーディング|\n",
    "> |:--:|:--:|:--:|\n",
    "> |TSV（タブ区切り）|有り|UTF-8|"
   ]
  },
  {
   "cell_type": "code",
   "execution_count": null,
   "metadata": {},
   "outputs": [],
   "source": []
  },
  {
   "cell_type": "markdown",
   "metadata": {},
   "source": [
    "# これで１００本終わりです。おつかれさまでした！"
   ]
  }
 ],
 "metadata": {
  "kernelspec": {
   "display_name": "Python 3 (ipykernel)",
   "language": "python",
   "name": "python3"
  },
  "language_info": {
   "codemirror_mode": {
    "name": "ipython",
    "version": 3
   },
   "file_extension": ".py",
   "mimetype": "text/x-python",
   "name": "python",
   "nbconvert_exporter": "python",
   "pygments_lexer": "ipython3",
   "version": "3.10.9"
  }
 },
 "nbformat": 4,
 "nbformat_minor": 4
}
